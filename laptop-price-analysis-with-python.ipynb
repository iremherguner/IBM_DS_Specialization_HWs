{
 "cells": [
  {
   "cell_type": "markdown",
   "id": "41fc2a32",
   "metadata": {
    "papermill": {
     "duration": 0.008903,
     "end_time": "2024-05-07T05:22:15.342658",
     "exception": false,
     "start_time": "2024-05-07T05:22:15.333755",
     "status": "completed"
    },
    "tags": []
   },
   "source": [
    "<p style=\"text-align:center\">\n",
    "    <a href=\"https://skills.network\" target=\"_blank\">\n",
    "    <img src=\"https://cf-courses-data.s3.us.cloud-object-storage.appdomain.cloud/assets/logos/SN_web_lightmode.png\" width=\"300\" alt=\"Skills Network Logo\">\n",
    "    </a>\n",
    "</p>\n"
   ]
  },
  {
   "cell_type": "markdown",
   "id": "69a5361a",
   "metadata": {
    "papermill": {
     "duration": 0.007681,
     "end_time": "2024-05-07T05:22:15.358635",
     "exception": false,
     "start_time": "2024-05-07T05:22:15.350954",
     "status": "completed"
    },
    "tags": []
   },
   "source": [
    "# **Hands-on lab: Exploratory Data Analysis - Laptops Pricing dataset**\n",
    "\n",
    "Estimated time needed: **45** minutes\n",
    "\n",
    "In this lab, you will use the skills acquired throughout the module, to explore the effect of different features on the price of laptops. \n"
   ]
  },
  {
   "cell_type": "markdown",
   "id": "300f3bca",
   "metadata": {
    "papermill": {
     "duration": 0.007703,
     "end_time": "2024-05-07T05:22:15.374380",
     "exception": false,
     "start_time": "2024-05-07T05:22:15.366677",
     "status": "completed"
    },
    "tags": []
   },
   "source": [
    "# Objectives\n",
    "\n",
    "After completing this lab you will be able to:\n",
    "\n",
    " - Visualize individual feature patterns\n",
    " - Run descriptive statistical analysis on the dataset\n",
    " - Use groups and pivot tables to find the effect of categorical variables on price\n",
    " - Use Pearson Correlation to measure the interdependence between variables\n"
   ]
  },
  {
   "cell_type": "markdown",
   "id": "999e251a",
   "metadata": {
    "papermill": {
     "duration": 0.007972,
     "end_time": "2024-05-07T05:22:15.390345",
     "exception": false,
     "start_time": "2024-05-07T05:22:15.382373",
     "status": "completed"
    },
    "tags": []
   },
   "source": [
    "# Setup\n"
   ]
  },
  {
   "cell_type": "markdown",
   "id": "fcb4b48a",
   "metadata": {
    "papermill": {
     "duration": 0.007623,
     "end_time": "2024-05-07T05:22:15.407608",
     "exception": false,
     "start_time": "2024-05-07T05:22:15.399985",
     "status": "completed"
    },
    "tags": []
   },
   "source": [
    "For this lab, we will be using the following libraries:\n",
    "\n",
    "* `skillsnetwork` for downloading the data\n",
    "*   [`pandas`](https://pandas.pydata.org/?utm_medium=Exinfluencer&utm_source=Exinfluencer&utm_content=000026UJ&utm_term=10006555&utm_id=NA-SkillsNetwork-Channel-SkillsNetworkCoursesIBMML0187ENSkillsNetwork31430127-2021-01-01) for managing the data.\n",
    "*   [`numpy`](https://numpy.org/?utm_medium=Exinfluencer&utm_source=Exinfluencer&utm_content=000026UJ&utm_term=10006555&utm_id=NA-SkillsNetwork-Channel-SkillsNetworkCoursesIBMML0187ENSkillsNetwork31430127-2021-01-01) for mathematical operations.\n",
    "*   [`scipy`](https://docs.scipy.org/doc/scipy/?utm_medium=Exinfluencer&utm_source=Exinfluencer&utm_content=000026UJ&utm_term=10006555&utm_id=NA-SkillsNetwork-Channel-SkillsNetworkCoursesIBMML0187ENSkillsNetwork31430127-2021-01-01) for statistical operations.\n",
    "*   [`seaborn`](https://seaborn.pydata.org/?utm_medium=Exinfluencer&utm_source=Exinfluencer&utm_content=000026UJ&utm_term=10006555&utm_id=NA-SkillsNetwork-Channel-SkillsNetworkCoursesIBMML0187ENSkillsNetwork31430127-2021-01-01) for visualizing the data.\n",
    "*   [`matplotlib`](https://matplotlib.org/?utm_medium=Exinfluencer&utm_source=Exinfluencer&utm_content=000026UJ&utm_term=10006555&utm_id=NA-SkillsNetwork-Channel-SkillsNetworkCoursesIBMML0187ENSkillsNetwork31430127-2021-01-01) for additional plotting tools.\n"
   ]
  },
  {
   "cell_type": "markdown",
   "id": "17fd8f54",
   "metadata": {
    "papermill": {
     "duration": 0.007607,
     "end_time": "2024-05-07T05:22:15.423195",
     "exception": false,
     "start_time": "2024-05-07T05:22:15.415588",
     "status": "completed"
    },
    "tags": []
   },
   "source": [
    "# Install Required Libraries\n",
    "\n",
    "You can install the required libraries by simply running the `pip install` command with a `%` sign before it. For this environment, `seaborn` library requires installation.\n"
   ]
  },
  {
   "cell_type": "markdown",
   "id": "a4bd5d47",
   "metadata": {
    "papermill": {
     "duration": 0.007475,
     "end_time": "2024-05-07T05:22:15.439498",
     "exception": false,
     "start_time": "2024-05-07T05:22:15.432023",
     "status": "completed"
    },
    "tags": []
   },
   "source": [
    "### Importing Required Libraries\n",
    "\n",
    "_We recommend you import all required libraries in one place (here):_\n"
   ]
  },
  {
   "cell_type": "code",
   "execution_count": 1,
   "id": "43e22f0e",
   "metadata": {
    "execution": {
     "iopub.execute_input": "2024-05-07T05:22:15.457177Z",
     "iopub.status.busy": "2024-05-07T05:22:15.456719Z",
     "iopub.status.idle": "2024-05-07T05:22:17.593711Z",
     "shell.execute_reply": "2024-05-07T05:22:17.592544Z"
    },
    "papermill": {
     "duration": 2.149359,
     "end_time": "2024-05-07T05:22:17.596723",
     "exception": false,
     "start_time": "2024-05-07T05:22:15.447364",
     "status": "completed"
    },
    "tags": []
   },
   "outputs": [],
   "source": [
    "import numpy as np\n",
    "import pandas as pd\n",
    "import matplotlib.pyplot as plt\n",
    "import seaborn as sns\n",
    "from scipy import stats\n",
    "%matplotlib inline"
   ]
  },
  {
   "cell_type": "markdown",
   "id": "e459cd5a",
   "metadata": {
    "papermill": {
     "duration": 0.007789,
     "end_time": "2024-05-07T05:22:17.612765",
     "exception": false,
     "start_time": "2024-05-07T05:22:17.604976",
     "status": "completed"
    },
    "tags": []
   },
   "source": [
    "# Import the dataset\n",
    "\n",
    "You should download the modified version of the data set from the last module. \n",
    "Run the following code block to download the CSV file to this environment.\n",
    "\n",
    "\n",
    "The functions below will download the dataset into your browser:\n"
   ]
  },
  {
   "cell_type": "markdown",
   "id": "de4155f4",
   "metadata": {
    "papermill": {
     "duration": 0.007698,
     "end_time": "2024-05-07T05:22:17.629001",
     "exception": false,
     "start_time": "2024-05-07T05:22:17.621303",
     "status": "completed"
    },
    "tags": []
   },
   "source": [
    "Import the file to a pandas dataframe.\n"
   ]
  },
  {
   "cell_type": "code",
   "execution_count": 2,
   "id": "ffe66bca",
   "metadata": {
    "execution": {
     "iopub.execute_input": "2024-05-07T05:22:17.646996Z",
     "iopub.status.busy": "2024-05-07T05:22:17.646455Z",
     "iopub.status.idle": "2024-05-07T05:22:17.670530Z",
     "shell.execute_reply": "2024-05-07T05:22:17.669135Z"
    },
    "papermill": {
     "duration": 0.036023,
     "end_time": "2024-05-07T05:22:17.673212",
     "exception": false,
     "start_time": "2024-05-07T05:22:17.637189",
     "status": "completed"
    },
    "tags": []
   },
   "outputs": [],
   "source": [
    "file_name = \"/kaggle/input/laptop-price/laptop_pricing_dataset_mod2.csv\"\n",
    "df = pd.read_csv(file_name, header=0)"
   ]
  },
  {
   "cell_type": "markdown",
   "id": "33dee77e",
   "metadata": {
    "papermill": {
     "duration": 0.007858,
     "end_time": "2024-05-07T05:22:17.689175",
     "exception": false,
     "start_time": "2024-05-07T05:22:17.681317",
     "status": "completed"
    },
    "tags": []
   },
   "source": [
    "> Note: This version of the lab is working on JupyterLite, which requires the dataset to be downloaded to the interface. While working on the downloaded version of this notebook on their local machines, the learners can simply **skip the steps above**, and simply use the URL directly in the `pandas.read_csv()` function. You can uncomment and run the statements in the cell below.\n"
   ]
  },
  {
   "cell_type": "markdown",
   "id": "88ae9f5e",
   "metadata": {
    "papermill": {
     "duration": 0.007533,
     "end_time": "2024-05-07T05:22:17.704859",
     "exception": false,
     "start_time": "2024-05-07T05:22:17.697326",
     "status": "completed"
    },
    "tags": []
   },
   "source": [
    "Print the first 5 entries of the dataset to confirm loading.\n"
   ]
  },
  {
   "cell_type": "code",
   "execution_count": 3,
   "id": "80549aae",
   "metadata": {
    "execution": {
     "iopub.execute_input": "2024-05-07T05:22:17.722265Z",
     "iopub.status.busy": "2024-05-07T05:22:17.721826Z",
     "iopub.status.idle": "2024-05-07T05:22:17.751310Z",
     "shell.execute_reply": "2024-05-07T05:22:17.749987Z"
    },
    "papermill": {
     "duration": 0.040869,
     "end_time": "2024-05-07T05:22:17.753654",
     "exception": false,
     "start_time": "2024-05-07T05:22:17.712785",
     "status": "completed"
    },
    "tags": []
   },
   "outputs": [
    {
     "data": {
      "text/html": [
       "<div>\n",
       "<style scoped>\n",
       "    .dataframe tbody tr th:only-of-type {\n",
       "        vertical-align: middle;\n",
       "    }\n",
       "\n",
       "    .dataframe tbody tr th {\n",
       "        vertical-align: top;\n",
       "    }\n",
       "\n",
       "    .dataframe thead th {\n",
       "        text-align: right;\n",
       "    }\n",
       "</style>\n",
       "<table border=\"1\" class=\"dataframe\">\n",
       "  <thead>\n",
       "    <tr style=\"text-align: right;\">\n",
       "      <th></th>\n",
       "      <th>Unnamed: 0.1</th>\n",
       "      <th>Unnamed: 0</th>\n",
       "      <th>Manufacturer</th>\n",
       "      <th>Category</th>\n",
       "      <th>GPU</th>\n",
       "      <th>OS</th>\n",
       "      <th>CPU_core</th>\n",
       "      <th>Screen_Size_inch</th>\n",
       "      <th>CPU_frequency</th>\n",
       "      <th>RAM_GB</th>\n",
       "      <th>Storage_GB_SSD</th>\n",
       "      <th>Weight_pounds</th>\n",
       "      <th>Price</th>\n",
       "      <th>Price-binned</th>\n",
       "      <th>Screen-Full_HD</th>\n",
       "      <th>Screen-IPS_panel</th>\n",
       "    </tr>\n",
       "  </thead>\n",
       "  <tbody>\n",
       "    <tr>\n",
       "      <th>0</th>\n",
       "      <td>0</td>\n",
       "      <td>0</td>\n",
       "      <td>Acer</td>\n",
       "      <td>4</td>\n",
       "      <td>2</td>\n",
       "      <td>1</td>\n",
       "      <td>5</td>\n",
       "      <td>14.0</td>\n",
       "      <td>0.551724</td>\n",
       "      <td>8</td>\n",
       "      <td>256</td>\n",
       "      <td>3.52800</td>\n",
       "      <td>978</td>\n",
       "      <td>Low</td>\n",
       "      <td>0</td>\n",
       "      <td>1</td>\n",
       "    </tr>\n",
       "    <tr>\n",
       "      <th>1</th>\n",
       "      <td>1</td>\n",
       "      <td>1</td>\n",
       "      <td>Dell</td>\n",
       "      <td>3</td>\n",
       "      <td>1</td>\n",
       "      <td>1</td>\n",
       "      <td>3</td>\n",
       "      <td>15.6</td>\n",
       "      <td>0.689655</td>\n",
       "      <td>4</td>\n",
       "      <td>256</td>\n",
       "      <td>4.85100</td>\n",
       "      <td>634</td>\n",
       "      <td>Low</td>\n",
       "      <td>1</td>\n",
       "      <td>0</td>\n",
       "    </tr>\n",
       "    <tr>\n",
       "      <th>2</th>\n",
       "      <td>2</td>\n",
       "      <td>2</td>\n",
       "      <td>Dell</td>\n",
       "      <td>3</td>\n",
       "      <td>1</td>\n",
       "      <td>1</td>\n",
       "      <td>7</td>\n",
       "      <td>15.6</td>\n",
       "      <td>0.931034</td>\n",
       "      <td>8</td>\n",
       "      <td>256</td>\n",
       "      <td>4.85100</td>\n",
       "      <td>946</td>\n",
       "      <td>Low</td>\n",
       "      <td>1</td>\n",
       "      <td>0</td>\n",
       "    </tr>\n",
       "    <tr>\n",
       "      <th>3</th>\n",
       "      <td>3</td>\n",
       "      <td>3</td>\n",
       "      <td>Dell</td>\n",
       "      <td>4</td>\n",
       "      <td>2</td>\n",
       "      <td>1</td>\n",
       "      <td>5</td>\n",
       "      <td>13.3</td>\n",
       "      <td>0.551724</td>\n",
       "      <td>8</td>\n",
       "      <td>128</td>\n",
       "      <td>2.69010</td>\n",
       "      <td>1244</td>\n",
       "      <td>Low</td>\n",
       "      <td>0</td>\n",
       "      <td>1</td>\n",
       "    </tr>\n",
       "    <tr>\n",
       "      <th>4</th>\n",
       "      <td>4</td>\n",
       "      <td>4</td>\n",
       "      <td>HP</td>\n",
       "      <td>4</td>\n",
       "      <td>2</td>\n",
       "      <td>1</td>\n",
       "      <td>7</td>\n",
       "      <td>15.6</td>\n",
       "      <td>0.620690</td>\n",
       "      <td>8</td>\n",
       "      <td>256</td>\n",
       "      <td>4.21155</td>\n",
       "      <td>837</td>\n",
       "      <td>Low</td>\n",
       "      <td>1</td>\n",
       "      <td>0</td>\n",
       "    </tr>\n",
       "  </tbody>\n",
       "</table>\n",
       "</div>"
      ],
      "text/plain": [
       "   Unnamed: 0.1  Unnamed: 0 Manufacturer  Category  GPU  OS  CPU_core  \\\n",
       "0             0           0         Acer         4    2   1         5   \n",
       "1             1           1         Dell         3    1   1         3   \n",
       "2             2           2         Dell         3    1   1         7   \n",
       "3             3           3         Dell         4    2   1         5   \n",
       "4             4           4           HP         4    2   1         7   \n",
       "\n",
       "   Screen_Size_inch  CPU_frequency  RAM_GB  Storage_GB_SSD  Weight_pounds  \\\n",
       "0              14.0       0.551724       8             256        3.52800   \n",
       "1              15.6       0.689655       4             256        4.85100   \n",
       "2              15.6       0.931034       8             256        4.85100   \n",
       "3              13.3       0.551724       8             128        2.69010   \n",
       "4              15.6       0.620690       8             256        4.21155   \n",
       "\n",
       "   Price Price-binned  Screen-Full_HD  Screen-IPS_panel  \n",
       "0    978          Low               0                 1  \n",
       "1    634          Low               1                 0  \n",
       "2    946          Low               1                 0  \n",
       "3   1244          Low               0                 1  \n",
       "4    837          Low               1                 0  "
      ]
     },
     "execution_count": 3,
     "metadata": {},
     "output_type": "execute_result"
    }
   ],
   "source": [
    "df.head(5)"
   ]
  },
  {
   "cell_type": "markdown",
   "id": "faf9057d",
   "metadata": {
    "papermill": {
     "duration": 0.007852,
     "end_time": "2024-05-07T05:22:17.769805",
     "exception": false,
     "start_time": "2024-05-07T05:22:17.761953",
     "status": "completed"
    },
    "tags": []
   },
   "source": [
    "# Task 1 - Visualize individual feature patterns\n",
    "\n",
    "### Continuous valued features\n",
    "Generate regression plots for each of the parameters \"CPU_frequency\", \"Screen_Size_inch\" and \"Weight_pounds\" against \"Price\". Also, print the value of correlation of each feature with \"Price\".\n"
   ]
  },
  {
   "cell_type": "code",
   "execution_count": 4,
   "id": "c65ec110",
   "metadata": {
    "execution": {
     "iopub.execute_input": "2024-05-07T05:22:17.788469Z",
     "iopub.status.busy": "2024-05-07T05:22:17.787629Z",
     "iopub.status.idle": "2024-05-07T05:22:18.246500Z",
     "shell.execute_reply": "2024-05-07T05:22:18.245267Z"
    },
    "papermill": {
     "duration": 0.470961,
     "end_time": "2024-05-07T05:22:18.249020",
     "exception": false,
     "start_time": "2024-05-07T05:22:17.778059",
     "status": "completed"
    },
    "tags": []
   },
   "outputs": [
    {
     "data": {
      "text/plain": [
       "(0.0, 3974.15)"
      ]
     },
     "execution_count": 4,
     "metadata": {},
     "output_type": "execute_result"
    },
    {
     "data": {
      "image/png": "[encoded data removed]",
      "text/plain": [
       "<Figure size 640x480 with 1 Axes>"
      ]
     },
     "metadata": {},
     "output_type": "display_data"
    }
   ],
   "source": [
    "# Write your code below and press Shift+Enter to execute\n",
    "# CPU_frequency plot\n",
    "sns.regplot(x=\"CPU_frequency\", y=\"Price\", data=df)\n",
    "plt.ylim(0,)\n"
   ]
  },
  {
   "cell_type": "code",
   "execution_count": 5,
   "id": "f5585272",
   "metadata": {
    "execution": {
     "iopub.execute_input": "2024-05-07T05:22:18.269478Z",
     "iopub.status.busy": "2024-05-07T05:22:18.268973Z",
     "iopub.status.idle": "2024-05-07T05:22:18.635378Z",
     "shell.execute_reply": "2024-05-07T05:22:18.634100Z"
    },
    "papermill": {
     "duration": 0.379482,
     "end_time": "2024-05-07T05:22:18.637810",
     "exception": false,
     "start_time": "2024-05-07T05:22:18.258328",
     "status": "completed"
    },
    "tags": []
   },
   "outputs": [
    {
     "data": {
      "text/plain": [
       "(0.0, 3974.15)"
      ]
     },
     "execution_count": 5,
     "metadata": {},
     "output_type": "execute_result"
    },
    {
     "data": {
      "image/png": "[encoded data removed]",
      "text/plain": [
       "<Figure size 640x480 with 1 Axes>"
      ]
     },
     "metadata": {},
     "output_type": "display_data"
    }
   ],
   "source": [
    "# Write your code below and press Shift+Enter to execute\n",
    "# Screen_Size_inch plot\n",
    "sns.regplot(x=\"Screen_Size_inch\", y=\"Price\", data=df)\n",
    "plt.ylim(0,)"
   ]
  },
  {
   "cell_type": "code",
   "execution_count": 6,
   "id": "fc046002",
   "metadata": {
    "execution": {
     "iopub.execute_input": "2024-05-07T05:22:18.659547Z",
     "iopub.status.busy": "2024-05-07T05:22:18.659137Z",
     "iopub.status.idle": "2024-05-07T05:22:19.036150Z",
     "shell.execute_reply": "2024-05-07T05:22:19.034831Z"
    },
    "papermill": {
     "duration": 0.390925,
     "end_time": "2024-05-07T05:22:19.038661",
     "exception": false,
     "start_time": "2024-05-07T05:22:18.647736",
     "status": "completed"
    },
    "tags": []
   },
   "outputs": [
    {
     "data": {
      "text/plain": [
       "(0.0, 3974.15)"
      ]
     },
     "execution_count": 6,
     "metadata": {},
     "output_type": "execute_result"
    },
    {
     "data": {
      "image/png": "[encoded data removed]",
      "text/plain": [
       "<Figure size 640x480 with 1 Axes>"
      ]
     },
     "metadata": {},
     "output_type": "display_data"
    }
   ],
   "source": [
    "# Write your code below and press Shift+Enter to execute\n",
    "# Weight_pounds plot\n",
    "sns.regplot(x=\"Weight_pounds\", y=\"Price\", data=df)\n",
    "plt.ylim(0,)"
   ]
  },
  {
   "cell_type": "code",
   "execution_count": 7,
   "id": "191ce8bb",
   "metadata": {
    "execution": {
     "iopub.execute_input": "2024-05-07T05:22:19.063025Z",
     "iopub.status.busy": "2024-05-07T05:22:19.062545Z",
     "iopub.status.idle": "2024-05-07T05:22:19.085861Z",
     "shell.execute_reply": "2024-05-07T05:22:19.084539Z"
    },
    "papermill": {
     "duration": 0.037944,
     "end_time": "2024-05-07T05:22:19.088332",
     "exception": false,
     "start_time": "2024-05-07T05:22:19.050388",
     "status": "completed"
    },
    "tags": []
   },
   "outputs": [
    {
     "name": "stdout",
     "output_type": "stream",
     "text": [
      "\n",
      "Correlation of Price and CPU_frequency is \n",
      "                CPU_frequency     Price\n",
      "CPU_frequency       1.000000  0.366666\n",
      "Price               0.366666  1.000000\n",
      "\n",
      "Correlation of Price and Screen_Size_inch is \n",
      "                   Screen_Size_inch     Price\n",
      "Screen_Size_inch          1.000000 -0.110644\n",
      "Price                    -0.110644  1.000000\n",
      "\n",
      "Correlation of Price and Weight_pounds is \n",
      "                Weight_pounds     Price\n",
      "Weight_pounds       1.000000 -0.050312\n",
      "Price              -0.050312  1.000000\n"
     ]
    }
   ],
   "source": [
    "# Correlation values of the three attributes with Price\n",
    "for i in [\"CPU_frequency\", \"Screen_Size_inch\",\"Weight_pounds\"]:\n",
    "    print(f\"\\nCorrelation of Price and {i} is \\n\", df[[i,\"Price\"]].corr())\n"
   ]
  },
  {
   "cell_type": "markdown",
   "id": "4814d2ee",
   "metadata": {
    "papermill": {
     "duration": 0.010592,
     "end_time": "2024-05-07T05:22:19.110360",
     "exception": false,
     "start_time": "2024-05-07T05:22:19.099768",
     "status": "completed"
    },
    "tags": []
   },
   "source": [
    "Interpretation: \"CPU_frequency\" has a 36% positive correlation with the price of the laptops. The other two parameters have weak correlation with price.\n"
   ]
  },
  {
   "cell_type": "markdown",
   "id": "33841c42",
   "metadata": {
    "papermill": {
     "duration": 0.010385,
     "end_time": "2024-05-07T05:22:19.131653",
     "exception": false,
     "start_time": "2024-05-07T05:22:19.121268",
     "status": "completed"
    },
    "tags": []
   },
   "source": [
    "### Categorical features\n",
    "Generate Box plots for the different feature that hold categorical values. These features would be \"Category\", \"GPU\", \"OS\", \"CPU_core\", \"RAM_GB\", \"Storage_GB_SSD\"\n"
   ]
  },
  {
   "cell_type": "code",
   "execution_count": 8,
   "id": "cf460003",
   "metadata": {
    "execution": {
     "iopub.execute_input": "2024-05-07T05:22:19.154752Z",
     "iopub.status.busy": "2024-05-07T05:22:19.154350Z",
     "iopub.status.idle": "2024-05-07T05:22:19.444198Z",
     "shell.execute_reply": "2024-05-07T05:22:19.442925Z"
    },
    "papermill": {
     "duration": 0.304267,
     "end_time": "2024-05-07T05:22:19.446670",
     "exception": false,
     "start_time": "2024-05-07T05:22:19.142403",
     "status": "completed"
    },
    "tags": []
   },
   "outputs": [
    {
     "data": {
      "text/plain": [
       "<Axes: xlabel='Category', ylabel='Price'>"
      ]
     },
     "execution_count": 8,
     "metadata": {},
     "output_type": "execute_result"
    },
    {
     "data": {
      "image/png": "[encoded data removed]",
      "text/plain": [
       "<Figure size 640x480 with 1 Axes>"
      ]
     },
     "metadata": {},
     "output_type": "display_data"
    }
   ],
   "source": [
    "# Write your code below and press Shift+Enter to execute\n",
    "# Category Box plot\n",
    "sns.boxplot(x=\"Category\",y=\"Price\",data=df)"
   ]
  },
  {
   "cell_type": "code",
   "execution_count": 9,
   "id": "17f61dd0",
   "metadata": {
    "execution": {
     "iopub.execute_input": "2024-05-07T05:22:19.472436Z",
     "iopub.status.busy": "2024-05-07T05:22:19.471140Z",
     "iopub.status.idle": "2024-05-07T05:22:19.719699Z",
     "shell.execute_reply": "2024-05-07T05:22:19.718339Z"
    },
    "papermill": {
     "duration": 0.263647,
     "end_time": "2024-05-07T05:22:19.722205",
     "exception": false,
     "start_time": "2024-05-07T05:22:19.458558",
     "status": "completed"
    },
    "tags": []
   },
   "outputs": [
    {
     "data": {
      "text/plain": [
       "<Axes: xlabel='GPU', ylabel='Price'>"
      ]
     },
     "execution_count": 9,
     "metadata": {},
     "output_type": "execute_result"
    },
    {
     "data": {
      "image/png": "[encoded data removed]",
      "text/plain": [
       "<Figure size 640x480 with 1 Axes>"
      ]
     },
     "metadata": {},
     "output_type": "display_data"
    }
   ],
   "source": [
    "# Write your code below and press Shift+Enter to execute\n",
    "# GPU Box plot\n",
    "sns.boxplot(x=\"GPU\",y=\"Price\",data=df)"
   ]
  },
  {
   "cell_type": "code",
   "execution_count": 10,
   "id": "14a4f01c",
   "metadata": {
    "execution": {
     "iopub.execute_input": "2024-05-07T05:22:19.747726Z",
     "iopub.status.busy": "2024-05-07T05:22:19.747329Z",
     "iopub.status.idle": "2024-05-07T05:22:19.977323Z",
     "shell.execute_reply": "2024-05-07T05:22:19.976154Z"
    },
    "papermill": {
     "duration": 0.2455,
     "end_time": "2024-05-07T05:22:19.979851",
     "exception": false,
     "start_time": "2024-05-07T05:22:19.734351",
     "status": "completed"
    },
    "tags": []
   },
   "outputs": [
    {
     "data": {
      "text/plain": [
       "<Axes: xlabel='OS', ylabel='Price'>"
      ]
     },
     "execution_count": 10,
     "metadata": {},
     "output_type": "execute_result"
    },
    {
     "data": {
      "image/png": "[encoded data removed]",
      "text/plain": [
       "<Figure size 640x480 with 1 Axes>"
      ]
     },
     "metadata": {},
     "output_type": "display_data"
    }
   ],
   "source": [
    "# Write your code below and press Shift+Enter to execute\n",
    "# OS Box plot\n",
    "sns.boxplot(x=\"OS\",y=\"Price\",data=df)"
   ]
  },
  {
   "cell_type": "code",
   "execution_count": 11,
   "id": "aac23454",
   "metadata": {
    "execution": {
     "iopub.execute_input": "2024-05-07T05:22:20.008309Z",
     "iopub.status.busy": "2024-05-07T05:22:20.007843Z",
     "iopub.status.idle": "2024-05-07T05:22:20.253089Z",
     "shell.execute_reply": "2024-05-07T05:22:20.251812Z"
    },
    "papermill": {
     "duration": 0.262948,
     "end_time": "2024-05-07T05:22:20.255650",
     "exception": false,
     "start_time": "2024-05-07T05:22:19.992702",
     "status": "completed"
    },
    "tags": []
   },
   "outputs": [
    {
     "data": {
      "text/plain": [
       "<Axes: xlabel='CPU_core', ylabel='Price'>"
      ]
     },
     "execution_count": 11,
     "metadata": {},
     "output_type": "execute_result"
    },
    {
     "data": {
      "image/png": "[encoded data removed]",
      "text/plain": [
       "<Figure size 640x480 with 1 Axes>"
      ]
     },
     "metadata": {},
     "output_type": "display_data"
    }
   ],
   "source": [
    "# Write your code below and press Shift+Enter to execute\n",
    "# CPU_core Box plot\n",
    "sns.boxplot(x=\"CPU_core\",y=\"Price\",data=df)"
   ]
  },
  {
   "cell_type": "code",
   "execution_count": 12,
   "id": "39c7b5b8",
   "metadata": {
    "execution": {
     "iopub.execute_input": "2024-05-07T05:22:20.283790Z",
     "iopub.status.busy": "2024-05-07T05:22:20.283405Z",
     "iopub.status.idle": "2024-05-07T05:22:20.571462Z",
     "shell.execute_reply": "2024-05-07T05:22:20.570131Z"
    },
    "papermill": {
     "duration": 0.305407,
     "end_time": "2024-05-07T05:22:20.574401",
     "exception": false,
     "start_time": "2024-05-07T05:22:20.268994",
     "status": "completed"
    },
    "tags": []
   },
   "outputs": [
    {
     "data": {
      "text/plain": [
       "<Axes: xlabel='RAM_GB', ylabel='Price'>"
      ]
     },
     "execution_count": 12,
     "metadata": {},
     "output_type": "execute_result"
    },
    {
     "data": {
      "image/png": "[encoded data removed]",
      "text/plain": [
       "<Figure size 640x480 with 1 Axes>"
      ]
     },
     "metadata": {},
     "output_type": "display_data"
    }
   ],
   "source": [
    "# Write your code below and press Shift+Enter to execute\n",
    "# RAM_GB Box plot\n",
    "sns.boxplot(x=\"RAM_GB\",y=\"Price\",data=df)"
   ]
  },
  {
   "cell_type": "code",
   "execution_count": 13,
   "id": "8e0db912",
   "metadata": {
    "execution": {
     "iopub.execute_input": "2024-05-07T05:22:20.603731Z",
     "iopub.status.busy": "2024-05-07T05:22:20.603318Z",
     "iopub.status.idle": "2024-05-07T05:22:20.798403Z",
     "shell.execute_reply": "2024-05-07T05:22:20.797161Z"
    },
    "papermill": {
     "duration": 0.212614,
     "end_time": "2024-05-07T05:22:20.800730",
     "exception": false,
     "start_time": "2024-05-07T05:22:20.588116",
     "status": "completed"
    },
    "tags": []
   },
   "outputs": [
    {
     "data": {
      "text/plain": [
       "<Axes: xlabel='Storage_GB_SSD', ylabel='Price'>"
      ]
     },
     "execution_count": 13,
     "metadata": {},
     "output_type": "execute_result"
    },
    {
     "data": {
      "image/png": "[encoded data removed]",
      "text/plain": [
       "<Figure size 640x480 with 1 Axes>"
      ]
     },
     "metadata": {},
     "output_type": "display_data"
    }
   ],
   "source": [
    "# Write your code below and press Shift+Enter to execute\n",
    "# Storage_GB_SSD Box plot\n",
    "sns.boxplot(x=\"Storage_GB_SSD\",y=\"Price\",data=df)"
   ]
  },
  {
   "cell_type": "markdown",
   "id": "d2ddbbd6",
   "metadata": {
    "papermill": {
     "duration": 0.013445,
     "end_time": "2024-05-07T05:22:20.828141",
     "exception": false,
     "start_time": "2024-05-07T05:22:20.814696",
     "status": "completed"
    },
    "tags": []
   },
   "source": [
    "# Task 2 - Descriptive Statistical Analysis\n"
   ]
  },
  {
   "cell_type": "markdown",
   "id": "4dd7522d",
   "metadata": {
    "papermill": {
     "duration": 0.013173,
     "end_time": "2024-05-07T05:22:20.854944",
     "exception": false,
     "start_time": "2024-05-07T05:22:20.841771",
     "status": "completed"
    },
    "tags": []
   },
   "source": [
    "Generate the statistical description of all the features being used in the data set. Include \"object\" data types as well.\n"
   ]
  },
  {
   "cell_type": "code",
   "execution_count": 14,
   "id": "1c85453b",
   "metadata": {
    "execution": {
     "iopub.execute_input": "2024-05-07T05:22:20.884756Z",
     "iopub.status.busy": "2024-05-07T05:22:20.884390Z",
     "iopub.status.idle": "2024-05-07T05:22:20.935209Z",
     "shell.execute_reply": "2024-05-07T05:22:20.931027Z"
    },
    "papermill": {
     "duration": 0.068842,
     "end_time": "2024-05-07T05:22:20.937871",
     "exception": false,
     "start_time": "2024-05-07T05:22:20.869029",
     "status": "completed"
    },
    "tags": []
   },
   "outputs": [
    {
     "data": {
      "text/html": [
       "<div>\n",
       "<style scoped>\n",
       "    .dataframe tbody tr th:only-of-type {\n",
       "        vertical-align: middle;\n",
       "    }\n",
       "\n",
       "    .dataframe tbody tr th {\n",
       "        vertical-align: top;\n",
       "    }\n",
       "\n",
       "    .dataframe thead th {\n",
       "        text-align: right;\n",
       "    }\n",
       "</style>\n",
       "<table border=\"1\" class=\"dataframe\">\n",
       "  <thead>\n",
       "    <tr style=\"text-align: right;\">\n",
       "      <th></th>\n",
       "      <th>Manufacturer</th>\n",
       "      <th>Price-binned</th>\n",
       "    </tr>\n",
       "  </thead>\n",
       "  <tbody>\n",
       "    <tr>\n",
       "      <th>count</th>\n",
       "      <td>238</td>\n",
       "      <td>238</td>\n",
       "    </tr>\n",
       "    <tr>\n",
       "      <th>unique</th>\n",
       "      <td>11</td>\n",
       "      <td>3</td>\n",
       "    </tr>\n",
       "    <tr>\n",
       "      <th>top</th>\n",
       "      <td>Dell</td>\n",
       "      <td>Low</td>\n",
       "    </tr>\n",
       "    <tr>\n",
       "      <th>freq</th>\n",
       "      <td>71</td>\n",
       "      <td>160</td>\n",
       "    </tr>\n",
       "  </tbody>\n",
       "</table>\n",
       "</div>"
      ],
      "text/plain": [
       "       Manufacturer Price-binned\n",
       "count           238          238\n",
       "unique           11            3\n",
       "top            Dell          Low\n",
       "freq             71          160"
      ]
     },
     "execution_count": 14,
     "metadata": {},
     "output_type": "execute_result"
    }
   ],
   "source": [
    "# Write your code below and press Shift+Enter to execute\n",
    "df.describe()\n",
    "df.describe(include = [\"object\"])"
   ]
  },
  {
   "cell_type": "markdown",
   "id": "ee7220e0",
   "metadata": {
    "papermill": {
     "duration": 0.01371,
     "end_time": "2024-05-07T05:22:20.968738",
     "exception": false,
     "start_time": "2024-05-07T05:22:20.955028",
     "status": "completed"
    },
    "tags": []
   },
   "source": [
    "# Task 3 - GroupBy and Pivot Tables\n",
    "\n",
    "Group the parameters \"GPU\", \"CPU_core\" and \"Price\" to make a pivot table and visualize this connection using the pcolor plot.\n"
   ]
  },
  {
   "cell_type": "code",
   "execution_count": 15,
   "id": "d43408b5",
   "metadata": {
    "execution": {
     "iopub.execute_input": "2024-05-07T05:22:21.000302Z",
     "iopub.status.busy": "2024-05-07T05:22:20.999395Z",
     "iopub.status.idle": "2024-05-07T05:22:21.017966Z",
     "shell.execute_reply": "2024-05-07T05:22:21.016308Z"
    },
    "papermill": {
     "duration": 0.038322,
     "end_time": "2024-05-07T05:22:21.021356",
     "exception": false,
     "start_time": "2024-05-07T05:22:20.983034",
     "status": "completed"
    },
    "tags": []
   },
   "outputs": [
    {
     "name": "stdout",
     "output_type": "stream",
     "text": [
      "   GPU  CPU_core        Price\n",
      "0    1         3   769.250000\n",
      "1    1         5   998.500000\n",
      "2    1         7  1167.941176\n",
      "3    2         3   785.076923\n",
      "4    2         5  1462.197674\n",
      "5    2         7  1744.621622\n",
      "6    3         3   784.000000\n",
      "7    3         5  1220.680000\n",
      "8    3         7  1945.097561\n"
     ]
    }
   ],
   "source": [
    "# Write your code below and press Shift+Enter to execute\n",
    "# Create the group\n",
    "df_test = df[[\"GPU\", \"CPU_core\", \"Price\"]]\n",
    "df_grp = df_test.groupby([\"GPU\", \"CPU_core\"], as_index = False).mean()\n",
    "print(df_grp)"
   ]
  },
  {
   "cell_type": "code",
   "execution_count": 16,
   "id": "2cd52ad6",
   "metadata": {
    "execution": {
     "iopub.execute_input": "2024-05-07T05:22:21.053359Z",
     "iopub.status.busy": "2024-05-07T05:22:21.052956Z",
     "iopub.status.idle": "2024-05-07T05:22:21.075346Z",
     "shell.execute_reply": "2024-05-07T05:22:21.073625Z"
    },
    "papermill": {
     "duration": 0.040288,
     "end_time": "2024-05-07T05:22:21.078189",
     "exception": false,
     "start_time": "2024-05-07T05:22:21.037901",
     "status": "completed"
    },
    "tags": []
   },
   "outputs": [
    {
     "data": {
      "text/html": [
       "<div>\n",
       "<style scoped>\n",
       "    .dataframe tbody tr th:only-of-type {\n",
       "        vertical-align: middle;\n",
       "    }\n",
       "\n",
       "    .dataframe tbody tr th {\n",
       "        vertical-align: top;\n",
       "    }\n",
       "\n",
       "    .dataframe thead tr th {\n",
       "        text-align: left;\n",
       "    }\n",
       "\n",
       "    .dataframe thead tr:last-of-type th {\n",
       "        text-align: right;\n",
       "    }\n",
       "</style>\n",
       "<table border=\"1\" class=\"dataframe\">\n",
       "  <thead>\n",
       "    <tr>\n",
       "      <th></th>\n",
       "      <th colspan=\"3\" halign=\"left\">Price</th>\n",
       "    </tr>\n",
       "    <tr>\n",
       "      <th>CPU_core</th>\n",
       "      <th>3</th>\n",
       "      <th>5</th>\n",
       "      <th>7</th>\n",
       "    </tr>\n",
       "    <tr>\n",
       "      <th>GPU</th>\n",
       "      <th></th>\n",
       "      <th></th>\n",
       "      <th></th>\n",
       "    </tr>\n",
       "  </thead>\n",
       "  <tbody>\n",
       "    <tr>\n",
       "      <th>1</th>\n",
       "      <td>769.250000</td>\n",
       "      <td>998.500000</td>\n",
       "      <td>1167.941176</td>\n",
       "    </tr>\n",
       "    <tr>\n",
       "      <th>2</th>\n",
       "      <td>785.076923</td>\n",
       "      <td>1462.197674</td>\n",
       "      <td>1744.621622</td>\n",
       "    </tr>\n",
       "    <tr>\n",
       "      <th>3</th>\n",
       "      <td>784.000000</td>\n",
       "      <td>1220.680000</td>\n",
       "      <td>1945.097561</td>\n",
       "    </tr>\n",
       "  </tbody>\n",
       "</table>\n",
       "</div>"
      ],
      "text/plain": [
       "               Price                          \n",
       "CPU_core           3            5            7\n",
       "GPU                                           \n",
       "1         769.250000   998.500000  1167.941176\n",
       "2         785.076923  1462.197674  1744.621622\n",
       "3         784.000000  1220.680000  1945.097561"
      ]
     },
     "execution_count": 16,
     "metadata": {},
     "output_type": "execute_result"
    }
   ],
   "source": [
    "# Write your code below and press Shift+Enter to execute\n",
    "# Create the Pivot table\n",
    "df_pivot = df_grp.pivot(index = \"GPU\", columns = \"CPU_core\")\n",
    "df_pivot"
   ]
  },
  {
   "cell_type": "code",
   "execution_count": 17,
   "id": "a2a11748",
   "metadata": {
    "execution": {
     "iopub.execute_input": "2024-05-07T05:22:21.110287Z",
     "iopub.status.busy": "2024-05-07T05:22:21.109749Z",
     "iopub.status.idle": "2024-05-07T05:22:21.372273Z",
     "shell.execute_reply": "2024-05-07T05:22:21.371214Z"
    },
    "papermill": {
     "duration": 0.281887,
     "end_time": "2024-05-07T05:22:21.374803",
     "exception": false,
     "start_time": "2024-05-07T05:22:21.092916",
     "status": "completed"
    },
    "tags": []
   },
   "outputs": [
    {
     "data": {
      "text/plain": [
       "<matplotlib.colorbar.Colorbar at 0x7d800f20fca0>"
      ]
     },
     "execution_count": 17,
     "metadata": {},
     "output_type": "execute_result"
    },
    {
     "data": {
      "image/png": "[encoded data removed]",
      "text/plain": [
       "<Figure size 640x480 with 2 Axes>"
      ]
     },
     "metadata": {},
     "output_type": "display_data"
    }
   ],
   "source": [
    "# visualize this connection using the pcolor plot.\n",
    "# Write your code below and press Shift+Enter to execute\n",
    "# Create the Plot\n",
    "fig, ax = plt.subplots()\n",
    "im = ax.pcolor(df_pivot, cmap='RdBu')\n",
    "\n",
    "#label names\n",
    "row_labels = df_pivot.columns.levels[1]\n",
    "col_labels = df_pivot.index\n",
    "\n",
    "#move ticks and labels to the center\n",
    "ax.set_xticks(np.arange(df_pivot.shape[1]) + 0.5, minor=False)\n",
    "ax.set_yticks(np.arange(df_pivot.shape[0]) + 0.5, minor=False)\n",
    "\n",
    "#insert labels\n",
    "ax.set_xticklabels(row_labels, minor=False)\n",
    "ax.set_yticklabels(col_labels, minor=False)\n",
    "\n",
    "fig.colorbar(im)"
   ]
  },
  {
   "cell_type": "markdown",
   "id": "be39dbca",
   "metadata": {
    "papermill": {
     "duration": 0.077086,
     "end_time": "2024-05-07T05:22:21.466369",
     "exception": false,
     "start_time": "2024-05-07T05:22:21.389283",
     "status": "completed"
    },
    "tags": []
   },
   "source": [
    "# Task 4 - Pearson Correlation and p-values\n",
    "\n",
    "Use the `scipy.stats.pearsonr()` function to evaluate the Pearson Coefficient and the p-values for each parameter tested above. This will help you determine the parameters most likely to have a strong effect on the price of the laptops.\n"
   ]
  },
  {
   "cell_type": "code",
   "execution_count": 18,
   "id": "df6da484",
   "metadata": {
    "execution": {
     "iopub.execute_input": "2024-05-07T05:22:21.501602Z",
     "iopub.status.busy": "2024-05-07T05:22:21.500510Z",
     "iopub.status.idle": "2024-05-07T05:22:21.525732Z",
     "shell.execute_reply": "2024-05-07T05:22:21.524196Z"
    },
    "papermill": {
     "duration": 0.045671,
     "end_time": "2024-05-07T05:22:21.528571",
     "exception": false,
     "start_time": "2024-05-07T05:22:21.482900",
     "status": "completed"
    },
    "tags": []
   },
   "outputs": [
    {
     "name": "stdout",
     "output_type": "stream",
     "text": [
      "\n",
      "The Pearson Correlation Coefficient for  RAM_GB  is 0.5492972971857844  with a P-value of P = 3.681560628842868e-20\n",
      "\n",
      "The Pearson Correlation Coefficient for  CPU_frequency  is 0.36666555892588604  with a P-value of P = 5.5024633507134225e-09\n",
      "\n",
      "The Pearson Correlation Coefficient for  Storage_GB_SSD  is 0.2434207552181029  with a P-value of P = 0.00014898923191724174\n",
      "\n",
      "The Pearson Correlation Coefficient for  Screen_Size_inch  is -0.11064420817118266  with a P-value of P = 0.08853397846830766\n",
      "\n",
      "The Pearson Correlation Coefficient for  Weight_pounds  is -0.05031225837751549  with a P-value of P = 0.43976938534338944\n",
      "\n",
      "The Pearson Correlation Coefficient for  CPU_core  is 0.4593977773355115  with a P-value of P = 7.912950127009034e-14\n",
      "\n",
      "The Pearson Correlation Coefficient for  OS  is -0.22172980114827384  with a P-value of P = 0.0005696642559246749\n",
      "\n",
      "The Pearson Correlation Coefficient for  GPU  is 0.2882981988881428  with a P-value of P = 6.166949698364282e-06\n",
      "\n",
      "The Pearson Correlation Coefficient for  Category  is 0.28624275581264125  with a P-value of P = 7.225696235806733e-06\n"
     ]
    }
   ],
   "source": [
    "# Write your code below and press Shift+Enter to execute\n",
    "for param in ['RAM_GB','CPU_frequency','Storage_GB_SSD','Screen_Size_inch','Weight_pounds','CPU_core','OS','GPU','Category']:\n",
    "    pearson_coef, p_value = stats.pearsonr(df[param], df['Price'])\n",
    "    print(\"\\nThe Pearson Correlation Coefficient for \",param,\" is\", pearson_coef, \" with a P-value of P =\", p_value)"
   ]
  },
  {
   "cell_type": "markdown",
   "id": "c95c4946",
   "metadata": {
    "papermill": {
     "duration": 0.015008,
     "end_time": "2024-05-07T05:22:21.559028",
     "exception": false,
     "start_time": "2024-05-07T05:22:21.544020",
     "status": "completed"
    },
    "tags": []
   },
   "source": [
    "# Congratulations! You have completed the lab\n"
   ]
  },
  {
   "cell_type": "markdown",
   "id": "fb60e9f5",
   "metadata": {
    "papermill": {
     "duration": 0.014343,
     "end_time": "2024-05-07T05:22:21.588557",
     "exception": false,
     "start_time": "2024-05-07T05:22:21.574214",
     "status": "completed"
    },
    "tags": []
   },
   "source": [
    "## Authors\n"
   ]
  },
  {
   "cell_type": "markdown",
   "id": "d1e6c5e9",
   "metadata": {
    "papermill": {
     "duration": 0.014491,
     "end_time": "2024-05-07T05:22:21.617998",
     "exception": false,
     "start_time": "2024-05-07T05:22:21.603507",
     "status": "completed"
    },
    "tags": []
   },
   "source": [
    "[Abhishek Gagneja](https://www.coursera.org/instructor/~129186572)\n",
    "\n",
    "[Vicky Kuo](https://author.skills.network/instructors/vicky_kuo)\n"
   ]
  },
  {
   "cell_type": "markdown",
   "id": "619cefc0",
   "metadata": {
    "papermill": {
     "duration": 0.015274,
     "end_time": "2024-05-07T05:22:21.648737",
     "exception": false,
     "start_time": "2024-05-07T05:22:21.633463",
     "status": "completed"
    },
    "tags": []
   },
   "source": [
    "## Change Log\n"
   ]
  },
  {
   "cell_type": "markdown",
   "id": "533ef0cb",
   "metadata": {
    "papermill": {
     "duration": 0.014439,
     "end_time": "2024-05-07T05:22:21.678005",
     "exception": false,
     "start_time": "2024-05-07T05:22:21.663566",
     "status": "completed"
    },
    "tags": []
   },
   "source": [
    "|Date (YYYY-MM-DD)|Version|Changed By|Change Description|\n",
    "|-|-|-|-|\n",
    "|2023-09-15|0.1|Abhishek Gagneja|Initial Version Created|\n",
    "|2023-09-18|0.2|Vicky Kuo|Reviewed and Revised|\n"
   ]
  },
  {
   "cell_type": "markdown",
   "id": "e7893b91",
   "metadata": {
    "papermill": {
     "duration": 0.014945,
     "end_time": "2024-05-07T05:22:21.707539",
     "exception": false,
     "start_time": "2024-05-07T05:22:21.692594",
     "status": "completed"
    },
    "tags": []
   },
   "source": [
    "Copyright © 2023 IBM Corporation. All rights reserved.\n"
   ]
  }
 ],
 "metadata": {
  "kaggle": {
   "accelerator": "none",
   "dataSources": [
    {
     "datasetId": 4954917,
     "sourceId": 8342182,
     "sourceType": "datasetVersion"
    }
   ],
   "dockerImageVersionId": 30698,
   "isGpuEnabled": false,
   "isInternetEnabled": true,
   "language": "python",
   "sourceType": "notebook"
  },
  "kernelspec": {
   "display_name": "Python 3",
   "language": "python",
   "name": "python3"
  },
  "language_info": {
   "codemirror_mode": {
    "name": "ipython",
    "version": 3
   },
   "file_extension": ".py",
   "mimetype": "text/x-python",
   "name": "python",
   "nbconvert_exporter": "python",
   "pygments_lexer": "ipython3",
   "version": "3.10.13"
  },
  "papermill": {
   "default_parameters": {},
   "duration": 10.297836,
   "end_time": "2024-05-07T05:22:22.345267",
   "environment_variables": {},
   "exception": null,
   "input_path": "__notebook__.ipynb",
   "output_path": "__notebook__.ipynb",
   "parameters": {},
   "start_time": "2024-05-07T05:22:12.047431",
   "version": "2.5.0"
  }
 },
 "nbformat": 4,
 "nbformat_minor": 5
}
