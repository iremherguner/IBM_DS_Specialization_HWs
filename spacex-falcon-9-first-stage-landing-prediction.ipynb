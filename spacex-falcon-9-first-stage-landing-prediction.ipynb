{
 "cells": [
  {
   "cell_type": "markdown",
   "id": "3a01104e",
   "metadata": {
    "papermill": {
     "duration": 0.020108,
     "end_time": "2024-10-31T06:36:37.161103",
     "exception": false,
     "start_time": "2024-10-31T06:36:37.140995",
     "status": "completed"
    },
    "tags": []
   },
   "source": [
    "<p style=\"text-align:center\">\n",
    "    <a href=\"https://skills.network\" target=\"_blank\">\n",
    "    <img src=\"https://cf-courses-data.s3.us.cloud-object-storage.appdomain.cloud/assets/logos/SN_web_lightmode.png\" width=\"200\" alt=\"Skills Network Logo\">\n",
    "    </a>\n",
    "</p>\n"
   ]
  },
  {
   "cell_type": "markdown",
   "id": "436b30d6",
   "metadata": {
    "papermill": {
     "duration": 0.019266,
     "end_time": "2024-10-31T06:36:37.200808",
     "exception": false,
     "start_time": "2024-10-31T06:36:37.181542",
     "status": "completed"
    },
    "tags": []
   },
   "source": [
    "# **SpaceX  Falcon 9 first stage Landing Prediction**\n"
   ]
  },
  {
   "cell_type": "markdown",
   "id": "489693c3",
   "metadata": {
    "papermill": {
     "duration": 0.019031,
     "end_time": "2024-10-31T06:36:37.239027",
     "exception": false,
     "start_time": "2024-10-31T06:36:37.219996",
     "status": "completed"
    },
    "tags": []
   },
   "source": [
    "# Hands-on Lab: Complete the Data Collection API Lab\n"
   ]
  },
  {
   "cell_type": "markdown",
   "id": "85a5cba5",
   "metadata": {
    "papermill": {
     "duration": 0.019026,
     "end_time": "2024-10-31T06:36:37.277279",
     "exception": false,
     "start_time": "2024-10-31T06:36:37.258253",
     "status": "completed"
    },
    "tags": []
   },
   "source": [
    "Estimated time needed: **45** minutes\n"
   ]
  },
  {
   "cell_type": "markdown",
   "id": "a0dc7242",
   "metadata": {
    "papermill": {
     "duration": 0.019036,
     "end_time": "2024-10-31T06:36:37.315668",
     "exception": false,
     "start_time": "2024-10-31T06:36:37.296632",
     "status": "completed"
    },
    "tags": []
   },
   "source": [
    "In this capstone, we will predict if the Falcon 9 first stage will land successfully. SpaceX advertises Falcon 9 rocket launches on its website with a cost of 62 million dollars; other providers cost upward of 165 million dollars each, much of the savings is because SpaceX can reuse the first stage. Therefore if we can determine if the first stage will land, we can determine the cost of a launch. This information can be used if an alternate company wants to bid against SpaceX for a rocket launch. In this lab, you will collect and make sure the data is in the correct format from an API. The following is an example of a successful and launch.\n"
   ]
  },
  {
   "cell_type": "markdown",
   "id": "6cd86d43",
   "metadata": {
    "papermill": {
     "duration": 0.018893,
     "end_time": "2024-10-31T06:36:37.353975",
     "exception": false,
     "start_time": "2024-10-31T06:36:37.335082",
     "status": "completed"
    },
    "tags": []
   },
   "source": [
    "![](https://cf-courses-data.s3.us.cloud-object-storage.appdomain.cloud/IBMDeveloperSkillsNetwork-DS0701EN-SkillsNetwork/lab_v2/images/landing_1.gif)\n"
   ]
  },
  {
   "cell_type": "markdown",
   "id": "3c486a83",
   "metadata": {
    "papermill": {
     "duration": 0.018961,
     "end_time": "2024-10-31T06:36:37.392139",
     "exception": false,
     "start_time": "2024-10-31T06:36:37.373178",
     "status": "completed"
    },
    "tags": []
   },
   "source": [
    "Several examples of an unsuccessful landing are shown here:\n"
   ]
  },
  {
   "cell_type": "markdown",
   "id": "459537fe",
   "metadata": {
    "papermill": {
     "duration": 0.018855,
     "end_time": "2024-10-31T06:36:37.430156",
     "exception": false,
     "start_time": "2024-10-31T06:36:37.411301",
     "status": "completed"
    },
    "tags": []
   },
   "source": [
    "![](https://cf-courses-data.s3.us.cloud-object-storage.appdomain.cloud/IBMDeveloperSkillsNetwork-DS0701EN-SkillsNetwork/lab_v2/images/crash.gif)\n"
   ]
  },
  {
   "cell_type": "markdown",
   "id": "8c9c170c",
   "metadata": {
    "papermill": {
     "duration": 0.019628,
     "end_time": "2024-10-31T06:36:37.469004",
     "exception": false,
     "start_time": "2024-10-31T06:36:37.449376",
     "status": "completed"
    },
    "tags": []
   },
   "source": [
    "Most unsuccessful landings are planned. Space X performs a controlled landing in the oceans. \n"
   ]
  },
  {
   "cell_type": "markdown",
   "id": "75e8ac88",
   "metadata": {
    "papermill": {
     "duration": 0.019102,
     "end_time": "2024-10-31T06:36:37.507883",
     "exception": false,
     "start_time": "2024-10-31T06:36:37.488781",
     "status": "completed"
    },
    "tags": []
   },
   "source": [
    "## Objectives\n"
   ]
  },
  {
   "cell_type": "markdown",
   "id": "82a47d26",
   "metadata": {
    "papermill": {
     "duration": 0.019131,
     "end_time": "2024-10-31T06:36:37.546687",
     "exception": false,
     "start_time": "2024-10-31T06:36:37.527556",
     "status": "completed"
    },
    "tags": []
   },
   "source": [
    "In this lab, you will make a get request to the SpaceX API. You will also do some basic data wrangling and formating. \n",
    "\n",
    "- Request to the SpaceX API\n",
    "- Clean the requested data\n"
   ]
  },
  {
   "cell_type": "markdown",
   "id": "473415b6",
   "metadata": {
    "papermill": {
     "duration": 0.019471,
     "end_time": "2024-10-31T06:36:37.586680",
     "exception": false,
     "start_time": "2024-10-31T06:36:37.567209",
     "status": "completed"
    },
    "tags": []
   },
   "source": [
    "----\n"
   ]
  },
  {
   "cell_type": "markdown",
   "id": "684352e2",
   "metadata": {
    "papermill": {
     "duration": 0.019709,
     "end_time": "2024-10-31T06:36:37.625543",
     "exception": false,
     "start_time": "2024-10-31T06:36:37.605834",
     "status": "completed"
    },
    "tags": []
   },
   "source": [
    "## Import Libraries and Define Auxiliary Functions\n"
   ]
  },
  {
   "cell_type": "markdown",
   "id": "f01df894",
   "metadata": {
    "papermill": {
     "duration": 0.018947,
     "end_time": "2024-10-31T06:36:37.663972",
     "exception": false,
     "start_time": "2024-10-31T06:36:37.645025",
     "status": "completed"
    },
    "tags": []
   },
   "source": [
    "We will import the following libraries into the lab\n"
   ]
  },
  {
   "cell_type": "code",
   "execution_count": 1,
   "id": "19c1f0ca",
   "metadata": {
    "execution": {
     "iopub.execute_input": "2024-10-31T06:36:37.704023Z",
     "iopub.status.busy": "2024-10-31T06:36:37.703595Z",
     "iopub.status.idle": "2024-10-31T06:36:38.742478Z",
     "shell.execute_reply": "2024-10-31T06:36:38.740959Z"
    },
    "papermill": {
     "duration": 1.062218,
     "end_time": "2024-10-31T06:36:38.745437",
     "exception": false,
     "start_time": "2024-10-31T06:36:37.683219",
     "status": "completed"
    },
    "tags": []
   },
   "outputs": [],
   "source": [
    "# Requests allows us to make HTTP requests which we will use to get data from an API\n",
    "import requests\n",
    "# Pandas is a software library written for the Python programming language for data manipulation and analysis.\n",
    "import pandas as pd\n",
    "# NumPy is a library for the Python programming language, adding support for large, multi-dimensional arrays and matrices, along with a large collection of high-level mathematical functions to operate on these arrays\n",
    "import numpy as np\n",
    "# Datetime is a library that allows us to represent dates\n",
    "import datetime\n",
    "\n",
    "# Setting this option will print all collumns of a dataframe\n",
    "pd.set_option('display.max_columns', None)\n",
    "# Setting this option will print all of the data in a feature\n",
    "pd.set_option('display.max_colwidth', None)"
   ]
  },
  {
   "cell_type": "markdown",
   "id": "21832f74",
   "metadata": {
    "papermill": {
     "duration": 0.019263,
     "end_time": "2024-10-31T06:36:38.784703",
     "exception": false,
     "start_time": "2024-10-31T06:36:38.765440",
     "status": "completed"
    },
    "tags": []
   },
   "source": [
    "Below we will define a series of helper functions that will help us use the API to extract information using identification numbers in the launch data.\n",
    "\n",
    "From the <code>rocket</code> column we would like to learn the booster name.\n"
   ]
  },
  {
   "cell_type": "code",
   "execution_count": 2,
   "id": "333307de",
   "metadata": {
    "execution": {
     "iopub.execute_input": "2024-10-31T06:36:38.825271Z",
     "iopub.status.busy": "2024-10-31T06:36:38.824705Z",
     "iopub.status.idle": "2024-10-31T06:36:38.830791Z",
     "shell.execute_reply": "2024-10-31T06:36:38.829683Z"
    },
    "papermill": {
     "duration": 0.029286,
     "end_time": "2024-10-31T06:36:38.833357",
     "exception": false,
     "start_time": "2024-10-31T06:36:38.804071",
     "status": "completed"
    },
    "tags": []
   },
   "outputs": [],
   "source": [
    "# Takes the dataset and uses the rocket column to call the API and append the data to the list\n",
    "def getBoosterVersion(data):\n",
    "    for x in data['rocket']:\n",
    "       if x:\n",
    "        response = requests.get(\"https://api.spacexdata.com/v4/rockets/\"+str(x)).json()\n",
    "        BoosterVersion.append(response['name'])"
   ]
  },
  {
   "cell_type": "markdown",
   "id": "f5e463de",
   "metadata": {
    "papermill": {
     "duration": 0.019107,
     "end_time": "2024-10-31T06:36:38.871857",
     "exception": false,
     "start_time": "2024-10-31T06:36:38.852750",
     "status": "completed"
    },
    "tags": []
   },
   "source": [
    "From the <code>launchpad</code> we would like to know the name of the launch site being used, the logitude, and the latitude.\n"
   ]
  },
  {
   "cell_type": "code",
   "execution_count": 3,
   "id": "76e60fd2",
   "metadata": {
    "execution": {
     "iopub.execute_input": "2024-10-31T06:36:38.912116Z",
     "iopub.status.busy": "2024-10-31T06:36:38.911738Z",
     "iopub.status.idle": "2024-10-31T06:36:38.918411Z",
     "shell.execute_reply": "2024-10-31T06:36:38.917223Z"
    },
    "papermill": {
     "duration": 0.029728,
     "end_time": "2024-10-31T06:36:38.920722",
     "exception": false,
     "start_time": "2024-10-31T06:36:38.890994",
     "status": "completed"
    },
    "tags": []
   },
   "outputs": [],
   "source": [
    "# Takes the dataset and uses the launchpad column to call the API and append the data to the list\n",
    "def getLaunchSite(data):\n",
    "    for x in data['launchpad']:\n",
    "       if x:\n",
    "         response = requests.get(\"https://api.spacexdata.com/v4/launchpads/\"+str(x)).json()\n",
    "         Longitude.append(response['longitude'])\n",
    "         Latitude.append(response['latitude'])\n",
    "         LaunchSite.append(response['name'])"
   ]
  },
  {
   "cell_type": "markdown",
   "id": "7abe732c",
   "metadata": {
    "papermill": {
     "duration": 0.019095,
     "end_time": "2024-10-31T06:36:38.959055",
     "exception": false,
     "start_time": "2024-10-31T06:36:38.939960",
     "status": "completed"
    },
    "tags": []
   },
   "source": [
    "From the <code>payload</code> we would like to learn the mass of the payload and the orbit that it is going to.\n"
   ]
  },
  {
   "cell_type": "code",
   "execution_count": 4,
   "id": "934da62e",
   "metadata": {
    "execution": {
     "iopub.execute_input": "2024-10-31T06:36:38.999456Z",
     "iopub.status.busy": "2024-10-31T06:36:38.998703Z",
     "iopub.status.idle": "2024-10-31T06:36:39.005249Z",
     "shell.execute_reply": "2024-10-31T06:36:39.004098Z"
    },
    "papermill": {
     "duration": 0.02966,
     "end_time": "2024-10-31T06:36:39.007742",
     "exception": false,
     "start_time": "2024-10-31T06:36:38.978082",
     "status": "completed"
    },
    "tags": []
   },
   "outputs": [],
   "source": [
    "# Takes the dataset and uses the payloads column to call the API and append the data to the lists\n",
    "def getPayloadData(data):\n",
    "    for load in data['payloads']:\n",
    "       if load:\n",
    "        response = requests.get(\"https://api.spacexdata.com/v4/payloads/\"+load).json()\n",
    "        PayloadMass.append(response['mass_kg'])\n",
    "        Orbit.append(response['orbit'])"
   ]
  },
  {
   "cell_type": "markdown",
   "id": "2bdbcd47",
   "metadata": {
    "papermill": {
     "duration": 0.019101,
     "end_time": "2024-10-31T06:36:39.046272",
     "exception": false,
     "start_time": "2024-10-31T06:36:39.027171",
     "status": "completed"
    },
    "tags": []
   },
   "source": [
    "From <code>cores</code> we would like to learn the outcome of the landing, the type of the landing, number of flights with that core, whether gridfins were used, wheter the core is reused, wheter legs were used, the landing pad used, the block of the core which is a number used to seperate version of cores, the number of times this specific core has been reused, and the serial of the core.\n"
   ]
  },
  {
   "cell_type": "code",
   "execution_count": 5,
   "id": "8cbb8bee",
   "metadata": {
    "execution": {
     "iopub.execute_input": "2024-10-31T06:36:39.086750Z",
     "iopub.status.busy": "2024-10-31T06:36:39.086306Z",
     "iopub.status.idle": "2024-10-31T06:36:39.096357Z",
     "shell.execute_reply": "2024-10-31T06:36:39.095464Z"
    },
    "papermill": {
     "duration": 0.033169,
     "end_time": "2024-10-31T06:36:39.098814",
     "exception": false,
     "start_time": "2024-10-31T06:36:39.065645",
     "status": "completed"
    },
    "tags": []
   },
   "outputs": [],
   "source": [
    "# Takes the dataset and uses the cores column to call the API and append the data to the lists\n",
    "def getCoreData(data):\n",
    "    for core in data['cores']:\n",
    "            if core['core'] != None:\n",
    "                response = requests.get(\"https://api.spacexdata.com/v4/cores/\"+core['core']).json()\n",
    "                Block.append(response['block'])\n",
    "                ReusedCount.append(response['reuse_count'])\n",
    "                Serial.append(response['serial'])\n",
    "            else:\n",
    "                Block.append(None)\n",
    "                ReusedCount.append(None)\n",
    "                Serial.append(None)\n",
    "            Outcome.append(str(core['landing_success'])+' '+str(core['landing_type']))\n",
    "            Flights.append(core['flight'])\n",
    "            GridFins.append(core['gridfins'])\n",
    "            Reused.append(core['reused'])\n",
    "            Legs.append(core['legs'])\n",
    "            LandingPad.append(core['landpad'])"
   ]
  },
  {
   "cell_type": "markdown",
   "id": "032e33cb",
   "metadata": {
    "papermill": {
     "duration": 0.019018,
     "end_time": "2024-10-31T06:36:39.137064",
     "exception": false,
     "start_time": "2024-10-31T06:36:39.118046",
     "status": "completed"
    },
    "tags": []
   },
   "source": [
    "Now let's start requesting rocket launch data from SpaceX API with the following URL:\n"
   ]
  },
  {
   "cell_type": "code",
   "execution_count": 6,
   "id": "1c0efb23",
   "metadata": {
    "execution": {
     "iopub.execute_input": "2024-10-31T06:36:39.177709Z",
     "iopub.status.busy": "2024-10-31T06:36:39.176775Z",
     "iopub.status.idle": "2024-10-31T06:36:39.181758Z",
     "shell.execute_reply": "2024-10-31T06:36:39.180653Z"
    },
    "papermill": {
     "duration": 0.027812,
     "end_time": "2024-10-31T06:36:39.184039",
     "exception": false,
     "start_time": "2024-10-31T06:36:39.156227",
     "status": "completed"
    },
    "tags": []
   },
   "outputs": [],
   "source": [
    "spacex_url=\"https://api.spacexdata.com/v4/launches/past\""
   ]
  },
  {
   "cell_type": "code",
   "execution_count": 7,
   "id": "b4a29b0a",
   "metadata": {
    "execution": {
     "iopub.execute_input": "2024-10-31T06:36:39.224450Z",
     "iopub.status.busy": "2024-10-31T06:36:39.223607Z",
     "iopub.status.idle": "2024-10-31T06:36:40.580348Z",
     "shell.execute_reply": "2024-10-31T06:36:40.579343Z"
    },
    "papermill": {
     "duration": 1.379826,
     "end_time": "2024-10-31T06:36:40.583128",
     "exception": false,
     "start_time": "2024-10-31T06:36:39.203302",
     "status": "completed"
    },
    "tags": []
   },
   "outputs": [],
   "source": [
    "response = requests.get(spacex_url)"
   ]
  },
  {
   "cell_type": "markdown",
   "id": "78fa2e77",
   "metadata": {
    "papermill": {
     "duration": 0.018848,
     "end_time": "2024-10-31T06:36:40.621647",
     "exception": false,
     "start_time": "2024-10-31T06:36:40.602799",
     "status": "completed"
    },
    "tags": []
   },
   "source": [
    "Check the content of the response\n"
   ]
  },
  {
   "cell_type": "code",
   "execution_count": 8,
   "id": "08812ca1",
   "metadata": {
    "execution": {
     "iopub.execute_input": "2024-10-31T06:36:40.663946Z",
     "iopub.status.busy": "2024-10-31T06:36:40.663538Z",
     "iopub.status.idle": "2024-10-31T06:36:40.668275Z",
     "shell.execute_reply": "2024-10-31T06:36:40.667290Z"
    },
    "papermill": {
     "duration": 0.028412,
     "end_time": "2024-10-31T06:36:40.670691",
     "exception": false,
     "start_time": "2024-10-31T06:36:40.642279",
     "status": "completed"
    },
    "tags": []
   },
   "outputs": [],
   "source": [
    "#print(response.content)"
   ]
  },
  {
   "cell_type": "markdown",
   "id": "3406d1d2",
   "metadata": {
    "papermill": {
     "duration": 0.01925,
     "end_time": "2024-10-31T06:36:40.709472",
     "exception": false,
     "start_time": "2024-10-31T06:36:40.690222",
     "status": "completed"
    },
    "tags": []
   },
   "source": [
    "You should see the response contains massive information about SpaceX launches. Next, let's try to discover some more relevant information for this project.\n"
   ]
  },
  {
   "cell_type": "markdown",
   "id": "41bb7973",
   "metadata": {
    "papermill": {
     "duration": 0.018978,
     "end_time": "2024-10-31T06:36:40.747859",
     "exception": false,
     "start_time": "2024-10-31T06:36:40.728881",
     "status": "completed"
    },
    "tags": []
   },
   "source": [
    "### Task 1: Request and parse the SpaceX launch data using the GET request\n"
   ]
  },
  {
   "cell_type": "markdown",
   "id": "33c712a2",
   "metadata": {
    "papermill": {
     "duration": 0.01903,
     "end_time": "2024-10-31T06:36:40.786039",
     "exception": false,
     "start_time": "2024-10-31T06:36:40.767009",
     "status": "completed"
    },
    "tags": []
   },
   "source": [
    "To make the requested JSON results more consistent, we will use the following static response object for this project:\n"
   ]
  },
  {
   "cell_type": "code",
   "execution_count": 9,
   "id": "406396b7",
   "metadata": {
    "execution": {
     "iopub.execute_input": "2024-10-31T06:36:40.827429Z",
     "iopub.status.busy": "2024-10-31T06:36:40.826185Z",
     "iopub.status.idle": "2024-10-31T06:36:40.831826Z",
     "shell.execute_reply": "2024-10-31T06:36:40.830727Z"
    },
    "papermill": {
     "duration": 0.028686,
     "end_time": "2024-10-31T06:36:40.834170",
     "exception": false,
     "start_time": "2024-10-31T06:36:40.805484",
     "status": "completed"
    },
    "tags": []
   },
   "outputs": [],
   "source": [
    "static_json_url='https://cf-courses-data.s3.us.cloud-object-storage.appdomain.cloud/IBM-DS0321EN-SkillsNetwork/datasets/API_call_spacex_api.json'"
   ]
  },
  {
   "cell_type": "markdown",
   "id": "2520a294",
   "metadata": {
    "papermill": {
     "duration": 0.018876,
     "end_time": "2024-10-31T06:36:40.872283",
     "exception": false,
     "start_time": "2024-10-31T06:36:40.853407",
     "status": "completed"
    },
    "tags": []
   },
   "source": [
    "We should see that the request was successfull with the 200 status response code\n"
   ]
  },
  {
   "cell_type": "code",
   "execution_count": 10,
   "id": "46d334db",
   "metadata": {
    "execution": {
     "iopub.execute_input": "2024-10-31T06:36:40.912452Z",
     "iopub.status.busy": "2024-10-31T06:36:40.912015Z",
     "iopub.status.idle": "2024-10-31T06:36:40.920245Z",
     "shell.execute_reply": "2024-10-31T06:36:40.919227Z"
    },
    "papermill": {
     "duration": 0.031123,
     "end_time": "2024-10-31T06:36:40.922666",
     "exception": false,
     "start_time": "2024-10-31T06:36:40.891543",
     "status": "completed"
    },
    "tags": []
   },
   "outputs": [
    {
     "data": {
      "text/plain": [
       "200"
      ]
     },
     "execution_count": 10,
     "metadata": {},
     "output_type": "execute_result"
    }
   ],
   "source": [
    "response.status_code"
   ]
  },
  {
   "cell_type": "markdown",
   "id": "3beb0977",
   "metadata": {
    "papermill": {
     "duration": 0.019124,
     "end_time": "2024-10-31T06:36:40.961195",
     "exception": false,
     "start_time": "2024-10-31T06:36:40.942071",
     "status": "completed"
    },
    "tags": []
   },
   "source": [
    "Now we decode the response content as a Json using <code>.json()</code> and turn it into a Pandas dataframe using <code>.json_normalize()</code>\n"
   ]
  },
  {
   "cell_type": "code",
   "execution_count": 11,
   "id": "0b1ed021",
   "metadata": {
    "execution": {
     "iopub.execute_input": "2024-10-31T06:36:41.001916Z",
     "iopub.status.busy": "2024-10-31T06:36:41.001478Z",
     "iopub.status.idle": "2024-10-31T06:36:41.029238Z",
     "shell.execute_reply": "2024-10-31T06:36:41.028255Z"
    },
    "papermill": {
     "duration": 0.050893,
     "end_time": "2024-10-31T06:36:41.031538",
     "exception": false,
     "start_time": "2024-10-31T06:36:40.980645",
     "status": "completed"
    },
    "tags": []
   },
   "outputs": [],
   "source": [
    "# Use json_normalize meethod to convert the json result into a dataframe\n",
    "data = pd.json_normalize(response.json())"
   ]
  },
  {
   "cell_type": "markdown",
   "id": "42240f1a",
   "metadata": {
    "papermill": {
     "duration": 0.019141,
     "end_time": "2024-10-31T06:36:41.070237",
     "exception": false,
     "start_time": "2024-10-31T06:36:41.051096",
     "status": "completed"
    },
    "tags": []
   },
   "source": [
    "Using the dataframe <code>data</code> print the first 5 rows\n"
   ]
  },
  {
   "cell_type": "code",
   "execution_count": 12,
   "id": "21ee4b90",
   "metadata": {
    "execution": {
     "iopub.execute_input": "2024-10-31T06:36:41.110685Z",
     "iopub.status.busy": "2024-10-31T06:36:41.110257Z",
     "iopub.status.idle": "2024-10-31T06:36:41.175638Z",
     "shell.execute_reply": "2024-10-31T06:36:41.174617Z"
    },
    "papermill": {
     "duration": 0.089149,
     "end_time": "2024-10-31T06:36:41.178775",
     "exception": false,
     "start_time": "2024-10-31T06:36:41.089626",
     "status": "completed"
    },
    "tags": []
   },
   "outputs": [
    {
     "data": {
      "text/html": [
       "<div>\n",
       "<style scoped>\n",
       "    .dataframe tbody tr th:only-of-type {\n",
       "        vertical-align: middle;\n",
       "    }\n",
       "\n",
       "    .dataframe tbody tr th {\n",
       "        vertical-align: top;\n",
       "    }\n",
       "\n",
       "    .dataframe thead th {\n",
       "        text-align: right;\n",
       "    }\n",
       "</style>\n",
       "<table border=\"1\" class=\"dataframe\">\n",
       "  <thead>\n",
       "    <tr style=\"text-align: right;\">\n",
       "      <th></th>\n",
       "      <th>static_fire_date_utc</th>\n",
       "      <th>static_fire_date_unix</th>\n",
       "      <th>net</th>\n",
       "      <th>window</th>\n",
       "      <th>rocket</th>\n",
       "      <th>success</th>\n",
       "      <th>failures</th>\n",
       "      <th>details</th>\n",
       "      <th>crew</th>\n",
       "      <th>ships</th>\n",
       "      <th>capsules</th>\n",
       "      <th>payloads</th>\n",
       "      <th>launchpad</th>\n",
       "      <th>flight_number</th>\n",
       "      <th>name</th>\n",
       "      <th>date_utc</th>\n",
       "      <th>date_unix</th>\n",
       "      <th>date_local</th>\n",
       "      <th>date_precision</th>\n",
       "      <th>upcoming</th>\n",
       "      <th>cores</th>\n",
       "      <th>auto_update</th>\n",
       "      <th>tbd</th>\n",
       "      <th>launch_library_id</th>\n",
       "      <th>id</th>\n",
       "      <th>fairings.reused</th>\n",
       "      <th>fairings.recovery_attempt</th>\n",
       "      <th>fairings.recovered</th>\n",
       "      <th>fairings.ships</th>\n",
       "      <th>links.patch.small</th>\n",
       "      <th>links.patch.large</th>\n",
       "      <th>links.reddit.campaign</th>\n",
       "      <th>links.reddit.launch</th>\n",
       "      <th>links.reddit.media</th>\n",
       "      <th>links.reddit.recovery</th>\n",
       "      <th>links.flickr.small</th>\n",
       "      <th>links.flickr.original</th>\n",
       "      <th>links.presskit</th>\n",
       "      <th>links.webcast</th>\n",
       "      <th>links.youtube_id</th>\n",
       "      <th>links.article</th>\n",
       "      <th>links.wikipedia</th>\n",
       "      <th>fairings</th>\n",
       "    </tr>\n",
       "  </thead>\n",
       "  <tbody>\n",
       "    <tr>\n",
       "      <th>0</th>\n",
       "      <td>2006-03-17T00:00:00.000Z</td>\n",
       "      <td>1.142554e+09</td>\n",
       "      <td>False</td>\n",
       "      <td>0.0</td>\n",
       "      <td>5e9d0d95eda69955f709d1eb</td>\n",
       "      <td>False</td>\n",
       "      <td>[{'time': 33, 'altitude': None, 'reason': 'merlin engine failure'}]</td>\n",
       "      <td>Engine failure at 33 seconds and loss of vehicle</td>\n",
       "      <td>[]</td>\n",
       "      <td>[]</td>\n",
       "      <td>[]</td>\n",
       "      <td>[5eb0e4b5b6c3bb0006eeb1e1]</td>\n",
       "      <td>5e9e4502f5090995de566f86</td>\n",
       "      <td>1</td>\n",
       "      <td>FalconSat</td>\n",
       "      <td>2006-03-24T22:30:00.000Z</td>\n",
       "      <td>1143239400</td>\n",
       "      <td>2006-03-25T10:30:00+12:00</td>\n",
       "      <td>hour</td>\n",
       "      <td>False</td>\n",
       "      <td>[{'core': '5e9e289df35918033d3b2623', 'flight': 1, 'gridfins': False, 'legs': False, 'reused': False, 'landing_attempt': False, 'landing_success': None, 'landing_type': None, 'landpad': None}]</td>\n",
       "      <td>True</td>\n",
       "      <td>False</td>\n",
       "      <td>None</td>\n",
       "      <td>5eb87cd9ffd86e000604b32a</td>\n",
       "      <td>False</td>\n",
       "      <td>False</td>\n",
       "      <td>False</td>\n",
       "      <td>[]</td>\n",
       "      <td>https://images2.imgbox.com/94/f2/NN6Ph45r_o.png</td>\n",
       "      <td>https://images2.imgbox.com/5b/02/QcxHUb5V_o.png</td>\n",
       "      <td>None</td>\n",
       "      <td>None</td>\n",
       "      <td>None</td>\n",
       "      <td>None</td>\n",
       "      <td>[]</td>\n",
       "      <td>[]</td>\n",
       "      <td>None</td>\n",
       "      <td>https://www.youtube.com/watch?v=0a_00nJ_Y88</td>\n",
       "      <td>0a_00nJ_Y88</td>\n",
       "      <td>https://www.space.com/2196-spacex-inaugural-falcon-1-rocket-lost-launch.html</td>\n",
       "      <td>https://en.wikipedia.org/wiki/DemoSat</td>\n",
       "      <td>NaN</td>\n",
       "    </tr>\n",
       "    <tr>\n",
       "      <th>1</th>\n",
       "      <td>None</td>\n",
       "      <td>NaN</td>\n",
       "      <td>False</td>\n",
       "      <td>0.0</td>\n",
       "      <td>5e9d0d95eda69955f709d1eb</td>\n",
       "      <td>False</td>\n",
       "      <td>[{'time': 301, 'altitude': 289, 'reason': 'harmonic oscillation leading to premature engine shutdown'}]</td>\n",
       "      <td>Successful first stage burn and transition to second stage, maximum altitude 289 km, Premature engine shutdown at T+7 min 30 s, Failed to reach orbit, Failed to recover first stage</td>\n",
       "      <td>[]</td>\n",
       "      <td>[]</td>\n",
       "      <td>[]</td>\n",
       "      <td>[5eb0e4b6b6c3bb0006eeb1e2]</td>\n",
       "      <td>5e9e4502f5090995de566f86</td>\n",
       "      <td>2</td>\n",
       "      <td>DemoSat</td>\n",
       "      <td>2007-03-21T01:10:00.000Z</td>\n",
       "      <td>1174439400</td>\n",
       "      <td>2007-03-21T13:10:00+12:00</td>\n",
       "      <td>hour</td>\n",
       "      <td>False</td>\n",
       "      <td>[{'core': '5e9e289ef35918416a3b2624', 'flight': 1, 'gridfins': False, 'legs': False, 'reused': False, 'landing_attempt': False, 'landing_success': None, 'landing_type': None, 'landpad': None}]</td>\n",
       "      <td>True</td>\n",
       "      <td>False</td>\n",
       "      <td>None</td>\n",
       "      <td>5eb87cdaffd86e000604b32b</td>\n",
       "      <td>False</td>\n",
       "      <td>False</td>\n",
       "      <td>False</td>\n",
       "      <td>[]</td>\n",
       "      <td>https://images2.imgbox.com/f9/4a/ZboXReNb_o.png</td>\n",
       "      <td>https://images2.imgbox.com/80/a2/bkWotCIS_o.png</td>\n",
       "      <td>None</td>\n",
       "      <td>None</td>\n",
       "      <td>None</td>\n",
       "      <td>None</td>\n",
       "      <td>[]</td>\n",
       "      <td>[]</td>\n",
       "      <td>None</td>\n",
       "      <td>https://www.youtube.com/watch?v=Lk4zQ2wP-Nc</td>\n",
       "      <td>Lk4zQ2wP-Nc</td>\n",
       "      <td>https://www.space.com/3590-spacex-falcon-1-rocket-fails-reach-orbit.html</td>\n",
       "      <td>https://en.wikipedia.org/wiki/DemoSat</td>\n",
       "      <td>NaN</td>\n",
       "    </tr>\n",
       "    <tr>\n",
       "      <th>2</th>\n",
       "      <td>None</td>\n",
       "      <td>NaN</td>\n",
       "      <td>False</td>\n",
       "      <td>0.0</td>\n",
       "      <td>5e9d0d95eda69955f709d1eb</td>\n",
       "      <td>False</td>\n",
       "      <td>[{'time': 140, 'altitude': 35, 'reason': 'residual stage-1 thrust led to collision between stage 1 and stage 2'}]</td>\n",
       "      <td>Residual stage 1 thrust led to collision between stage 1 and stage 2</td>\n",
       "      <td>[]</td>\n",
       "      <td>[]</td>\n",
       "      <td>[]</td>\n",
       "      <td>[5eb0e4b6b6c3bb0006eeb1e3, 5eb0e4b6b6c3bb0006eeb1e4]</td>\n",
       "      <td>5e9e4502f5090995de566f86</td>\n",
       "      <td>3</td>\n",
       "      <td>Trailblazer</td>\n",
       "      <td>2008-08-03T03:34:00.000Z</td>\n",
       "      <td>1217734440</td>\n",
       "      <td>2008-08-03T15:34:00+12:00</td>\n",
       "      <td>hour</td>\n",
       "      <td>False</td>\n",
       "      <td>[{'core': '5e9e289ef3591814873b2625', 'flight': 1, 'gridfins': False, 'legs': False, 'reused': False, 'landing_attempt': False, 'landing_success': None, 'landing_type': None, 'landpad': None}]</td>\n",
       "      <td>True</td>\n",
       "      <td>False</td>\n",
       "      <td>None</td>\n",
       "      <td>5eb87cdbffd86e000604b32c</td>\n",
       "      <td>False</td>\n",
       "      <td>False</td>\n",
       "      <td>False</td>\n",
       "      <td>[]</td>\n",
       "      <td>https://images2.imgbox.com/6c/cb/na1tzhHs_o.png</td>\n",
       "      <td>https://images2.imgbox.com/4a/80/k1oAkY0k_o.png</td>\n",
       "      <td>None</td>\n",
       "      <td>None</td>\n",
       "      <td>None</td>\n",
       "      <td>None</td>\n",
       "      <td>[]</td>\n",
       "      <td>[]</td>\n",
       "      <td>None</td>\n",
       "      <td>https://www.youtube.com/watch?v=v0w9p3U8860</td>\n",
       "      <td>v0w9p3U8860</td>\n",
       "      <td>http://www.spacex.com/news/2013/02/11/falcon-1-flight-3-mission-summary</td>\n",
       "      <td>https://en.wikipedia.org/wiki/Trailblazer_(satellite)</td>\n",
       "      <td>NaN</td>\n",
       "    </tr>\n",
       "    <tr>\n",
       "      <th>3</th>\n",
       "      <td>2008-09-20T00:00:00.000Z</td>\n",
       "      <td>1.221869e+09</td>\n",
       "      <td>False</td>\n",
       "      <td>0.0</td>\n",
       "      <td>5e9d0d95eda69955f709d1eb</td>\n",
       "      <td>True</td>\n",
       "      <td>[]</td>\n",
       "      <td>Ratsat was carried to orbit on the first successful orbital launch of any privately funded and developed, liquid-propelled carrier rocket, the SpaceX Falcon 1</td>\n",
       "      <td>[]</td>\n",
       "      <td>[]</td>\n",
       "      <td>[]</td>\n",
       "      <td>[5eb0e4b7b6c3bb0006eeb1e5]</td>\n",
       "      <td>5e9e4502f5090995de566f86</td>\n",
       "      <td>4</td>\n",
       "      <td>RatSat</td>\n",
       "      <td>2008-09-28T23:15:00.000Z</td>\n",
       "      <td>1222643700</td>\n",
       "      <td>2008-09-28T11:15:00+12:00</td>\n",
       "      <td>hour</td>\n",
       "      <td>False</td>\n",
       "      <td>[{'core': '5e9e289ef3591855dc3b2626', 'flight': 1, 'gridfins': False, 'legs': False, 'reused': False, 'landing_attempt': False, 'landing_success': None, 'landing_type': None, 'landpad': None}]</td>\n",
       "      <td>True</td>\n",
       "      <td>False</td>\n",
       "      <td>None</td>\n",
       "      <td>5eb87cdbffd86e000604b32d</td>\n",
       "      <td>False</td>\n",
       "      <td>False</td>\n",
       "      <td>False</td>\n",
       "      <td>[]</td>\n",
       "      <td>https://images2.imgbox.com/95/39/sRqN7rsv_o.png</td>\n",
       "      <td>https://images2.imgbox.com/a3/99/qswRYzE8_o.png</td>\n",
       "      <td>None</td>\n",
       "      <td>None</td>\n",
       "      <td>None</td>\n",
       "      <td>None</td>\n",
       "      <td>[]</td>\n",
       "      <td>[]</td>\n",
       "      <td>None</td>\n",
       "      <td>https://www.youtube.com/watch?v=dLQ2tZEH6G0</td>\n",
       "      <td>dLQ2tZEH6G0</td>\n",
       "      <td>https://en.wikipedia.org/wiki/Ratsat</td>\n",
       "      <td>https://en.wikipedia.org/wiki/Ratsat</td>\n",
       "      <td>NaN</td>\n",
       "    </tr>\n",
       "    <tr>\n",
       "      <th>4</th>\n",
       "      <td>None</td>\n",
       "      <td>NaN</td>\n",
       "      <td>False</td>\n",
       "      <td>0.0</td>\n",
       "      <td>5e9d0d95eda69955f709d1eb</td>\n",
       "      <td>True</td>\n",
       "      <td>[]</td>\n",
       "      <td>None</td>\n",
       "      <td>[]</td>\n",
       "      <td>[]</td>\n",
       "      <td>[]</td>\n",
       "      <td>[5eb0e4b7b6c3bb0006eeb1e6]</td>\n",
       "      <td>5e9e4502f5090995de566f86</td>\n",
       "      <td>5</td>\n",
       "      <td>RazakSat</td>\n",
       "      <td>2009-07-13T03:35:00.000Z</td>\n",
       "      <td>1247456100</td>\n",
       "      <td>2009-07-13T15:35:00+12:00</td>\n",
       "      <td>hour</td>\n",
       "      <td>False</td>\n",
       "      <td>[{'core': '5e9e289ef359184f103b2627', 'flight': 1, 'gridfins': False, 'legs': False, 'reused': False, 'landing_attempt': False, 'landing_success': None, 'landing_type': None, 'landpad': None}]</td>\n",
       "      <td>True</td>\n",
       "      <td>False</td>\n",
       "      <td>None</td>\n",
       "      <td>5eb87cdcffd86e000604b32e</td>\n",
       "      <td>False</td>\n",
       "      <td>False</td>\n",
       "      <td>False</td>\n",
       "      <td>[]</td>\n",
       "      <td>https://images2.imgbox.com/ab/5a/Pequxd5d_o.png</td>\n",
       "      <td>https://images2.imgbox.com/92/e4/7Cf6MLY0_o.png</td>\n",
       "      <td>None</td>\n",
       "      <td>None</td>\n",
       "      <td>None</td>\n",
       "      <td>None</td>\n",
       "      <td>[]</td>\n",
       "      <td>[]</td>\n",
       "      <td>http://www.spacex.com/press/2012/12/19/spacexs-falcon-1-successfully-delivers-razaksat-satellite-orbit</td>\n",
       "      <td>https://www.youtube.com/watch?v=yTaIDooc8Og</td>\n",
       "      <td>yTaIDooc8Og</td>\n",
       "      <td>http://www.spacex.com/news/2013/02/12/falcon-1-flight-5</td>\n",
       "      <td>https://en.wikipedia.org/wiki/RazakSAT</td>\n",
       "      <td>NaN</td>\n",
       "    </tr>\n",
       "  </tbody>\n",
       "</table>\n",
       "</div>"
      ],
      "text/plain": [
       "       static_fire_date_utc  static_fire_date_unix    net  window  \\\n",
       "0  2006-03-17T00:00:00.000Z           1.142554e+09  False     0.0   \n",
       "1                      None                    NaN  False     0.0   \n",
       "2                      None                    NaN  False     0.0   \n",
       "3  2008-09-20T00:00:00.000Z           1.221869e+09  False     0.0   \n",
       "4                      None                    NaN  False     0.0   \n",
       "\n",
       "                     rocket success  \\\n",
       "0  5e9d0d95eda69955f709d1eb   False   \n",
       "1  5e9d0d95eda69955f709d1eb   False   \n",
       "2  5e9d0d95eda69955f709d1eb   False   \n",
       "3  5e9d0d95eda69955f709d1eb    True   \n",
       "4  5e9d0d95eda69955f709d1eb    True   \n",
       "\n",
       "                                                                                                            failures  \\\n",
       "0                                                [{'time': 33, 'altitude': None, 'reason': 'merlin engine failure'}]   \n",
       "1            [{'time': 301, 'altitude': 289, 'reason': 'harmonic oscillation leading to premature engine shutdown'}]   \n",
       "2  [{'time': 140, 'altitude': 35, 'reason': 'residual stage-1 thrust led to collision between stage 1 and stage 2'}]   \n",
       "3                                                                                                                 []   \n",
       "4                                                                                                                 []   \n",
       "\n",
       "                                                                                                                                                                                details  \\\n",
       "0                                                                                                                                      Engine failure at 33 seconds and loss of vehicle   \n",
       "1  Successful first stage burn and transition to second stage, maximum altitude 289 km, Premature engine shutdown at T+7 min 30 s, Failed to reach orbit, Failed to recover first stage   \n",
       "2                                                                                                                  Residual stage 1 thrust led to collision between stage 1 and stage 2   \n",
       "3                        Ratsat was carried to orbit on the first successful orbital launch of any privately funded and developed, liquid-propelled carrier rocket, the SpaceX Falcon 1   \n",
       "4                                                                                                                                                                                  None   \n",
       "\n",
       "  crew ships capsules                                              payloads  \\\n",
       "0   []    []       []                            [5eb0e4b5b6c3bb0006eeb1e1]   \n",
       "1   []    []       []                            [5eb0e4b6b6c3bb0006eeb1e2]   \n",
       "2   []    []       []  [5eb0e4b6b6c3bb0006eeb1e3, 5eb0e4b6b6c3bb0006eeb1e4]   \n",
       "3   []    []       []                            [5eb0e4b7b6c3bb0006eeb1e5]   \n",
       "4   []    []       []                            [5eb0e4b7b6c3bb0006eeb1e6]   \n",
       "\n",
       "                  launchpad  flight_number         name  \\\n",
       "0  5e9e4502f5090995de566f86              1    FalconSat   \n",
       "1  5e9e4502f5090995de566f86              2      DemoSat   \n",
       "2  5e9e4502f5090995de566f86              3  Trailblazer   \n",
       "3  5e9e4502f5090995de566f86              4       RatSat   \n",
       "4  5e9e4502f5090995de566f86              5     RazakSat   \n",
       "\n",
       "                   date_utc   date_unix                 date_local  \\\n",
       "0  2006-03-24T22:30:00.000Z  1143239400  2006-03-25T10:30:00+12:00   \n",
       "1  2007-03-21T01:10:00.000Z  1174439400  2007-03-21T13:10:00+12:00   \n",
       "2  2008-08-03T03:34:00.000Z  1217734440  2008-08-03T15:34:00+12:00   \n",
       "3  2008-09-28T23:15:00.000Z  1222643700  2008-09-28T11:15:00+12:00   \n",
       "4  2009-07-13T03:35:00.000Z  1247456100  2009-07-13T15:35:00+12:00   \n",
       "\n",
       "  date_precision  upcoming  \\\n",
       "0           hour     False   \n",
       "1           hour     False   \n",
       "2           hour     False   \n",
       "3           hour     False   \n",
       "4           hour     False   \n",
       "\n",
       "                                                                                                                                                                                              cores  \\\n",
       "0  [{'core': '5e9e289df35918033d3b2623', 'flight': 1, 'gridfins': False, 'legs': False, 'reused': False, 'landing_attempt': False, 'landing_success': None, 'landing_type': None, 'landpad': None}]   \n",
       "1  [{'core': '5e9e289ef35918416a3b2624', 'flight': 1, 'gridfins': False, 'legs': False, 'reused': False, 'landing_attempt': False, 'landing_success': None, 'landing_type': None, 'landpad': None}]   \n",
       "2  [{'core': '5e9e289ef3591814873b2625', 'flight': 1, 'gridfins': False, 'legs': False, 'reused': False, 'landing_attempt': False, 'landing_success': None, 'landing_type': None, 'landpad': None}]   \n",
       "3  [{'core': '5e9e289ef3591855dc3b2626', 'flight': 1, 'gridfins': False, 'legs': False, 'reused': False, 'landing_attempt': False, 'landing_success': None, 'landing_type': None, 'landpad': None}]   \n",
       "4  [{'core': '5e9e289ef359184f103b2627', 'flight': 1, 'gridfins': False, 'legs': False, 'reused': False, 'landing_attempt': False, 'landing_success': None, 'landing_type': None, 'landpad': None}]   \n",
       "\n",
       "   auto_update    tbd launch_library_id                        id  \\\n",
       "0         True  False              None  5eb87cd9ffd86e000604b32a   \n",
       "1         True  False              None  5eb87cdaffd86e000604b32b   \n",
       "2         True  False              None  5eb87cdbffd86e000604b32c   \n",
       "3         True  False              None  5eb87cdbffd86e000604b32d   \n",
       "4         True  False              None  5eb87cdcffd86e000604b32e   \n",
       "\n",
       "  fairings.reused fairings.recovery_attempt fairings.recovered fairings.ships  \\\n",
       "0           False                     False              False             []   \n",
       "1           False                     False              False             []   \n",
       "2           False                     False              False             []   \n",
       "3           False                     False              False             []   \n",
       "4           False                     False              False             []   \n",
       "\n",
       "                                 links.patch.small  \\\n",
       "0  https://images2.imgbox.com/94/f2/NN6Ph45r_o.png   \n",
       "1  https://images2.imgbox.com/f9/4a/ZboXReNb_o.png   \n",
       "2  https://images2.imgbox.com/6c/cb/na1tzhHs_o.png   \n",
       "3  https://images2.imgbox.com/95/39/sRqN7rsv_o.png   \n",
       "4  https://images2.imgbox.com/ab/5a/Pequxd5d_o.png   \n",
       "\n",
       "                                 links.patch.large links.reddit.campaign  \\\n",
       "0  https://images2.imgbox.com/5b/02/QcxHUb5V_o.png                  None   \n",
       "1  https://images2.imgbox.com/80/a2/bkWotCIS_o.png                  None   \n",
       "2  https://images2.imgbox.com/4a/80/k1oAkY0k_o.png                  None   \n",
       "3  https://images2.imgbox.com/a3/99/qswRYzE8_o.png                  None   \n",
       "4  https://images2.imgbox.com/92/e4/7Cf6MLY0_o.png                  None   \n",
       "\n",
       "  links.reddit.launch links.reddit.media links.reddit.recovery  \\\n",
       "0                None               None                  None   \n",
       "1                None               None                  None   \n",
       "2                None               None                  None   \n",
       "3                None               None                  None   \n",
       "4                None               None                  None   \n",
       "\n",
       "  links.flickr.small links.flickr.original  \\\n",
       "0                 []                    []   \n",
       "1                 []                    []   \n",
       "2                 []                    []   \n",
       "3                 []                    []   \n",
       "4                 []                    []   \n",
       "\n",
       "                                                                                           links.presskit  \\\n",
       "0                                                                                                    None   \n",
       "1                                                                                                    None   \n",
       "2                                                                                                    None   \n",
       "3                                                                                                    None   \n",
       "4  http://www.spacex.com/press/2012/12/19/spacexs-falcon-1-successfully-delivers-razaksat-satellite-orbit   \n",
       "\n",
       "                                 links.webcast links.youtube_id  \\\n",
       "0  https://www.youtube.com/watch?v=0a_00nJ_Y88      0a_00nJ_Y88   \n",
       "1  https://www.youtube.com/watch?v=Lk4zQ2wP-Nc      Lk4zQ2wP-Nc   \n",
       "2  https://www.youtube.com/watch?v=v0w9p3U8860      v0w9p3U8860   \n",
       "3  https://www.youtube.com/watch?v=dLQ2tZEH6G0      dLQ2tZEH6G0   \n",
       "4  https://www.youtube.com/watch?v=yTaIDooc8Og      yTaIDooc8Og   \n",
       "\n",
       "                                                                  links.article  \\\n",
       "0  https://www.space.com/2196-spacex-inaugural-falcon-1-rocket-lost-launch.html   \n",
       "1      https://www.space.com/3590-spacex-falcon-1-rocket-fails-reach-orbit.html   \n",
       "2       http://www.spacex.com/news/2013/02/11/falcon-1-flight-3-mission-summary   \n",
       "3                                          https://en.wikipedia.org/wiki/Ratsat   \n",
       "4                       http://www.spacex.com/news/2013/02/12/falcon-1-flight-5   \n",
       "\n",
       "                                         links.wikipedia  fairings  \n",
       "0                  https://en.wikipedia.org/wiki/DemoSat       NaN  \n",
       "1                  https://en.wikipedia.org/wiki/DemoSat       NaN  \n",
       "2  https://en.wikipedia.org/wiki/Trailblazer_(satellite)       NaN  \n",
       "3                   https://en.wikipedia.org/wiki/Ratsat       NaN  \n",
       "4                 https://en.wikipedia.org/wiki/RazakSAT       NaN  "
      ]
     },
     "execution_count": 12,
     "metadata": {},
     "output_type": "execute_result"
    }
   ],
   "source": [
    "# Get the head of the dataframe\n",
    "data.head()"
   ]
  },
  {
   "cell_type": "markdown",
   "id": "3cb20a39",
   "metadata": {
    "papermill": {
     "duration": 0.01998,
     "end_time": "2024-10-31T06:36:41.219125",
     "exception": false,
     "start_time": "2024-10-31T06:36:41.199145",
     "status": "completed"
    },
    "tags": []
   },
   "source": [
    "You will notice that a lot of the data are IDs. For example the rocket column has no information about the rocket just an identification number.\n",
    "\n",
    "We will now use the API again to get information about the launches using the IDs given for each launch. Specifically we will be using columns <code>rocket</code>, <code>payloads</code>, <code>launchpad</code>, and <code>cores</code>.\n"
   ]
  },
  {
   "cell_type": "code",
   "execution_count": 13,
   "id": "eba5da9b",
   "metadata": {
    "execution": {
     "iopub.execute_input": "2024-10-31T06:36:41.261762Z",
     "iopub.status.busy": "2024-10-31T06:36:41.261307Z",
     "iopub.status.idle": "2024-10-31T06:36:41.293398Z",
     "shell.execute_reply": "2024-10-31T06:36:41.292299Z"
    },
    "papermill": {
     "duration": 0.056245,
     "end_time": "2024-10-31T06:36:41.295913",
     "exception": false,
     "start_time": "2024-10-31T06:36:41.239668",
     "status": "completed"
    },
    "tags": []
   },
   "outputs": [],
   "source": [
    "# Lets take a subset of our dataframe keeping only the features we want and the flight number, and date_utc.\n",
    "data = data[['rocket', 'payloads', 'launchpad', 'cores', 'flight_number', 'date_utc']]\n",
    "\n",
    "# We will remove rows with multiple cores because those are falcon rockets with 2 extra rocket boosters and rows that have multiple payloads in a single rocket.\n",
    "data = data[data['cores'].map(len)==1]\n",
    "data = data[data['payloads'].map(len)==1]\n",
    "\n",
    "# Since payloads and cores are lists of size 1 we will also extract the single value in the list and replace the feature.\n",
    "data['cores'] = data['cores'].map(lambda x : x[0])\n",
    "data['payloads'] = data['payloads'].map(lambda x : x[0])\n",
    "\n",
    "# We also want to convert the date_utc to a datetime datatype and then extracting the date leaving the time\n",
    "data['date'] = pd.to_datetime(data['date_utc']).dt.date\n",
    "\n",
    "# Using the date we will restrict the dates of the launches\n",
    "data = data[data['date'] <= datetime.date(2020, 11, 13)]"
   ]
  },
  {
   "cell_type": "markdown",
   "id": "c712b541",
   "metadata": {
    "papermill": {
     "duration": 0.019945,
     "end_time": "2024-10-31T06:36:41.336133",
     "exception": false,
     "start_time": "2024-10-31T06:36:41.316188",
     "status": "completed"
    },
    "tags": []
   },
   "source": [
    "* From the <code>rocket</code> we would like to learn the booster name\n",
    "\n",
    "* From the <code>payload</code> we would like to learn the mass of the payload and the orbit that it is going to\n",
    "\n",
    "* From the <code>launchpad</code> we would like to know the name of the launch site being used, the longitude, and the latitude.\n",
    "\n",
    "* **From <code>cores</code> we would like to learn the outcome of the landing, the type of the landing, number of flights with that core, whether gridfins were used, whether the core is reused, whether legs were used, the landing pad used, the block of the core which is a number used to seperate version of cores, the number of times this specific core has been reused, and the serial of the core.**\n",
    "\n",
    "The data from these requests will be stored in lists and will be used to create a new dataframe.\n"
   ]
  },
  {
   "cell_type": "code",
   "execution_count": 14,
   "id": "4c0fab2c",
   "metadata": {
    "execution": {
     "iopub.execute_input": "2024-10-31T06:36:41.378347Z",
     "iopub.status.busy": "2024-10-31T06:36:41.377925Z",
     "iopub.status.idle": "2024-10-31T06:36:41.384881Z",
     "shell.execute_reply": "2024-10-31T06:36:41.383756Z"
    },
    "papermill": {
     "duration": 0.03089,
     "end_time": "2024-10-31T06:36:41.387180",
     "exception": false,
     "start_time": "2024-10-31T06:36:41.356290",
     "status": "completed"
    },
    "tags": []
   },
   "outputs": [],
   "source": [
    "#Global variables \n",
    "BoosterVersion = []\n",
    "PayloadMass = []\n",
    "Orbit = []\n",
    "LaunchSite = []\n",
    "Outcome = []\n",
    "Flights = []\n",
    "GridFins = []\n",
    "Reused = []\n",
    "Legs = []\n",
    "LandingPad = []\n",
    "Block = []\n",
    "ReusedCount = []\n",
    "Serial = []\n",
    "Longitude = []\n",
    "Latitude = []"
   ]
  },
  {
   "cell_type": "markdown",
   "id": "57313fcc",
   "metadata": {
    "papermill": {
     "duration": 0.020202,
     "end_time": "2024-10-31T06:36:41.427514",
     "exception": false,
     "start_time": "2024-10-31T06:36:41.407312",
     "status": "completed"
    },
    "tags": []
   },
   "source": [
    "These functions will apply the outputs globally to the above variables. Let's take a looks at <code>BoosterVersion</code> variable. Before we apply  <code>getBoosterVersion</code> the list is empty:\n"
   ]
  },
  {
   "cell_type": "code",
   "execution_count": 15,
   "id": "bbe376f8",
   "metadata": {
    "execution": {
     "iopub.execute_input": "2024-10-31T06:36:41.469873Z",
     "iopub.status.busy": "2024-10-31T06:36:41.469419Z",
     "iopub.status.idle": "2024-10-31T06:36:41.475956Z",
     "shell.execute_reply": "2024-10-31T06:36:41.474859Z"
    },
    "papermill": {
     "duration": 0.030559,
     "end_time": "2024-10-31T06:36:41.478330",
     "exception": false,
     "start_time": "2024-10-31T06:36:41.447771",
     "status": "completed"
    },
    "tags": []
   },
   "outputs": [
    {
     "data": {
      "text/plain": [
       "[]"
      ]
     },
     "execution_count": 15,
     "metadata": {},
     "output_type": "execute_result"
    }
   ],
   "source": [
    "BoosterVersion"
   ]
  },
  {
   "cell_type": "markdown",
   "id": "27d8c73e",
   "metadata": {
    "papermill": {
     "duration": 0.020269,
     "end_time": "2024-10-31T06:36:41.519531",
     "exception": false,
     "start_time": "2024-10-31T06:36:41.499262",
     "status": "completed"
    },
    "tags": []
   },
   "source": [
    "Now, let's apply <code> getBoosterVersion</code> function method to get the booster version\n"
   ]
  },
  {
   "cell_type": "code",
   "execution_count": 16,
   "id": "5278ce34",
   "metadata": {
    "execution": {
     "iopub.execute_input": "2024-10-31T06:36:41.562870Z",
     "iopub.status.busy": "2024-10-31T06:36:41.562473Z",
     "iopub.status.idle": "2024-10-31T06:37:06.803291Z",
     "shell.execute_reply": "2024-10-31T06:37:06.802085Z"
    },
    "papermill": {
     "duration": 25.266176,
     "end_time": "2024-10-31T06:37:06.806225",
     "exception": false,
     "start_time": "2024-10-31T06:36:41.540049",
     "status": "completed"
    },
    "tags": []
   },
   "outputs": [],
   "source": [
    "# Call getBoosterVersion\n",
    "getBoosterVersion(data)"
   ]
  },
  {
   "cell_type": "markdown",
   "id": "ac666716",
   "metadata": {
    "papermill": {
     "duration": 0.020019,
     "end_time": "2024-10-31T06:37:06.847271",
     "exception": false,
     "start_time": "2024-10-31T06:37:06.827252",
     "status": "completed"
    },
    "tags": []
   },
   "source": [
    "the list has now been update \n"
   ]
  },
  {
   "cell_type": "code",
   "execution_count": 17,
   "id": "e73e571f",
   "metadata": {
    "execution": {
     "iopub.execute_input": "2024-10-31T06:37:06.890693Z",
     "iopub.status.busy": "2024-10-31T06:37:06.889822Z",
     "iopub.status.idle": "2024-10-31T06:37:06.896974Z",
     "shell.execute_reply": "2024-10-31T06:37:06.896004Z"
    },
    "papermill": {
     "duration": 0.031462,
     "end_time": "2024-10-31T06:37:06.899318",
     "exception": false,
     "start_time": "2024-10-31T06:37:06.867856",
     "status": "completed"
    },
    "tags": []
   },
   "outputs": [
    {
     "data": {
      "text/plain": [
       "['Falcon 1', 'Falcon 1', 'Falcon 1', 'Falcon 1', 'Falcon 9']"
      ]
     },
     "execution_count": 17,
     "metadata": {},
     "output_type": "execute_result"
    }
   ],
   "source": [
    "BoosterVersion[0:5]"
   ]
  },
  {
   "cell_type": "markdown",
   "id": "a1adaf9b",
   "metadata": {
    "papermill": {
     "duration": 0.020339,
     "end_time": "2024-10-31T06:37:06.940686",
     "exception": false,
     "start_time": "2024-10-31T06:37:06.920347",
     "status": "completed"
    },
    "tags": []
   },
   "source": [
    "we can apply the rest of the  functions here:\n"
   ]
  },
  {
   "cell_type": "code",
   "execution_count": 18,
   "id": "32f200ad",
   "metadata": {
    "execution": {
     "iopub.execute_input": "2024-10-31T06:37:06.983410Z",
     "iopub.status.busy": "2024-10-31T06:37:06.983010Z",
     "iopub.status.idle": "2024-10-31T06:37:30.948234Z",
     "shell.execute_reply": "2024-10-31T06:37:30.947033Z"
    },
    "papermill": {
     "duration": 23.989927,
     "end_time": "2024-10-31T06:37:30.951053",
     "exception": false,
     "start_time": "2024-10-31T06:37:06.961126",
     "status": "completed"
    },
    "tags": []
   },
   "outputs": [],
   "source": [
    "# Call getLaunchSite\n",
    "getLaunchSite(data)"
   ]
  },
  {
   "cell_type": "code",
   "execution_count": 19,
   "id": "90dd3d6e",
   "metadata": {
    "execution": {
     "iopub.execute_input": "2024-10-31T06:37:30.994408Z",
     "iopub.status.busy": "2024-10-31T06:37:30.993959Z",
     "iopub.status.idle": "2024-10-31T06:37:56.213966Z",
     "shell.execute_reply": "2024-10-31T06:37:56.212880Z"
    },
    "papermill": {
     "duration": 25.244909,
     "end_time": "2024-10-31T06:37:56.216864",
     "exception": false,
     "start_time": "2024-10-31T06:37:30.971955",
     "status": "completed"
    },
    "tags": []
   },
   "outputs": [],
   "source": [
    "# Call getPayloadData\n",
    "getPayloadData(data)"
   ]
  },
  {
   "cell_type": "code",
   "execution_count": 20,
   "id": "7298b5d7",
   "metadata": {
    "execution": {
     "iopub.execute_input": "2024-10-31T06:37:56.261224Z",
     "iopub.status.busy": "2024-10-31T06:37:56.260788Z",
     "iopub.status.idle": "2024-10-31T06:38:20.166619Z",
     "shell.execute_reply": "2024-10-31T06:38:20.165662Z"
    },
    "papermill": {
     "duration": 23.931059,
     "end_time": "2024-10-31T06:38:20.169360",
     "exception": false,
     "start_time": "2024-10-31T06:37:56.238301",
     "status": "completed"
    },
    "tags": []
   },
   "outputs": [],
   "source": [
    "# Call getCoreData\n",
    "getCoreData(data)"
   ]
  },
  {
   "cell_type": "markdown",
   "id": "7fc91dcb",
   "metadata": {
    "papermill": {
     "duration": 0.020468,
     "end_time": "2024-10-31T06:38:20.210692",
     "exception": false,
     "start_time": "2024-10-31T06:38:20.190224",
     "status": "completed"
    },
    "tags": []
   },
   "source": [
    "Finally lets construct our dataset using the data we have obtained. We we combine the columns into a dictionary.\n"
   ]
  },
  {
   "cell_type": "code",
   "execution_count": 21,
   "id": "d25b6af6",
   "metadata": {
    "execution": {
     "iopub.execute_input": "2024-10-31T06:38:20.254275Z",
     "iopub.status.busy": "2024-10-31T06:38:20.253869Z",
     "iopub.status.idle": "2024-10-31T06:38:20.261186Z",
     "shell.execute_reply": "2024-10-31T06:38:20.260054Z"
    },
    "papermill": {
     "duration": 0.03179,
     "end_time": "2024-10-31T06:38:20.263521",
     "exception": false,
     "start_time": "2024-10-31T06:38:20.231731",
     "status": "completed"
    },
    "tags": []
   },
   "outputs": [],
   "source": [
    "launch_dict = {'FlightNumber': list(data['flight_number']),\n",
    "'Date': list(data['date']),\n",
    "'BoosterVersion':BoosterVersion,\n",
    "'PayloadMass':PayloadMass,\n",
    "'Orbit':Orbit,\n",
    "'LaunchSite':LaunchSite,\n",
    "'Outcome':Outcome,\n",
    "'Flights':Flights,\n",
    "'GridFins':GridFins,\n",
    "'Reused':Reused,\n",
    "'Legs':Legs,\n",
    "'LandingPad':LandingPad,\n",
    "'Block':Block,\n",
    "'ReusedCount':ReusedCount,\n",
    "'Serial':Serial,\n",
    "'Longitude': Longitude,\n",
    "'Latitude': Latitude}\n"
   ]
  },
  {
   "cell_type": "markdown",
   "id": "93b6c60e",
   "metadata": {
    "papermill": {
     "duration": 0.020513,
     "end_time": "2024-10-31T06:38:20.304800",
     "exception": false,
     "start_time": "2024-10-31T06:38:20.284287",
     "status": "completed"
    },
    "tags": []
   },
   "source": [
    "Then, we need to create a Pandas data frame from the dictionary launch_dict.\n"
   ]
  },
  {
   "cell_type": "code",
   "execution_count": 22,
   "id": "372d66d6",
   "metadata": {
    "execution": {
     "iopub.execute_input": "2024-10-31T06:38:20.348045Z",
     "iopub.status.busy": "2024-10-31T06:38:20.347637Z",
     "iopub.status.idle": "2024-10-31T06:38:20.355538Z",
     "shell.execute_reply": "2024-10-31T06:38:20.354441Z"
    },
    "papermill": {
     "duration": 0.032311,
     "end_time": "2024-10-31T06:38:20.357921",
     "exception": false,
     "start_time": "2024-10-31T06:38:20.325610",
     "status": "completed"
    },
    "tags": []
   },
   "outputs": [],
   "source": [
    "# Create a data from launch_dict\n",
    "data = pd.DataFrame.from_dict(launch_dict)"
   ]
  },
  {
   "cell_type": "markdown",
   "id": "5ae840f9",
   "metadata": {
    "papermill": {
     "duration": 0.020435,
     "end_time": "2024-10-31T06:38:20.399183",
     "exception": false,
     "start_time": "2024-10-31T06:38:20.378748",
     "status": "completed"
    },
    "tags": []
   },
   "source": [
    "Show the summary of the dataframe\n"
   ]
  },
  {
   "cell_type": "code",
   "execution_count": 23,
   "id": "c7ae759f",
   "metadata": {
    "execution": {
     "iopub.execute_input": "2024-10-31T06:38:20.442173Z",
     "iopub.status.busy": "2024-10-31T06:38:20.441760Z",
     "iopub.status.idle": "2024-10-31T06:38:20.462942Z",
     "shell.execute_reply": "2024-10-31T06:38:20.461826Z"
    },
    "papermill": {
     "duration": 0.045783,
     "end_time": "2024-10-31T06:38:20.465569",
     "exception": false,
     "start_time": "2024-10-31T06:38:20.419786",
     "status": "completed"
    },
    "tags": []
   },
   "outputs": [
    {
     "data": {
      "text/html": [
       "<div>\n",
       "<style scoped>\n",
       "    .dataframe tbody tr th:only-of-type {\n",
       "        vertical-align: middle;\n",
       "    }\n",
       "\n",
       "    .dataframe tbody tr th {\n",
       "        vertical-align: top;\n",
       "    }\n",
       "\n",
       "    .dataframe thead th {\n",
       "        text-align: right;\n",
       "    }\n",
       "</style>\n",
       "<table border=\"1\" class=\"dataframe\">\n",
       "  <thead>\n",
       "    <tr style=\"text-align: right;\">\n",
       "      <th></th>\n",
       "      <th>FlightNumber</th>\n",
       "      <th>Date</th>\n",
       "      <th>BoosterVersion</th>\n",
       "      <th>PayloadMass</th>\n",
       "      <th>Orbit</th>\n",
       "      <th>LaunchSite</th>\n",
       "      <th>Outcome</th>\n",
       "      <th>Flights</th>\n",
       "      <th>GridFins</th>\n",
       "      <th>Reused</th>\n",
       "      <th>Legs</th>\n",
       "      <th>LandingPad</th>\n",
       "      <th>Block</th>\n",
       "      <th>ReusedCount</th>\n",
       "      <th>Serial</th>\n",
       "      <th>Longitude</th>\n",
       "      <th>Latitude</th>\n",
       "    </tr>\n",
       "  </thead>\n",
       "  <tbody>\n",
       "    <tr>\n",
       "      <th>0</th>\n",
       "      <td>1</td>\n",
       "      <td>2006-03-24</td>\n",
       "      <td>Falcon 1</td>\n",
       "      <td>20.0</td>\n",
       "      <td>LEO</td>\n",
       "      <td>Kwajalein Atoll</td>\n",
       "      <td>None None</td>\n",
       "      <td>1</td>\n",
       "      <td>False</td>\n",
       "      <td>False</td>\n",
       "      <td>False</td>\n",
       "      <td>None</td>\n",
       "      <td>NaN</td>\n",
       "      <td>0</td>\n",
       "      <td>Merlin1A</td>\n",
       "      <td>167.743129</td>\n",
       "      <td>9.047721</td>\n",
       "    </tr>\n",
       "    <tr>\n",
       "      <th>1</th>\n",
       "      <td>2</td>\n",
       "      <td>2007-03-21</td>\n",
       "      <td>Falcon 1</td>\n",
       "      <td>NaN</td>\n",
       "      <td>LEO</td>\n",
       "      <td>Kwajalein Atoll</td>\n",
       "      <td>None None</td>\n",
       "      <td>1</td>\n",
       "      <td>False</td>\n",
       "      <td>False</td>\n",
       "      <td>False</td>\n",
       "      <td>None</td>\n",
       "      <td>NaN</td>\n",
       "      <td>0</td>\n",
       "      <td>Merlin2A</td>\n",
       "      <td>167.743129</td>\n",
       "      <td>9.047721</td>\n",
       "    </tr>\n",
       "    <tr>\n",
       "      <th>2</th>\n",
       "      <td>4</td>\n",
       "      <td>2008-09-28</td>\n",
       "      <td>Falcon 1</td>\n",
       "      <td>165.0</td>\n",
       "      <td>LEO</td>\n",
       "      <td>Kwajalein Atoll</td>\n",
       "      <td>None None</td>\n",
       "      <td>1</td>\n",
       "      <td>False</td>\n",
       "      <td>False</td>\n",
       "      <td>False</td>\n",
       "      <td>None</td>\n",
       "      <td>NaN</td>\n",
       "      <td>0</td>\n",
       "      <td>Merlin2C</td>\n",
       "      <td>167.743129</td>\n",
       "      <td>9.047721</td>\n",
       "    </tr>\n",
       "    <tr>\n",
       "      <th>3</th>\n",
       "      <td>5</td>\n",
       "      <td>2009-07-13</td>\n",
       "      <td>Falcon 1</td>\n",
       "      <td>200.0</td>\n",
       "      <td>LEO</td>\n",
       "      <td>Kwajalein Atoll</td>\n",
       "      <td>None None</td>\n",
       "      <td>1</td>\n",
       "      <td>False</td>\n",
       "      <td>False</td>\n",
       "      <td>False</td>\n",
       "      <td>None</td>\n",
       "      <td>NaN</td>\n",
       "      <td>0</td>\n",
       "      <td>Merlin3C</td>\n",
       "      <td>167.743129</td>\n",
       "      <td>9.047721</td>\n",
       "    </tr>\n",
       "    <tr>\n",
       "      <th>4</th>\n",
       "      <td>6</td>\n",
       "      <td>2010-06-04</td>\n",
       "      <td>Falcon 9</td>\n",
       "      <td>NaN</td>\n",
       "      <td>LEO</td>\n",
       "      <td>CCSFS SLC 40</td>\n",
       "      <td>None None</td>\n",
       "      <td>1</td>\n",
       "      <td>False</td>\n",
       "      <td>False</td>\n",
       "      <td>False</td>\n",
       "      <td>None</td>\n",
       "      <td>1.0</td>\n",
       "      <td>0</td>\n",
       "      <td>B0003</td>\n",
       "      <td>-80.577366</td>\n",
       "      <td>28.561857</td>\n",
       "    </tr>\n",
       "  </tbody>\n",
       "</table>\n",
       "</div>"
      ],
      "text/plain": [
       "   FlightNumber        Date BoosterVersion  PayloadMass Orbit  \\\n",
       "0             1  2006-03-24       Falcon 1         20.0   LEO   \n",
       "1             2  2007-03-21       Falcon 1          NaN   LEO   \n",
       "2             4  2008-09-28       Falcon 1        165.0   LEO   \n",
       "3             5  2009-07-13       Falcon 1        200.0   LEO   \n",
       "4             6  2010-06-04       Falcon 9          NaN   LEO   \n",
       "\n",
       "        LaunchSite    Outcome  Flights  GridFins  Reused   Legs LandingPad  \\\n",
       "0  Kwajalein Atoll  None None        1     False   False  False       None   \n",
       "1  Kwajalein Atoll  None None        1     False   False  False       None   \n",
       "2  Kwajalein Atoll  None None        1     False   False  False       None   \n",
       "3  Kwajalein Atoll  None None        1     False   False  False       None   \n",
       "4     CCSFS SLC 40  None None        1     False   False  False       None   \n",
       "\n",
       "   Block  ReusedCount    Serial   Longitude   Latitude  \n",
       "0    NaN            0  Merlin1A  167.743129   9.047721  \n",
       "1    NaN            0  Merlin2A  167.743129   9.047721  \n",
       "2    NaN            0  Merlin2C  167.743129   9.047721  \n",
       "3    NaN            0  Merlin3C  167.743129   9.047721  \n",
       "4    1.0            0     B0003  -80.577366  28.561857  "
      ]
     },
     "execution_count": 23,
     "metadata": {},
     "output_type": "execute_result"
    }
   ],
   "source": [
    "# Show the head of the dataframe\n",
    "data.head()"
   ]
  },
  {
   "cell_type": "markdown",
   "id": "67717fc7",
   "metadata": {
    "papermill": {
     "duration": 0.020883,
     "end_time": "2024-10-31T06:38:20.507712",
     "exception": false,
     "start_time": "2024-10-31T06:38:20.486829",
     "status": "completed"
    },
    "tags": []
   },
   "source": [
    "### Task 2: Filter the dataframe to only include `Falcon 9` launches\n"
   ]
  },
  {
   "cell_type": "markdown",
   "id": "acd123c8",
   "metadata": {
    "papermill": {
     "duration": 0.020678,
     "end_time": "2024-10-31T06:38:20.549407",
     "exception": false,
     "start_time": "2024-10-31T06:38:20.528729",
     "status": "completed"
    },
    "tags": []
   },
   "source": [
    "Finally we will remove the Falcon 1 launches keeping only the Falcon 9 launches. Filter the data dataframe using the <code>BoosterVersion</code> column to only keep the Falcon 9 launches. Save the filtered data to a new dataframe called <code>data_falcon9</code>.\n"
   ]
  },
  {
   "cell_type": "code",
   "execution_count": 24,
   "id": "0d15139a",
   "metadata": {
    "execution": {
     "iopub.execute_input": "2024-10-31T06:38:20.593340Z",
     "iopub.status.busy": "2024-10-31T06:38:20.592885Z",
     "iopub.status.idle": "2024-10-31T06:38:20.600814Z",
     "shell.execute_reply": "2024-10-31T06:38:20.599642Z"
    },
    "papermill": {
     "duration": 0.032761,
     "end_time": "2024-10-31T06:38:20.603190",
     "exception": false,
     "start_time": "2024-10-31T06:38:20.570429",
     "status": "completed"
    },
    "tags": []
   },
   "outputs": [],
   "source": [
    "# Hint data['BoosterVersion']!='Falcon 1'\n",
    "data_falcon9 = data[data['BoosterVersion']!='Falcon 1']"
   ]
  },
  {
   "cell_type": "markdown",
   "id": "20c75aef",
   "metadata": {
    "papermill": {
     "duration": 0.021156,
     "end_time": "2024-10-31T06:38:20.645506",
     "exception": false,
     "start_time": "2024-10-31T06:38:20.624350",
     "status": "completed"
    },
    "tags": []
   },
   "source": [
    "Now that we have removed some values we should reset the FlgihtNumber column\n"
   ]
  },
  {
   "cell_type": "code",
   "execution_count": 25,
   "id": "16ab92b0",
   "metadata": {
    "execution": {
     "iopub.execute_input": "2024-10-31T06:38:20.689736Z",
     "iopub.status.busy": "2024-10-31T06:38:20.689275Z",
     "iopub.status.idle": "2024-10-31T06:38:20.716463Z",
     "shell.execute_reply": "2024-10-31T06:38:20.715244Z"
    },
    "papermill": {
     "duration": 0.052322,
     "end_time": "2024-10-31T06:38:20.718872",
     "exception": false,
     "start_time": "2024-10-31T06:38:20.666550",
     "status": "completed"
    },
    "tags": []
   },
   "outputs": [
    {
     "data": {
      "text/html": [
       "<div>\n",
       "<style scoped>\n",
       "    .dataframe tbody tr th:only-of-type {\n",
       "        vertical-align: middle;\n",
       "    }\n",
       "\n",
       "    .dataframe tbody tr th {\n",
       "        vertical-align: top;\n",
       "    }\n",
       "\n",
       "    .dataframe thead th {\n",
       "        text-align: right;\n",
       "    }\n",
       "</style>\n",
       "<table border=\"1\" class=\"dataframe\">\n",
       "  <thead>\n",
       "    <tr style=\"text-align: right;\">\n",
       "      <th></th>\n",
       "      <th>FlightNumber</th>\n",
       "      <th>Date</th>\n",
       "      <th>BoosterVersion</th>\n",
       "      <th>PayloadMass</th>\n",
       "      <th>Orbit</th>\n",
       "      <th>LaunchSite</th>\n",
       "      <th>Outcome</th>\n",
       "      <th>Flights</th>\n",
       "      <th>GridFins</th>\n",
       "      <th>Reused</th>\n",
       "      <th>Legs</th>\n",
       "      <th>LandingPad</th>\n",
       "      <th>Block</th>\n",
       "      <th>ReusedCount</th>\n",
       "      <th>Serial</th>\n",
       "      <th>Longitude</th>\n",
       "      <th>Latitude</th>\n",
       "    </tr>\n",
       "  </thead>\n",
       "  <tbody>\n",
       "    <tr>\n",
       "      <th>4</th>\n",
       "      <td>1</td>\n",
       "      <td>2010-06-04</td>\n",
       "      <td>Falcon 9</td>\n",
       "      <td>NaN</td>\n",
       "      <td>LEO</td>\n",
       "      <td>CCSFS SLC 40</td>\n",
       "      <td>None None</td>\n",
       "      <td>1</td>\n",
       "      <td>False</td>\n",
       "      <td>False</td>\n",
       "      <td>False</td>\n",
       "      <td>None</td>\n",
       "      <td>1.0</td>\n",
       "      <td>0</td>\n",
       "      <td>B0003</td>\n",
       "      <td>-80.577366</td>\n",
       "      <td>28.561857</td>\n",
       "    </tr>\n",
       "    <tr>\n",
       "      <th>5</th>\n",
       "      <td>2</td>\n",
       "      <td>2012-05-22</td>\n",
       "      <td>Falcon 9</td>\n",
       "      <td>525.0</td>\n",
       "      <td>LEO</td>\n",
       "      <td>CCSFS SLC 40</td>\n",
       "      <td>None None</td>\n",
       "      <td>1</td>\n",
       "      <td>False</td>\n",
       "      <td>False</td>\n",
       "      <td>False</td>\n",
       "      <td>None</td>\n",
       "      <td>1.0</td>\n",
       "      <td>0</td>\n",
       "      <td>B0005</td>\n",
       "      <td>-80.577366</td>\n",
       "      <td>28.561857</td>\n",
       "    </tr>\n",
       "    <tr>\n",
       "      <th>6</th>\n",
       "      <td>3</td>\n",
       "      <td>2013-03-01</td>\n",
       "      <td>Falcon 9</td>\n",
       "      <td>677.0</td>\n",
       "      <td>ISS</td>\n",
       "      <td>CCSFS SLC 40</td>\n",
       "      <td>None None</td>\n",
       "      <td>1</td>\n",
       "      <td>False</td>\n",
       "      <td>False</td>\n",
       "      <td>False</td>\n",
       "      <td>None</td>\n",
       "      <td>1.0</td>\n",
       "      <td>0</td>\n",
       "      <td>B0007</td>\n",
       "      <td>-80.577366</td>\n",
       "      <td>28.561857</td>\n",
       "    </tr>\n",
       "    <tr>\n",
       "      <th>7</th>\n",
       "      <td>4</td>\n",
       "      <td>2013-09-29</td>\n",
       "      <td>Falcon 9</td>\n",
       "      <td>500.0</td>\n",
       "      <td>PO</td>\n",
       "      <td>VAFB SLC 4E</td>\n",
       "      <td>False Ocean</td>\n",
       "      <td>1</td>\n",
       "      <td>False</td>\n",
       "      <td>False</td>\n",
       "      <td>False</td>\n",
       "      <td>None</td>\n",
       "      <td>1.0</td>\n",
       "      <td>0</td>\n",
       "      <td>B1003</td>\n",
       "      <td>-120.610829</td>\n",
       "      <td>34.632093</td>\n",
       "    </tr>\n",
       "    <tr>\n",
       "      <th>8</th>\n",
       "      <td>5</td>\n",
       "      <td>2013-12-03</td>\n",
       "      <td>Falcon 9</td>\n",
       "      <td>3170.0</td>\n",
       "      <td>GTO</td>\n",
       "      <td>CCSFS SLC 40</td>\n",
       "      <td>None None</td>\n",
       "      <td>1</td>\n",
       "      <td>False</td>\n",
       "      <td>False</td>\n",
       "      <td>False</td>\n",
       "      <td>None</td>\n",
       "      <td>1.0</td>\n",
       "      <td>0</td>\n",
       "      <td>B1004</td>\n",
       "      <td>-80.577366</td>\n",
       "      <td>28.561857</td>\n",
       "    </tr>\n",
       "    <tr>\n",
       "      <th>...</th>\n",
       "      <td>...</td>\n",
       "      <td>...</td>\n",
       "      <td>...</td>\n",
       "      <td>...</td>\n",
       "      <td>...</td>\n",
       "      <td>...</td>\n",
       "      <td>...</td>\n",
       "      <td>...</td>\n",
       "      <td>...</td>\n",
       "      <td>...</td>\n",
       "      <td>...</td>\n",
       "      <td>...</td>\n",
       "      <td>...</td>\n",
       "      <td>...</td>\n",
       "      <td>...</td>\n",
       "      <td>...</td>\n",
       "      <td>...</td>\n",
       "    </tr>\n",
       "    <tr>\n",
       "      <th>89</th>\n",
       "      <td>86</td>\n",
       "      <td>2020-09-03</td>\n",
       "      <td>Falcon 9</td>\n",
       "      <td>15600.0</td>\n",
       "      <td>VLEO</td>\n",
       "      <td>KSC LC 39A</td>\n",
       "      <td>True ASDS</td>\n",
       "      <td>2</td>\n",
       "      <td>True</td>\n",
       "      <td>True</td>\n",
       "      <td>True</td>\n",
       "      <td>5e9e3032383ecb6bb234e7ca</td>\n",
       "      <td>5.0</td>\n",
       "      <td>12</td>\n",
       "      <td>B1060</td>\n",
       "      <td>-80.603956</td>\n",
       "      <td>28.608058</td>\n",
       "    </tr>\n",
       "    <tr>\n",
       "      <th>90</th>\n",
       "      <td>87</td>\n",
       "      <td>2020-10-06</td>\n",
       "      <td>Falcon 9</td>\n",
       "      <td>15600.0</td>\n",
       "      <td>VLEO</td>\n",
       "      <td>KSC LC 39A</td>\n",
       "      <td>True ASDS</td>\n",
       "      <td>3</td>\n",
       "      <td>True</td>\n",
       "      <td>True</td>\n",
       "      <td>True</td>\n",
       "      <td>5e9e3032383ecb6bb234e7ca</td>\n",
       "      <td>5.0</td>\n",
       "      <td>13</td>\n",
       "      <td>B1058</td>\n",
       "      <td>-80.603956</td>\n",
       "      <td>28.608058</td>\n",
       "    </tr>\n",
       "    <tr>\n",
       "      <th>91</th>\n",
       "      <td>88</td>\n",
       "      <td>2020-10-18</td>\n",
       "      <td>Falcon 9</td>\n",
       "      <td>15600.0</td>\n",
       "      <td>VLEO</td>\n",
       "      <td>KSC LC 39A</td>\n",
       "      <td>True ASDS</td>\n",
       "      <td>6</td>\n",
       "      <td>True</td>\n",
       "      <td>True</td>\n",
       "      <td>True</td>\n",
       "      <td>5e9e3032383ecb6bb234e7ca</td>\n",
       "      <td>5.0</td>\n",
       "      <td>12</td>\n",
       "      <td>B1051</td>\n",
       "      <td>-80.603956</td>\n",
       "      <td>28.608058</td>\n",
       "    </tr>\n",
       "    <tr>\n",
       "      <th>92</th>\n",
       "      <td>89</td>\n",
       "      <td>2020-10-24</td>\n",
       "      <td>Falcon 9</td>\n",
       "      <td>15600.0</td>\n",
       "      <td>VLEO</td>\n",
       "      <td>CCSFS SLC 40</td>\n",
       "      <td>True ASDS</td>\n",
       "      <td>3</td>\n",
       "      <td>True</td>\n",
       "      <td>True</td>\n",
       "      <td>True</td>\n",
       "      <td>5e9e3033383ecbb9e534e7cc</td>\n",
       "      <td>5.0</td>\n",
       "      <td>12</td>\n",
       "      <td>B1060</td>\n",
       "      <td>-80.577366</td>\n",
       "      <td>28.561857</td>\n",
       "    </tr>\n",
       "    <tr>\n",
       "      <th>93</th>\n",
       "      <td>90</td>\n",
       "      <td>2020-11-05</td>\n",
       "      <td>Falcon 9</td>\n",
       "      <td>3681.0</td>\n",
       "      <td>MEO</td>\n",
       "      <td>CCSFS SLC 40</td>\n",
       "      <td>True ASDS</td>\n",
       "      <td>1</td>\n",
       "      <td>True</td>\n",
       "      <td>False</td>\n",
       "      <td>True</td>\n",
       "      <td>5e9e3032383ecb6bb234e7ca</td>\n",
       "      <td>5.0</td>\n",
       "      <td>8</td>\n",
       "      <td>B1062</td>\n",
       "      <td>-80.577366</td>\n",
       "      <td>28.561857</td>\n",
       "    </tr>\n",
       "  </tbody>\n",
       "</table>\n",
       "<p>90 rows × 17 columns</p>\n",
       "</div>"
      ],
      "text/plain": [
       "    FlightNumber        Date BoosterVersion  PayloadMass Orbit    LaunchSite  \\\n",
       "4              1  2010-06-04       Falcon 9          NaN   LEO  CCSFS SLC 40   \n",
       "5              2  2012-05-22       Falcon 9        525.0   LEO  CCSFS SLC 40   \n",
       "6              3  2013-03-01       Falcon 9        677.0   ISS  CCSFS SLC 40   \n",
       "7              4  2013-09-29       Falcon 9        500.0    PO   VAFB SLC 4E   \n",
       "8              5  2013-12-03       Falcon 9       3170.0   GTO  CCSFS SLC 40   \n",
       "..           ...         ...            ...          ...   ...           ...   \n",
       "89            86  2020-09-03       Falcon 9      15600.0  VLEO    KSC LC 39A   \n",
       "90            87  2020-10-06       Falcon 9      15600.0  VLEO    KSC LC 39A   \n",
       "91            88  2020-10-18       Falcon 9      15600.0  VLEO    KSC LC 39A   \n",
       "92            89  2020-10-24       Falcon 9      15600.0  VLEO  CCSFS SLC 40   \n",
       "93            90  2020-11-05       Falcon 9       3681.0   MEO  CCSFS SLC 40   \n",
       "\n",
       "        Outcome  Flights  GridFins  Reused   Legs                LandingPad  \\\n",
       "4     None None        1     False   False  False                      None   \n",
       "5     None None        1     False   False  False                      None   \n",
       "6     None None        1     False   False  False                      None   \n",
       "7   False Ocean        1     False   False  False                      None   \n",
       "8     None None        1     False   False  False                      None   \n",
       "..          ...      ...       ...     ...    ...                       ...   \n",
       "89    True ASDS        2      True    True   True  5e9e3032383ecb6bb234e7ca   \n",
       "90    True ASDS        3      True    True   True  5e9e3032383ecb6bb234e7ca   \n",
       "91    True ASDS        6      True    True   True  5e9e3032383ecb6bb234e7ca   \n",
       "92    True ASDS        3      True    True   True  5e9e3033383ecbb9e534e7cc   \n",
       "93    True ASDS        1      True   False   True  5e9e3032383ecb6bb234e7ca   \n",
       "\n",
       "    Block  ReusedCount Serial   Longitude   Latitude  \n",
       "4     1.0            0  B0003  -80.577366  28.561857  \n",
       "5     1.0            0  B0005  -80.577366  28.561857  \n",
       "6     1.0            0  B0007  -80.577366  28.561857  \n",
       "7     1.0            0  B1003 -120.610829  34.632093  \n",
       "8     1.0            0  B1004  -80.577366  28.561857  \n",
       "..    ...          ...    ...         ...        ...  \n",
       "89    5.0           12  B1060  -80.603956  28.608058  \n",
       "90    5.0           13  B1058  -80.603956  28.608058  \n",
       "91    5.0           12  B1051  -80.603956  28.608058  \n",
       "92    5.0           12  B1060  -80.577366  28.561857  \n",
       "93    5.0            8  B1062  -80.577366  28.561857  \n",
       "\n",
       "[90 rows x 17 columns]"
      ]
     },
     "execution_count": 25,
     "metadata": {},
     "output_type": "execute_result"
    }
   ],
   "source": [
    "data_falcon9.loc[:,'FlightNumber'] = list(range(1, data_falcon9.shape[0]+1))\n",
    "data_falcon9"
   ]
  },
  {
   "cell_type": "markdown",
   "id": "e40e84fa",
   "metadata": {
    "papermill": {
     "duration": 0.021406,
     "end_time": "2024-10-31T06:38:20.761895",
     "exception": false,
     "start_time": "2024-10-31T06:38:20.740489",
     "status": "completed"
    },
    "tags": []
   },
   "source": [
    "## Data Wrangling\n"
   ]
  },
  {
   "cell_type": "markdown",
   "id": "ac4e8a85",
   "metadata": {
    "papermill": {
     "duration": 0.021095,
     "end_time": "2024-10-31T06:38:20.804399",
     "exception": false,
     "start_time": "2024-10-31T06:38:20.783304",
     "status": "completed"
    },
    "tags": []
   },
   "source": [
    "We can see below that some of the rows are missing values in our dataset.\n"
   ]
  },
  {
   "cell_type": "code",
   "execution_count": 26,
   "id": "dec3561a",
   "metadata": {
    "execution": {
     "iopub.execute_input": "2024-10-31T06:38:20.849122Z",
     "iopub.status.busy": "2024-10-31T06:38:20.848677Z",
     "iopub.status.idle": "2024-10-31T06:38:20.860161Z",
     "shell.execute_reply": "2024-10-31T06:38:20.859122Z"
    },
    "papermill": {
     "duration": 0.036787,
     "end_time": "2024-10-31T06:38:20.862601",
     "exception": false,
     "start_time": "2024-10-31T06:38:20.825814",
     "status": "completed"
    },
    "tags": []
   },
   "outputs": [
    {
     "data": {
      "text/plain": [
       "FlightNumber       0\n",
       "Date               0\n",
       "BoosterVersion     0\n",
       "PayloadMass        5\n",
       "Orbit              0\n",
       "LaunchSite         0\n",
       "Outcome            0\n",
       "Flights            0\n",
       "GridFins           0\n",
       "Reused             0\n",
       "Legs               0\n",
       "LandingPad        26\n",
       "Block              0\n",
       "ReusedCount        0\n",
       "Serial             0\n",
       "Longitude          0\n",
       "Latitude           0\n",
       "dtype: int64"
      ]
     },
     "execution_count": 26,
     "metadata": {},
     "output_type": "execute_result"
    }
   ],
   "source": [
    "data_falcon9.isnull().sum()"
   ]
  },
  {
   "cell_type": "markdown",
   "id": "1f72b6ad",
   "metadata": {
    "papermill": {
     "duration": 0.022026,
     "end_time": "2024-10-31T06:38:20.906510",
     "exception": false,
     "start_time": "2024-10-31T06:38:20.884484",
     "status": "completed"
    },
    "tags": []
   },
   "source": [
    "Before we can continue we must deal with these missing values. The <code>LandingPad</code> column will retain None values to represent when landing pads were not used.\n"
   ]
  },
  {
   "cell_type": "markdown",
   "id": "575cda68",
   "metadata": {
    "papermill": {
     "duration": 0.021484,
     "end_time": "2024-10-31T06:38:20.949838",
     "exception": false,
     "start_time": "2024-10-31T06:38:20.928354",
     "status": "completed"
    },
    "tags": []
   },
   "source": [
    "### Task 3: Dealing with Missing Values\n"
   ]
  },
  {
   "cell_type": "markdown",
   "id": "35d651fe",
   "metadata": {
    "papermill": {
     "duration": 0.022567,
     "end_time": "2024-10-31T06:38:20.994230",
     "exception": false,
     "start_time": "2024-10-31T06:38:20.971663",
     "status": "completed"
    },
    "tags": []
   },
   "source": [
    "Calculate below the mean for the <code>PayloadMass</code> using the <code>.mean()</code>. Then use the mean and the <code>.replace()</code> function to replace `np.nan` values in the data with the mean you calculated.\n"
   ]
  },
  {
   "cell_type": "code",
   "execution_count": 27,
   "id": "a3173b97",
   "metadata": {
    "execution": {
     "iopub.execute_input": "2024-10-31T06:38:21.040096Z",
     "iopub.status.busy": "2024-10-31T06:38:21.038995Z",
     "iopub.status.idle": "2024-10-31T06:38:21.049920Z",
     "shell.execute_reply": "2024-10-31T06:38:21.048898Z"
    },
    "papermill": {
     "duration": 0.035998,
     "end_time": "2024-10-31T06:38:21.052142",
     "exception": false,
     "start_time": "2024-10-31T06:38:21.016144",
     "status": "completed"
    },
    "tags": []
   },
   "outputs": [
    {
     "data": {
      "text/plain": [
       "4      6123.547647\n",
       "5       525.000000\n",
       "6       677.000000\n",
       "7       500.000000\n",
       "8      3170.000000\n",
       "          ...     \n",
       "89    15600.000000\n",
       "90    15600.000000\n",
       "91    15600.000000\n",
       "92    15600.000000\n",
       "93     3681.000000\n",
       "Name: PayloadMass, Length: 90, dtype: float64"
      ]
     },
     "execution_count": 27,
     "metadata": {},
     "output_type": "execute_result"
    }
   ],
   "source": [
    "# Calculate the mean value of PayloadMass column\n",
    "falcon9_mean = data_falcon9['PayloadMass'].mean()\n",
    "\n",
    "# Replace the np.nan values with its mean value\n",
    "data_falcon9['PayloadMass'].replace(np.nan, falcon9_mean)"
   ]
  },
  {
   "cell_type": "markdown",
   "id": "fb061bc4",
   "metadata": {
    "papermill": {
     "duration": 0.021637,
     "end_time": "2024-10-31T06:38:21.095744",
     "exception": false,
     "start_time": "2024-10-31T06:38:21.074107",
     "status": "completed"
    },
    "tags": []
   },
   "source": [
    "You should see the number of missing values of the <code>PayLoadMass</code> change to zero.\n"
   ]
  },
  {
   "cell_type": "code",
   "execution_count": 28,
   "id": "dd8797a4",
   "metadata": {
    "execution": {
     "iopub.execute_input": "2024-10-31T06:38:21.141352Z",
     "iopub.status.busy": "2024-10-31T06:38:21.140968Z",
     "iopub.status.idle": "2024-10-31T06:38:21.150286Z",
     "shell.execute_reply": "2024-10-31T06:38:21.149308Z"
    },
    "papermill": {
     "duration": 0.034925,
     "end_time": "2024-10-31T06:38:21.152595",
     "exception": false,
     "start_time": "2024-10-31T06:38:21.117670",
     "status": "completed"
    },
    "tags": []
   },
   "outputs": [
    {
     "data": {
      "text/plain": [
       "FlightNumber       0\n",
       "Date               0\n",
       "BoosterVersion     0\n",
       "PayloadMass        5\n",
       "Orbit              0\n",
       "LaunchSite         0\n",
       "Outcome            0\n",
       "Flights            0\n",
       "GridFins           0\n",
       "Reused             0\n",
       "Legs               0\n",
       "LandingPad        26\n",
       "Block              0\n",
       "ReusedCount        0\n",
       "Serial             0\n",
       "Longitude          0\n",
       "Latitude           0\n",
       "dtype: int64"
      ]
     },
     "execution_count": 28,
     "metadata": {},
     "output_type": "execute_result"
    }
   ],
   "source": [
    "data_falcon9.isnull().sum()"
   ]
  },
  {
   "cell_type": "markdown",
   "id": "5f6c42f4",
   "metadata": {
    "papermill": {
     "duration": 0.021877,
     "end_time": "2024-10-31T06:38:21.196675",
     "exception": false,
     "start_time": "2024-10-31T06:38:21.174798",
     "status": "completed"
    },
    "tags": []
   },
   "source": [
    "Now we should have no missing values in our dataset except for in <code>LandingPad</code>.\n"
   ]
  },
  {
   "cell_type": "markdown",
   "id": "bb4f76bb",
   "metadata": {
    "papermill": {
     "duration": 0.021863,
     "end_time": "2024-10-31T06:38:21.240602",
     "exception": false,
     "start_time": "2024-10-31T06:38:21.218739",
     "status": "completed"
    },
    "tags": []
   },
   "source": [
    "We can now export it to a <b>CSV</b> for the next section,but to make the answers consistent, in the next lab we will provide data in a pre-selected date range. \n"
   ]
  },
  {
   "cell_type": "markdown",
   "id": "0590b366",
   "metadata": {
    "papermill": {
     "duration": 0.021801,
     "end_time": "2024-10-31T06:38:21.284598",
     "exception": false,
     "start_time": "2024-10-31T06:38:21.262797",
     "status": "completed"
    },
    "tags": []
   },
   "source": [
    "<code>data_falcon9.to_csv('dataset_part_1.csv', index=False)</code>\n"
   ]
  },
  {
   "cell_type": "markdown",
   "id": "edfc36eb",
   "metadata": {
    "papermill": {
     "duration": 0.02181,
     "end_time": "2024-10-31T06:38:21.328651",
     "exception": false,
     "start_time": "2024-10-31T06:38:21.306841",
     "status": "completed"
    },
    "tags": []
   },
   "source": [
    "## Authors\n"
   ]
  },
  {
   "cell_type": "markdown",
   "id": "71a68f69",
   "metadata": {
    "papermill": {
     "duration": 0.021768,
     "end_time": "2024-10-31T06:38:21.372421",
     "exception": false,
     "start_time": "2024-10-31T06:38:21.350653",
     "status": "completed"
    },
    "tags": []
   },
   "source": [
    "<a href=\"https://www.linkedin.com/in/joseph-s-50398b136/\">Joseph Santarcangelo</a> has a PhD in Electrical Engineering, his research focused on using machine learning, signal processing, and computer vision to determine how videos impact human cognition. Joseph has been working for IBM since he completed his PhD. \n"
   ]
  },
  {
   "cell_type": "markdown",
   "id": "feba4f29",
   "metadata": {
    "papermill": {
     "duration": 0.021976,
     "end_time": "2024-10-31T06:38:21.416297",
     "exception": false,
     "start_time": "2024-10-31T06:38:21.394321",
     "status": "completed"
    },
    "tags": []
   },
   "source": [
    "<!--## Change Log\n",
    "-->\n"
   ]
  },
  {
   "cell_type": "markdown",
   "id": "a5dcfa54",
   "metadata": {
    "papermill": {
     "duration": 0.022421,
     "end_time": "2024-10-31T06:38:21.461032",
     "exception": false,
     "start_time": "2024-10-31T06:38:21.438611",
     "status": "completed"
    },
    "tags": []
   },
   "source": [
    "<!--\n",
    "\n",
    "|Date (YYYY-MM-DD)|Version|Changed By|Change Description|\n",
    "|-|-|-|-|\n",
    "|2020-09-20|1.1|Joseph|get result each time you run|\n",
    "|2020-09-20|1.1|Azim |Created Part 1 Lab using SpaceX API|\n",
    "|2020-09-20|1.0|Joseph |Modified Multiple Areas|\n",
    "-->\n"
   ]
  },
  {
   "cell_type": "markdown",
   "id": "38337c08",
   "metadata": {
    "papermill": {
     "duration": 0.021975,
     "end_time": "2024-10-31T06:38:21.505791",
     "exception": false,
     "start_time": "2024-10-31T06:38:21.483816",
     "status": "completed"
    },
    "tags": []
   },
   "source": [
    "Copyright © 2021 IBM Corporation. All rights reserved.\n"
   ]
  }
 ],
 "metadata": {
  "kaggle": {
   "accelerator": "none",
   "dataSources": [],
   "dockerImageVersionId": 30786,
   "isGpuEnabled": false,
   "isInternetEnabled": true,
   "language": "python",
   "sourceType": "notebook"
  },
  "kernelspec": {
   "display_name": "Python 3",
   "language": "python",
   "name": "python3"
  },
  "language_info": {
   "codemirror_mode": {
    "name": "ipython",
    "version": 3
   },
   "file_extension": ".py",
   "mimetype": "text/x-python",
   "name": "python",
   "nbconvert_exporter": "python",
   "pygments_lexer": "ipython3",
   "version": "3.10.14"
  },
  "papermill": {
   "default_parameters": {},
   "duration": 107.955319,
   "end_time": "2024-10-31T06:38:22.048688",
   "environment_variables": {},
   "exception": null,
   "input_path": "__notebook__.ipynb",
   "output_path": "__notebook__.ipynb",
   "parameters": {},
   "start_time": "2024-10-31T06:36:34.093369",
   "version": "2.6.0"
  },
  "prev_pub_hash": "92824028eda7944e05c2baeff74c9c993a71bef91bed7cfa139749fe49c6405a"
 },
 "nbformat": 4,
 "nbformat_minor": 5
}
