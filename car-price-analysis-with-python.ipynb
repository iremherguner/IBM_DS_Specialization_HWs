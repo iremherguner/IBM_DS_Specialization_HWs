{
 "cells": [
  {
   "cell_type": "markdown",
   "id": "54581358",
   "metadata": {
    "papermill": {
     "duration": 0.024612,
     "end_time": "2024-05-06T05:44:15.513314",
     "exception": false,
     "start_time": "2024-05-06T05:44:15.488702",
     "status": "completed"
    },
    "tags": []
   },
   "source": [
    "<p style=\"text-align:center\">\n",
    "    <a href=\"https://skills.network\" target=\"_blank\">\n",
    "    <img src=\"https://cf-courses-data.s3.us.cloud-object-storage.appdomain.cloud/assets/logos/SN_web_lightmode.png\" width=\"300\" alt=\"Skills Network Logo\">\n",
    "    </a>\n",
    "</p>\n",
    "\n",
    "\n",
    "# Exploratory Data Analysis\n",
    "\n",
    "\n",
    "Estimated time needed: **30** minutes\n",
    "    \n",
    "\n",
    "## Objectives\n",
    "\n",
    "After completing this lab you will be able to:\n",
    "\n",
    "* Explore features or characteristics to predict price of car\n",
    "* Analyze patterns and run descriptive statistical analysis\n",
    "* Group data based on identified parameters and create pivot tables\n",
    "* Identify the effect of independent attributes on price of cars\n"
   ]
  },
  {
   "cell_type": "markdown",
   "id": "12ce9f42",
   "metadata": {
    "papermill": {
     "duration": 0.023156,
     "end_time": "2024-05-06T05:44:15.559171",
     "exception": false,
     "start_time": "2024-05-06T05:44:15.536015",
     "status": "completed"
    },
    "tags": []
   },
   "source": [
    "<h2>Table of Contents</h2>\n",
    "\n",
    "<div class=\"alert alert-block alert-info\" style=\"margin-top: 20px\">\n",
    "<ol>\n",
    "    <li><a href='#Import-Data-from-Module-2'>Import Data from Module</a>\n",
    "    <li><a href='#Analyzing-Individual-Feature-Patterns-Using-Visualization'>Analyzing Individual Feature Patterns using Visualization</a>\n",
    "    <li><a href='#Descriptive-Statistical-Analysis'>Descriptive Statistical Analysis</a>\n",
    "    <li><a href='#Basics-of-Grouping'>Basics of Grouping</a>\n",
    "    <li><a href='#Correlation-and-Causation'>Correlation and Causation</a>\n",
    "</ol>\n",
    "\n",
    "</div>\n",
    " \n",
    "<hr>\n"
   ]
  },
  {
   "cell_type": "markdown",
   "id": "65900204",
   "metadata": {
    "papermill": {
     "duration": 0.022265,
     "end_time": "2024-05-06T05:44:15.603945",
     "exception": false,
     "start_time": "2024-05-06T05:44:15.581680",
     "status": "completed"
    },
    "tags": []
   },
   "source": [
    "<h3>What are the main characteristics that have the most impact on the car price?</h3>\n"
   ]
  },
  {
   "cell_type": "markdown",
   "id": "6b26d545",
   "metadata": {
    "papermill": {
     "duration": 0.022295,
     "end_time": "2024-05-06T05:44:15.648930",
     "exception": false,
     "start_time": "2024-05-06T05:44:15.626635",
     "status": "completed"
    },
    "tags": []
   },
   "source": [
    "## Import Data from Module 2\n"
   ]
  },
  {
   "cell_type": "markdown",
   "id": "92065643",
   "metadata": {
    "papermill": {
     "duration": 0.022457,
     "end_time": "2024-05-06T05:44:15.693852",
     "exception": false,
     "start_time": "2024-05-06T05:44:15.671395",
     "status": "completed"
    },
    "tags": []
   },
   "source": [
    "<h4>Setup</h4>\n"
   ]
  },
  {
   "cell_type": "markdown",
   "id": "4be3dfa2",
   "metadata": {
    "papermill": {
     "duration": 0.022927,
     "end_time": "2024-05-06T05:44:15.743063",
     "exception": false,
     "start_time": "2024-05-06T05:44:15.720136",
     "status": "completed"
    },
    "tags": []
   },
   "source": [
    "Import libraries: \n"
   ]
  },
  {
   "cell_type": "code",
   "execution_count": 1,
   "id": "3997bd39",
   "metadata": {
    "execution": {
     "iopub.execute_input": "2024-05-06T05:44:15.790265Z",
     "iopub.status.busy": "2024-05-06T05:44:15.789919Z",
     "iopub.status.idle": "2024-05-06T05:44:15.794763Z",
     "shell.execute_reply": "2024-05-06T05:44:15.793964Z"
    },
    "papermill": {
     "duration": 0.030961,
     "end_time": "2024-05-06T05:44:15.796672",
     "exception": false,
     "start_time": "2024-05-06T05:44:15.765711",
     "status": "completed"
    },
    "tags": []
   },
   "outputs": [],
   "source": [
    "#install specific version of libraries used in lab\n",
    "#! mamba install pandas==1.3.3\n",
    "#! mamba install numpy=1.21.2\n",
    "#! mamba install scipy=1.7.1-y\n",
    "#!  mamba install seaborn=0.9.0-y"
   ]
  },
  {
   "cell_type": "code",
   "execution_count": 2,
   "id": "b7db3e3a",
   "metadata": {
    "execution": {
     "iopub.execute_input": "2024-05-06T05:44:15.844714Z",
     "iopub.status.busy": "2024-05-06T05:44:15.843890Z",
     "iopub.status.idle": "2024-05-06T05:44:18.088708Z",
     "shell.execute_reply": "2024-05-06T05:44:18.087335Z"
    },
    "papermill": {
     "duration": 2.271728,
     "end_time": "2024-05-06T05:44:18.091268",
     "exception": false,
     "start_time": "2024-05-06T05:44:15.819540",
     "status": "completed"
    },
    "tags": []
   },
   "outputs": [],
   "source": [
    "import pandas as pd\n",
    "import numpy as np\n",
    "import seaborn as sns\n",
    "# import piplite\n",
    "# await piplite.install('seaborn')"
   ]
  },
  {
   "cell_type": "markdown",
   "id": "3daa89e9",
   "metadata": {
    "papermill": {
     "duration": 0.024478,
     "end_time": "2024-05-06T05:44:18.139091",
     "exception": false,
     "start_time": "2024-05-06T05:44:18.114613",
     "status": "completed"
    },
    "tags": []
   },
   "source": [
    "Download the updated dataset by running the cell below.\n",
    "\n",
    "The functions below will download the dataset into your browser and store it in dataframe `df`:\n"
   ]
  },
  {
   "cell_type": "markdown",
   "id": "14b43b6e",
   "metadata": {
    "papermill": {
     "duration": 0.022463,
     "end_time": "2024-05-06T05:44:18.241515",
     "exception": false,
     "start_time": "2024-05-06T05:44:18.219052",
     "status": "completed"
    },
    "tags": []
   },
   "source": [
    "This dataset was hosted on IBM Cloud object. Click <a href=\"https://cocl.us/DA101EN_object_storage\">HERE</a> for free storage.\n"
   ]
  },
  {
   "cell_type": "code",
   "execution_count": 3,
   "id": "f30686a9",
   "metadata": {
    "execution": {
     "iopub.execute_input": "2024-05-06T05:44:18.289828Z",
     "iopub.status.busy": "2024-05-06T05:44:18.288611Z",
     "iopub.status.idle": "2024-05-06T05:44:18.293590Z",
     "shell.execute_reply": "2024-05-06T05:44:18.292782Z"
    },
    "papermill": {
     "duration": 0.031142,
     "end_time": "2024-05-06T05:44:18.295584",
     "exception": false,
     "start_time": "2024-05-06T05:44:18.264442",
     "status": "completed"
    },
    "tags": []
   },
   "outputs": [],
   "source": [
    "file_path= \"/kaggle/input/automobileeda/automobileEDA.csv\""
   ]
  },
  {
   "cell_type": "code",
   "execution_count": 4,
   "id": "bc1f8784",
   "metadata": {
    "execution": {
     "iopub.execute_input": "2024-05-06T05:44:18.344531Z",
     "iopub.status.busy": "2024-05-06T05:44:18.343503Z",
     "iopub.status.idle": "2024-05-06T05:44:18.366759Z",
     "shell.execute_reply": "2024-05-06T05:44:18.365887Z"
    },
    "papermill": {
     "duration": 0.051001,
     "end_time": "2024-05-06T05:44:18.369645",
     "exception": false,
     "start_time": "2024-05-06T05:44:18.318644",
     "status": "completed"
    },
    "tags": []
   },
   "outputs": [],
   "source": [
    "df = pd.read_csv(file_path, header=0)"
   ]
  },
  {
   "cell_type": "markdown",
   "id": "297497a3",
   "metadata": {
    "papermill": {
     "duration": 0.023624,
     "end_time": "2024-05-06T05:44:18.416921",
     "exception": false,
     "start_time": "2024-05-06T05:44:18.393297",
     "status": "completed"
    },
    "tags": []
   },
   "source": [
    "> Note: This version of the lab is working on JupyterLite, which requires the dataset to be downloaded to the interface.While working on the downloaded version of this notebook on their local machines(Jupyter Anaconda), the learners can simply **skip the steps above,** and simply use the URL directly in the `pandas.read_csv()` function. You can uncomment and run the statements in the cell below.\n"
   ]
  },
  {
   "cell_type": "markdown",
   "id": "2ec7215f",
   "metadata": {
    "papermill": {
     "duration": 0.022676,
     "end_time": "2024-05-06T05:44:18.462778",
     "exception": false,
     "start_time": "2024-05-06T05:44:18.440102",
     "status": "completed"
    },
    "tags": []
   },
   "source": [
    "View the first 5 values of the updated dataframe using `dataframe.head()`\n"
   ]
  },
  {
   "cell_type": "code",
   "execution_count": 5,
   "id": "bac7fb4e",
   "metadata": {
    "execution": {
     "iopub.execute_input": "2024-05-06T05:44:18.510658Z",
     "iopub.status.busy": "2024-05-06T05:44:18.509708Z",
     "iopub.status.idle": "2024-05-06T05:44:18.551220Z",
     "shell.execute_reply": "2024-05-06T05:44:18.550111Z"
    },
    "papermill": {
     "duration": 0.067872,
     "end_time": "2024-05-06T05:44:18.553578",
     "exception": false,
     "start_time": "2024-05-06T05:44:18.485706",
     "status": "completed"
    },
    "tags": []
   },
   "outputs": [
    {
     "data": {
      "text/html": [
       "<div>\n",
       "<style scoped>\n",
       "    .dataframe tbody tr th:only-of-type {\n",
       "        vertical-align: middle;\n",
       "    }\n",
       "\n",
       "    .dataframe tbody tr th {\n",
       "        vertical-align: top;\n",
       "    }\n",
       "\n",
       "    .dataframe thead th {\n",
       "        text-align: right;\n",
       "    }\n",
       "</style>\n",
       "<table border=\"1\" class=\"dataframe\">\n",
       "  <thead>\n",
       "    <tr style=\"text-align: right;\">\n",
       "      <th></th>\n",
       "      <th>symboling</th>\n",
       "      <th>normalized-losses</th>\n",
       "      <th>make</th>\n",
       "      <th>aspiration</th>\n",
       "      <th>num-of-doors</th>\n",
       "      <th>body-style</th>\n",
       "      <th>drive-wheels</th>\n",
       "      <th>engine-location</th>\n",
       "      <th>wheel-base</th>\n",
       "      <th>length</th>\n",
       "      <th>...</th>\n",
       "      <th>compression-ratio</th>\n",
       "      <th>horsepower</th>\n",
       "      <th>peak-rpm</th>\n",
       "      <th>city-mpg</th>\n",
       "      <th>highway-mpg</th>\n",
       "      <th>price</th>\n",
       "      <th>city-L/100km</th>\n",
       "      <th>horsepower-binned</th>\n",
       "      <th>diesel</th>\n",
       "      <th>gas</th>\n",
       "    </tr>\n",
       "  </thead>\n",
       "  <tbody>\n",
       "    <tr>\n",
       "      <th>0</th>\n",
       "      <td>3</td>\n",
       "      <td>122</td>\n",
       "      <td>alfa-romero</td>\n",
       "      <td>std</td>\n",
       "      <td>two</td>\n",
       "      <td>convertible</td>\n",
       "      <td>rwd</td>\n",
       "      <td>front</td>\n",
       "      <td>88.6</td>\n",
       "      <td>0.811148</td>\n",
       "      <td>...</td>\n",
       "      <td>9.0</td>\n",
       "      <td>111.0</td>\n",
       "      <td>5000.0</td>\n",
       "      <td>21</td>\n",
       "      <td>27</td>\n",
       "      <td>13495.0</td>\n",
       "      <td>11.190476</td>\n",
       "      <td>Medium</td>\n",
       "      <td>0</td>\n",
       "      <td>1</td>\n",
       "    </tr>\n",
       "    <tr>\n",
       "      <th>1</th>\n",
       "      <td>3</td>\n",
       "      <td>122</td>\n",
       "      <td>alfa-romero</td>\n",
       "      <td>std</td>\n",
       "      <td>two</td>\n",
       "      <td>convertible</td>\n",
       "      <td>rwd</td>\n",
       "      <td>front</td>\n",
       "      <td>88.6</td>\n",
       "      <td>0.811148</td>\n",
       "      <td>...</td>\n",
       "      <td>9.0</td>\n",
       "      <td>111.0</td>\n",
       "      <td>5000.0</td>\n",
       "      <td>21</td>\n",
       "      <td>27</td>\n",
       "      <td>16500.0</td>\n",
       "      <td>11.190476</td>\n",
       "      <td>Medium</td>\n",
       "      <td>0</td>\n",
       "      <td>1</td>\n",
       "    </tr>\n",
       "    <tr>\n",
       "      <th>2</th>\n",
       "      <td>1</td>\n",
       "      <td>122</td>\n",
       "      <td>alfa-romero</td>\n",
       "      <td>std</td>\n",
       "      <td>two</td>\n",
       "      <td>hatchback</td>\n",
       "      <td>rwd</td>\n",
       "      <td>front</td>\n",
       "      <td>94.5</td>\n",
       "      <td>0.822681</td>\n",
       "      <td>...</td>\n",
       "      <td>9.0</td>\n",
       "      <td>154.0</td>\n",
       "      <td>5000.0</td>\n",
       "      <td>19</td>\n",
       "      <td>26</td>\n",
       "      <td>16500.0</td>\n",
       "      <td>12.368421</td>\n",
       "      <td>Medium</td>\n",
       "      <td>0</td>\n",
       "      <td>1</td>\n",
       "    </tr>\n",
       "    <tr>\n",
       "      <th>3</th>\n",
       "      <td>2</td>\n",
       "      <td>164</td>\n",
       "      <td>audi</td>\n",
       "      <td>std</td>\n",
       "      <td>four</td>\n",
       "      <td>sedan</td>\n",
       "      <td>fwd</td>\n",
       "      <td>front</td>\n",
       "      <td>99.8</td>\n",
       "      <td>0.848630</td>\n",
       "      <td>...</td>\n",
       "      <td>10.0</td>\n",
       "      <td>102.0</td>\n",
       "      <td>5500.0</td>\n",
       "      <td>24</td>\n",
       "      <td>30</td>\n",
       "      <td>13950.0</td>\n",
       "      <td>9.791667</td>\n",
       "      <td>Medium</td>\n",
       "      <td>0</td>\n",
       "      <td>1</td>\n",
       "    </tr>\n",
       "    <tr>\n",
       "      <th>4</th>\n",
       "      <td>2</td>\n",
       "      <td>164</td>\n",
       "      <td>audi</td>\n",
       "      <td>std</td>\n",
       "      <td>four</td>\n",
       "      <td>sedan</td>\n",
       "      <td>4wd</td>\n",
       "      <td>front</td>\n",
       "      <td>99.4</td>\n",
       "      <td>0.848630</td>\n",
       "      <td>...</td>\n",
       "      <td>8.0</td>\n",
       "      <td>115.0</td>\n",
       "      <td>5500.0</td>\n",
       "      <td>18</td>\n",
       "      <td>22</td>\n",
       "      <td>17450.0</td>\n",
       "      <td>13.055556</td>\n",
       "      <td>Medium</td>\n",
       "      <td>0</td>\n",
       "      <td>1</td>\n",
       "    </tr>\n",
       "  </tbody>\n",
       "</table>\n",
       "<p>5 rows × 29 columns</p>\n",
       "</div>"
      ],
      "text/plain": [
       "   symboling  normalized-losses         make aspiration num-of-doors  \\\n",
       "0          3                122  alfa-romero        std          two   \n",
       "1          3                122  alfa-romero        std          two   \n",
       "2          1                122  alfa-romero        std          two   \n",
       "3          2                164         audi        std         four   \n",
       "4          2                164         audi        std         four   \n",
       "\n",
       "    body-style drive-wheels engine-location  wheel-base    length  ...  \\\n",
       "0  convertible          rwd           front        88.6  0.811148  ...   \n",
       "1  convertible          rwd           front        88.6  0.811148  ...   \n",
       "2    hatchback          rwd           front        94.5  0.822681  ...   \n",
       "3        sedan          fwd           front        99.8  0.848630  ...   \n",
       "4        sedan          4wd           front        99.4  0.848630  ...   \n",
       "\n",
       "   compression-ratio  horsepower  peak-rpm city-mpg highway-mpg    price  \\\n",
       "0                9.0       111.0    5000.0       21          27  13495.0   \n",
       "1                9.0       111.0    5000.0       21          27  16500.0   \n",
       "2                9.0       154.0    5000.0       19          26  16500.0   \n",
       "3               10.0       102.0    5500.0       24          30  13950.0   \n",
       "4                8.0       115.0    5500.0       18          22  17450.0   \n",
       "\n",
       "  city-L/100km  horsepower-binned  diesel  gas  \n",
       "0    11.190476             Medium       0    1  \n",
       "1    11.190476             Medium       0    1  \n",
       "2    12.368421             Medium       0    1  \n",
       "3     9.791667             Medium       0    1  \n",
       "4    13.055556             Medium       0    1  \n",
       "\n",
       "[5 rows x 29 columns]"
      ]
     },
     "execution_count": 5,
     "metadata": {},
     "output_type": "execute_result"
    }
   ],
   "source": [
    "df.head()"
   ]
  },
  {
   "cell_type": "markdown",
   "id": "c28660a4",
   "metadata": {
    "papermill": {
     "duration": 0.023217,
     "end_time": "2024-05-06T05:44:18.600362",
     "exception": false,
     "start_time": "2024-05-06T05:44:18.577145",
     "status": "completed"
    },
    "tags": []
   },
   "source": [
    "## Analyzing Individual Feature Patterns Using Visualization\n"
   ]
  },
  {
   "cell_type": "markdown",
   "id": "01d6f3e6",
   "metadata": {
    "papermill": {
     "duration": 0.02291,
     "end_time": "2024-05-06T05:44:18.646543",
     "exception": false,
     "start_time": "2024-05-06T05:44:18.623633",
     "status": "completed"
    },
    "tags": []
   },
   "source": [
    "Import visualization packages \"Matplotlib\" and \"Seaborn\". Don't forget about \"%matplotlib inline\" to plot in a Jupyter notebook.\n"
   ]
  },
  {
   "cell_type": "code",
   "execution_count": 6,
   "id": "b8ebbd02",
   "metadata": {
    "execution": {
     "iopub.execute_input": "2024-05-06T05:44:18.694756Z",
     "iopub.status.busy": "2024-05-06T05:44:18.694389Z",
     "iopub.status.idle": "2024-05-06T05:44:18.699942Z",
     "shell.execute_reply": "2024-05-06T05:44:18.698850Z"
    },
    "papermill": {
     "duration": 0.032387,
     "end_time": "2024-05-06T05:44:18.702071",
     "exception": false,
     "start_time": "2024-05-06T05:44:18.669684",
     "status": "completed"
    },
    "tags": []
   },
   "outputs": [],
   "source": [
    "import matplotlib.pyplot as plt\n",
    "%matplotlib inline "
   ]
  },
  {
   "cell_type": "markdown",
   "id": "9ddeb034",
   "metadata": {
    "papermill": {
     "duration": 0.023078,
     "end_time": "2024-05-06T05:44:18.748424",
     "exception": false,
     "start_time": "2024-05-06T05:44:18.725346",
     "status": "completed"
    },
    "tags": []
   },
   "source": [
    "<h4>How to choose the right visualization method?</h4>\n",
    "<p>When visualizing individual variables, it is important to first understand what type of variable you are dealing with. This will help us find the right visualization method for that variable.</p>\n"
   ]
  },
  {
   "cell_type": "code",
   "execution_count": 7,
   "id": "6be92273",
   "metadata": {
    "execution": {
     "iopub.execute_input": "2024-05-06T05:44:18.797682Z",
     "iopub.status.busy": "2024-05-06T05:44:18.796998Z",
     "iopub.status.idle": "2024-05-06T05:44:18.803185Z",
     "shell.execute_reply": "2024-05-06T05:44:18.802233Z"
    },
    "papermill": {
     "duration": 0.033475,
     "end_time": "2024-05-06T05:44:18.805338",
     "exception": false,
     "start_time": "2024-05-06T05:44:18.771863",
     "status": "completed"
    },
    "tags": []
   },
   "outputs": [
    {
     "name": "stdout",
     "output_type": "stream",
     "text": [
      "symboling              int64\n",
      "normalized-losses      int64\n",
      "make                  object\n",
      "aspiration            object\n",
      "num-of-doors          object\n",
      "body-style            object\n",
      "drive-wheels          object\n",
      "engine-location       object\n",
      "wheel-base           float64\n",
      "length               float64\n",
      "width                float64\n",
      "height               float64\n",
      "curb-weight            int64\n",
      "engine-type           object\n",
      "num-of-cylinders      object\n",
      "engine-size            int64\n",
      "fuel-system           object\n",
      "bore                 float64\n",
      "stroke               float64\n",
      "compression-ratio    float64\n",
      "horsepower           float64\n",
      "peak-rpm             float64\n",
      "city-mpg               int64\n",
      "highway-mpg            int64\n",
      "price                float64\n",
      "city-L/100km         float64\n",
      "horsepower-binned     object\n",
      "diesel                 int64\n",
      "gas                    int64\n",
      "dtype: object\n"
     ]
    }
   ],
   "source": [
    "# list the data types for each column\n",
    "print(df.dtypes)"
   ]
  },
  {
   "cell_type": "markdown",
   "id": "e1a9ff85",
   "metadata": {
    "papermill": {
     "duration": 0.023373,
     "end_time": "2024-05-06T05:44:18.853272",
     "exception": false,
     "start_time": "2024-05-06T05:44:18.829899",
     "status": "completed"
    },
    "tags": []
   },
   "source": [
    "<div class=\"alert alert-danger alertdanger\" style=\"margin-top: 20px\">\n",
    "<h3>Question  #1:</h3>\n",
    "\n",
    "<b>What is the data type of the column \"peak-rpm\"? </b>\n",
    "</div>\n"
   ]
  },
  {
   "cell_type": "code",
   "execution_count": 8,
   "id": "85b05770",
   "metadata": {
    "execution": {
     "iopub.execute_input": "2024-05-06T05:44:18.902261Z",
     "iopub.status.busy": "2024-05-06T05:44:18.901822Z",
     "iopub.status.idle": "2024-05-06T05:44:18.908006Z",
     "shell.execute_reply": "2024-05-06T05:44:18.906980Z"
    },
    "papermill": {
     "duration": 0.033557,
     "end_time": "2024-05-06T05:44:18.910245",
     "exception": false,
     "start_time": "2024-05-06T05:44:18.876688",
     "status": "completed"
    },
    "tags": []
   },
   "outputs": [
    {
     "data": {
      "text/plain": [
       "dtype('float64')"
      ]
     },
     "execution_count": 8,
     "metadata": {},
     "output_type": "execute_result"
    }
   ],
   "source": [
    "# Write your code below and press Shift+Enter to execute \n",
    "df['peak-rpm'].dtypes"
   ]
  },
  {
   "cell_type": "markdown",
   "id": "0773de12",
   "metadata": {
    "papermill": {
     "duration": 0.023944,
     "end_time": "2024-05-06T05:44:18.958463",
     "exception": false,
     "start_time": "2024-05-06T05:44:18.934519",
     "status": "completed"
    },
    "tags": []
   },
   "source": [
    "For example, we can calculate the correlation between variables  of type \"int64\" or \"float64\" using the method \"corr\":\n"
   ]
  },
  {
   "cell_type": "code",
   "execution_count": 9,
   "id": "08cfca20",
   "metadata": {
    "execution": {
     "iopub.execute_input": "2024-05-06T05:44:19.009046Z",
     "iopub.status.busy": "2024-05-06T05:44:19.008652Z",
     "iopub.status.idle": "2024-05-06T05:44:19.018977Z",
     "shell.execute_reply": "2024-05-06T05:44:19.017869Z"
    },
    "papermill": {
     "duration": 0.039051,
     "end_time": "2024-05-06T05:44:19.021333",
     "exception": false,
     "start_time": "2024-05-06T05:44:18.982282",
     "status": "completed"
    },
    "tags": []
   },
   "outputs": [
    {
     "data": {
      "text/plain": [
       "-0.10161587407588138"
      ]
     },
     "execution_count": 9,
     "metadata": {},
     "output_type": "execute_result"
    }
   ],
   "source": [
    "x = df['price']\n",
    "y = df['peak-rpm']\n",
    "x.corr(y)"
   ]
  },
  {
   "cell_type": "code",
   "execution_count": 10,
   "id": "2f846b59",
   "metadata": {
    "execution": {
     "iopub.execute_input": "2024-05-06T05:44:19.071242Z",
     "iopub.status.busy": "2024-05-06T05:44:19.070886Z",
     "iopub.status.idle": "2024-05-06T05:44:19.083781Z",
     "shell.execute_reply": "2024-05-06T05:44:19.082825Z"
    },
    "papermill": {
     "duration": 0.039868,
     "end_time": "2024-05-06T05:44:19.085933",
     "exception": false,
     "start_time": "2024-05-06T05:44:19.046065",
     "status": "completed"
    },
    "tags": []
   },
   "outputs": [
    {
     "data": {
      "text/html": [
       "<div>\n",
       "<style scoped>\n",
       "    .dataframe tbody tr th:only-of-type {\n",
       "        vertical-align: middle;\n",
       "    }\n",
       "\n",
       "    .dataframe tbody tr th {\n",
       "        vertical-align: top;\n",
       "    }\n",
       "\n",
       "    .dataframe thead th {\n",
       "        text-align: right;\n",
       "    }\n",
       "</style>\n",
       "<table border=\"1\" class=\"dataframe\">\n",
       "  <thead>\n",
       "    <tr style=\"text-align: right;\">\n",
       "      <th></th>\n",
       "      <th>price</th>\n",
       "      <th>peak-rpm</th>\n",
       "    </tr>\n",
       "  </thead>\n",
       "  <tbody>\n",
       "    <tr>\n",
       "      <th>price</th>\n",
       "      <td>1.000000</td>\n",
       "      <td>-0.101616</td>\n",
       "    </tr>\n",
       "    <tr>\n",
       "      <th>peak-rpm</th>\n",
       "      <td>-0.101616</td>\n",
       "      <td>1.000000</td>\n",
       "    </tr>\n",
       "  </tbody>\n",
       "</table>\n",
       "</div>"
      ],
      "text/plain": [
       "             price  peak-rpm\n",
       "price     1.000000 -0.101616\n",
       "peak-rpm -0.101616  1.000000"
      ]
     },
     "execution_count": 10,
     "metadata": {},
     "output_type": "execute_result"
    }
   ],
   "source": [
    "# another solution\n",
    "df_corr = df[['price', 'peak-rpm']]\n",
    "df_corr.corr()"
   ]
  },
  {
   "cell_type": "markdown",
   "id": "55a77de8",
   "metadata": {
    "papermill": {
     "duration": 0.023951,
     "end_time": "2024-05-06T05:44:19.134602",
     "exception": false,
     "start_time": "2024-05-06T05:44:19.110651",
     "status": "completed"
    },
    "tags": []
   },
   "source": [
    "The diagonal elements are always one; we will study correlation more precisely Pearson correlation in-depth at the end of the notebook.\n"
   ]
  },
  {
   "cell_type": "markdown",
   "id": "30295982",
   "metadata": {
    "papermill": {
     "duration": 0.023978,
     "end_time": "2024-05-06T05:44:19.183289",
     "exception": false,
     "start_time": "2024-05-06T05:44:19.159311",
     "status": "completed"
    },
    "tags": []
   },
   "source": [
    "<div class=\"alert alert-danger alertdanger\" style=\"margin-top: 20px\">\n",
    "<h3> Question  #2: </h3>\n",
    "\n",
    "<p>Find the correlation between the following columns: bore, stroke, compression-ratio, and horsepower.</p>"
   ]
  },
  {
   "cell_type": "code",
   "execution_count": 11,
   "id": "a2dca74b",
   "metadata": {
    "execution": {
     "iopub.execute_input": "2024-05-06T05:44:19.234100Z",
     "iopub.status.busy": "2024-05-06T05:44:19.233471Z",
     "iopub.status.idle": "2024-05-06T05:44:19.245671Z",
     "shell.execute_reply": "2024-05-06T05:44:19.244844Z"
    },
    "papermill": {
     "duration": 0.039524,
     "end_time": "2024-05-06T05:44:19.247579",
     "exception": false,
     "start_time": "2024-05-06T05:44:19.208055",
     "status": "completed"
    },
    "tags": []
   },
   "outputs": [
    {
     "data": {
      "text/html": [
       "<div>\n",
       "<style scoped>\n",
       "    .dataframe tbody tr th:only-of-type {\n",
       "        vertical-align: middle;\n",
       "    }\n",
       "\n",
       "    .dataframe tbody tr th {\n",
       "        vertical-align: top;\n",
       "    }\n",
       "\n",
       "    .dataframe thead th {\n",
       "        text-align: right;\n",
       "    }\n",
       "</style>\n",
       "<table border=\"1\" class=\"dataframe\">\n",
       "  <thead>\n",
       "    <tr style=\"text-align: right;\">\n",
       "      <th></th>\n",
       "      <th>bore</th>\n",
       "      <th>stroke</th>\n",
       "      <th>compression-ratio</th>\n",
       "      <th>horsepower</th>\n",
       "    </tr>\n",
       "  </thead>\n",
       "  <tbody>\n",
       "    <tr>\n",
       "      <th>bore</th>\n",
       "      <td>1.000000</td>\n",
       "      <td>-0.055390</td>\n",
       "      <td>0.001263</td>\n",
       "      <td>0.566936</td>\n",
       "    </tr>\n",
       "    <tr>\n",
       "      <th>stroke</th>\n",
       "      <td>-0.055390</td>\n",
       "      <td>1.000000</td>\n",
       "      <td>0.187923</td>\n",
       "      <td>0.098462</td>\n",
       "    </tr>\n",
       "    <tr>\n",
       "      <th>compression-ratio</th>\n",
       "      <td>0.001263</td>\n",
       "      <td>0.187923</td>\n",
       "      <td>1.000000</td>\n",
       "      <td>-0.214514</td>\n",
       "    </tr>\n",
       "    <tr>\n",
       "      <th>horsepower</th>\n",
       "      <td>0.566936</td>\n",
       "      <td>0.098462</td>\n",
       "      <td>-0.214514</td>\n",
       "      <td>1.000000</td>\n",
       "    </tr>\n",
       "  </tbody>\n",
       "</table>\n",
       "</div>"
      ],
      "text/plain": [
       "                       bore    stroke  compression-ratio  horsepower\n",
       "bore               1.000000 -0.055390           0.001263    0.566936\n",
       "stroke            -0.055390  1.000000           0.187923    0.098462\n",
       "compression-ratio  0.001263  0.187923           1.000000   -0.214514\n",
       "horsepower         0.566936  0.098462          -0.214514    1.000000"
      ]
     },
     "execution_count": 11,
     "metadata": {},
     "output_type": "execute_result"
    }
   ],
   "source": [
    "# Write your code below and press Shift+Enter to execute \n",
    "df[['bore','stroke','compression-ratio','horsepower']].corr()"
   ]
  },
  {
   "cell_type": "markdown",
   "id": "ba11d2b3",
   "metadata": {
    "papermill": {
     "duration": 0.024055,
     "end_time": "2024-05-06T05:44:19.295917",
     "exception": false,
     "start_time": "2024-05-06T05:44:19.271862",
     "status": "completed"
    },
    "tags": []
   },
   "source": [
    "<h2>Continuous Numerical Variables:</h2> \n",
    "\n",
    "<p>Continuous numerical variables are variables that may contain any value within some range. They can be of type \"int64\" or \"float64\". A great way to visualize these variables is by using scatterplots with fitted lines.</p>\n",
    "\n",
    "<p>In order to start understanding the (linear) relationship between an individual variable and the price, we can use \"regplot\" which plots the scatterplot plus the fitted regression line for the data. This will be useful later on for visualizing the fit of the simple linear regression model as well. </p>\n"
   ]
  },
  {
   "cell_type": "markdown",
   "id": "aae6eb15",
   "metadata": {
    "papermill": {
     "duration": 0.02375,
     "end_time": "2024-05-06T05:44:19.343868",
     "exception": false,
     "start_time": "2024-05-06T05:44:19.320118",
     "status": "completed"
    },
    "tags": []
   },
   "source": [
    " Let's see several examples of different linear relationships:\n"
   ]
  },
  {
   "cell_type": "markdown",
   "id": "e2b777a7",
   "metadata": {
    "papermill": {
     "duration": 0.027347,
     "end_time": "2024-05-06T05:44:19.395475",
     "exception": false,
     "start_time": "2024-05-06T05:44:19.368128",
     "status": "completed"
    },
    "tags": []
   },
   "source": [
    "<h3>Positive Linear Relationship</h4>\n"
   ]
  },
  {
   "cell_type": "markdown",
   "id": "96a096f8",
   "metadata": {
    "papermill": {
     "duration": 0.02396,
     "end_time": "2024-05-06T05:44:19.443592",
     "exception": false,
     "start_time": "2024-05-06T05:44:19.419632",
     "status": "completed"
    },
    "tags": []
   },
   "source": [
    "Let's find the scatterplot of \"engine-size\" and \"price\".\n"
   ]
  },
  {
   "cell_type": "code",
   "execution_count": 12,
   "id": "a47c0e2c",
   "metadata": {
    "execution": {
     "iopub.execute_input": "2024-05-06T05:44:19.494773Z",
     "iopub.status.busy": "2024-05-06T05:44:19.494087Z",
     "iopub.status.idle": "2024-05-06T05:44:19.965025Z",
     "shell.execute_reply": "2024-05-06T05:44:19.963770Z"
    },
    "papermill": {
     "duration": 0.498685,
     "end_time": "2024-05-06T05:44:19.967394",
     "exception": false,
     "start_time": "2024-05-06T05:44:19.468709",
     "status": "completed"
    },
    "tags": []
   },
   "outputs": [
    {
     "data": {
      "text/plain": [
       "(0.0, 53388.95908884308)"
      ]
     },
     "execution_count": 12,
     "metadata": {},
     "output_type": "execute_result"
    },
    {
     "data": {
      "image/png": "[encoded data removed]",
      "text/plain": [
       "<Figure size 640x480 with 1 Axes>"
      ]
     },
     "metadata": {},
     "output_type": "display_data"
    }
   ],
   "source": [
    "# Engine size as potential predictor variable of price\n",
    "sns.regplot(x=\"engine-size\", y=\"price\", data=df)\n",
    "plt.ylim(0,)"
   ]
  },
  {
   "cell_type": "markdown",
   "id": "ae4a81db",
   "metadata": {
    "papermill": {
     "duration": 0.024768,
     "end_time": "2024-05-06T05:44:20.017178",
     "exception": false,
     "start_time": "2024-05-06T05:44:19.992410",
     "status": "completed"
    },
    "tags": []
   },
   "source": [
    "<p>As the engine-size goes up, the price goes up: this indicates a positive direct correlation between these two variables. Engine size seems like a pretty good predictor of price since the regression line is almost a perfect diagonal line.</p>\n"
   ]
  },
  {
   "cell_type": "markdown",
   "id": "645fac6f",
   "metadata": {
    "papermill": {
     "duration": 0.024581,
     "end_time": "2024-05-06T05:44:20.066624",
     "exception": false,
     "start_time": "2024-05-06T05:44:20.042043",
     "status": "completed"
    },
    "tags": []
   },
   "source": [
    " We can examine the correlation between 'engine-size' and 'price' and see that it's approximately 0.87.\n"
   ]
  },
  {
   "cell_type": "code",
   "execution_count": 13,
   "id": "c19ab62d",
   "metadata": {
    "execution": {
     "iopub.execute_input": "2024-05-06T05:44:20.117759Z",
     "iopub.status.busy": "2024-05-06T05:44:20.117392Z",
     "iopub.status.idle": "2024-05-06T05:44:20.129680Z",
     "shell.execute_reply": "2024-05-06T05:44:20.128510Z"
    },
    "papermill": {
     "duration": 0.040593,
     "end_time": "2024-05-06T05:44:20.131981",
     "exception": false,
     "start_time": "2024-05-06T05:44:20.091388",
     "status": "completed"
    },
    "tags": []
   },
   "outputs": [
    {
     "data": {
      "text/html": [
       "<div>\n",
       "<style scoped>\n",
       "    .dataframe tbody tr th:only-of-type {\n",
       "        vertical-align: middle;\n",
       "    }\n",
       "\n",
       "    .dataframe tbody tr th {\n",
       "        vertical-align: top;\n",
       "    }\n",
       "\n",
       "    .dataframe thead th {\n",
       "        text-align: right;\n",
       "    }\n",
       "</style>\n",
       "<table border=\"1\" class=\"dataframe\">\n",
       "  <thead>\n",
       "    <tr style=\"text-align: right;\">\n",
       "      <th></th>\n",
       "      <th>engine-size</th>\n",
       "      <th>price</th>\n",
       "    </tr>\n",
       "  </thead>\n",
       "  <tbody>\n",
       "    <tr>\n",
       "      <th>engine-size</th>\n",
       "      <td>1.000000</td>\n",
       "      <td>0.872335</td>\n",
       "    </tr>\n",
       "    <tr>\n",
       "      <th>price</th>\n",
       "      <td>0.872335</td>\n",
       "      <td>1.000000</td>\n",
       "    </tr>\n",
       "  </tbody>\n",
       "</table>\n",
       "</div>"
      ],
      "text/plain": [
       "             engine-size     price\n",
       "engine-size     1.000000  0.872335\n",
       "price           0.872335  1.000000"
      ]
     },
     "execution_count": 13,
     "metadata": {},
     "output_type": "execute_result"
    }
   ],
   "source": [
    "df[[\"engine-size\", \"price\"]].corr()"
   ]
  },
  {
   "cell_type": "markdown",
   "id": "98ee62f2",
   "metadata": {
    "papermill": {
     "duration": 0.025602,
     "end_time": "2024-05-06T05:44:20.182857",
     "exception": false,
     "start_time": "2024-05-06T05:44:20.157255",
     "status": "completed"
    },
    "tags": []
   },
   "source": [
    "Highway mpg is a potential predictor variable of price. Let's find the scatterplot of \"highway-mpg\" and \"price\".\n"
   ]
  },
  {
   "cell_type": "code",
   "execution_count": 14,
   "id": "eb7894cc",
   "metadata": {
    "execution": {
     "iopub.execute_input": "2024-05-06T05:44:20.235839Z",
     "iopub.status.busy": "2024-05-06T05:44:20.235473Z",
     "iopub.status.idle": "2024-05-06T05:44:20.606249Z",
     "shell.execute_reply": "2024-05-06T05:44:20.604893Z"
    },
    "papermill": {
     "duration": 0.400441,
     "end_time": "2024-05-06T05:44:20.608609",
     "exception": false,
     "start_time": "2024-05-06T05:44:20.208168",
     "status": "completed"
    },
    "tags": []
   },
   "outputs": [
    {
     "data": {
      "text/plain": [
       "<Axes: xlabel='highway-mpg', ylabel='price'>"
      ]
     },
     "execution_count": 14,
     "metadata": {},
     "output_type": "execute_result"
    },
    {
     "data": {
      "image/png": "[encoded data removed]",
      "text/plain": [
       "<Figure size 640x480 with 1 Axes>"
      ]
     },
     "metadata": {},
     "output_type": "display_data"
    }
   ],
   "source": [
    "sns.regplot(x=\"highway-mpg\", y=\"price\", data=df)"
   ]
  },
  {
   "cell_type": "markdown",
   "id": "4b3b61ee",
   "metadata": {
    "papermill": {
     "duration": 0.025702,
     "end_time": "2024-05-06T05:44:20.660850",
     "exception": false,
     "start_time": "2024-05-06T05:44:20.635148",
     "status": "completed"
    },
    "tags": []
   },
   "source": [
    "<p>As highway-mpg goes up, the price goes down: this indicates an inverse/negative relationship between these two variables. Highway mpg could potentially be a predictor of price.</p>\n"
   ]
  },
  {
   "cell_type": "markdown",
   "id": "238eaa1d",
   "metadata": {
    "papermill": {
     "duration": 0.025606,
     "end_time": "2024-05-06T05:44:20.712484",
     "exception": false,
     "start_time": "2024-05-06T05:44:20.686878",
     "status": "completed"
    },
    "tags": []
   },
   "source": [
    "We can examine the correlation between 'highway-mpg' and 'price' and see it's approximately -0.704.\n"
   ]
  },
  {
   "cell_type": "code",
   "execution_count": 15,
   "id": "f63c062b",
   "metadata": {
    "execution": {
     "iopub.execute_input": "2024-05-06T05:44:20.767373Z",
     "iopub.status.busy": "2024-05-06T05:44:20.766987Z",
     "iopub.status.idle": "2024-05-06T05:44:20.778981Z",
     "shell.execute_reply": "2024-05-06T05:44:20.777874Z"
    },
    "papermill": {
     "duration": 0.042686,
     "end_time": "2024-05-06T05:44:20.781138",
     "exception": false,
     "start_time": "2024-05-06T05:44:20.738452",
     "status": "completed"
    },
    "tags": []
   },
   "outputs": [
    {
     "data": {
      "text/html": [
       "<div>\n",
       "<style scoped>\n",
       "    .dataframe tbody tr th:only-of-type {\n",
       "        vertical-align: middle;\n",
       "    }\n",
       "\n",
       "    .dataframe tbody tr th {\n",
       "        vertical-align: top;\n",
       "    }\n",
       "\n",
       "    .dataframe thead th {\n",
       "        text-align: right;\n",
       "    }\n",
       "</style>\n",
       "<table border=\"1\" class=\"dataframe\">\n",
       "  <thead>\n",
       "    <tr style=\"text-align: right;\">\n",
       "      <th></th>\n",
       "      <th>highway-mpg</th>\n",
       "      <th>price</th>\n",
       "    </tr>\n",
       "  </thead>\n",
       "  <tbody>\n",
       "    <tr>\n",
       "      <th>highway-mpg</th>\n",
       "      <td>1.000000</td>\n",
       "      <td>-0.704692</td>\n",
       "    </tr>\n",
       "    <tr>\n",
       "      <th>price</th>\n",
       "      <td>-0.704692</td>\n",
       "      <td>1.000000</td>\n",
       "    </tr>\n",
       "  </tbody>\n",
       "</table>\n",
       "</div>"
      ],
      "text/plain": [
       "             highway-mpg     price\n",
       "highway-mpg     1.000000 -0.704692\n",
       "price          -0.704692  1.000000"
      ]
     },
     "execution_count": 15,
     "metadata": {},
     "output_type": "execute_result"
    }
   ],
   "source": [
    "df[['highway-mpg', 'price']].corr()"
   ]
  },
  {
   "cell_type": "markdown",
   "id": "40e328a8",
   "metadata": {
    "papermill": {
     "duration": 0.025978,
     "end_time": "2024-05-06T05:44:20.834095",
     "exception": false,
     "start_time": "2024-05-06T05:44:20.808117",
     "status": "completed"
    },
    "tags": []
   },
   "source": [
    "<h3>Weak Linear Relationship</h3>\n"
   ]
  },
  {
   "cell_type": "markdown",
   "id": "74848f5a",
   "metadata": {
    "papermill": {
     "duration": 0.025769,
     "end_time": "2024-05-06T05:44:20.886175",
     "exception": false,
     "start_time": "2024-05-06T05:44:20.860406",
     "status": "completed"
    },
    "tags": []
   },
   "source": [
    "Let's see if \"peak-rpm\" is a predictor variable of \"price\".\n"
   ]
  },
  {
   "cell_type": "code",
   "execution_count": 16,
   "id": "d125a654",
   "metadata": {
    "execution": {
     "iopub.execute_input": "2024-05-06T05:44:20.941088Z",
     "iopub.status.busy": "2024-05-06T05:44:20.940437Z",
     "iopub.status.idle": "2024-05-06T05:44:21.304409Z",
     "shell.execute_reply": "2024-05-06T05:44:21.303466Z"
    },
    "papermill": {
     "duration": 0.394108,
     "end_time": "2024-05-06T05:44:21.306549",
     "exception": false,
     "start_time": "2024-05-06T05:44:20.912441",
     "status": "completed"
    },
    "tags": []
   },
   "outputs": [
    {
     "data": {
      "text/plain": [
       "<Axes: xlabel='peak-rpm', ylabel='price'>"
      ]
     },
     "execution_count": 16,
     "metadata": {},
     "output_type": "execute_result"
    },
    {
     "data": {
      "image/png": "[encoded data removed]",
      "text/plain": [
       "<Figure size 640x480 with 1 Axes>"
      ]
     },
     "metadata": {},
     "output_type": "display_data"
    }
   ],
   "source": [
    "sns.regplot(x=\"peak-rpm\", y=\"price\", data=df)"
   ]
  },
  {
   "cell_type": "markdown",
   "id": "5cd1e7d3",
   "metadata": {
    "papermill": {
     "duration": 0.035579,
     "end_time": "2024-05-06T05:44:21.369526",
     "exception": false,
     "start_time": "2024-05-06T05:44:21.333947",
     "status": "completed"
    },
    "tags": []
   },
   "source": [
    "<p>Peak rpm does not seem like a good predictor of the price at all since the regression line is close to horizontal. Also, the data points are very scattered and far from the fitted line, showing lots of variability. Therefore, it's not a reliable variable.</p>\n"
   ]
  },
  {
   "cell_type": "markdown",
   "id": "1fdd56f2",
   "metadata": {
    "papermill": {
     "duration": 0.028379,
     "end_time": "2024-05-06T05:44:21.431671",
     "exception": false,
     "start_time": "2024-05-06T05:44:21.403292",
     "status": "completed"
    },
    "tags": []
   },
   "source": [
    "We can examine the correlation between 'peak-rpm' and 'price' and see it's approximately -0.101616.\n"
   ]
  },
  {
   "cell_type": "code",
   "execution_count": 17,
   "id": "39782e28",
   "metadata": {
    "execution": {
     "iopub.execute_input": "2024-05-06T05:44:21.488292Z",
     "iopub.status.busy": "2024-05-06T05:44:21.487913Z",
     "iopub.status.idle": "2024-05-06T05:44:21.501196Z",
     "shell.execute_reply": "2024-05-06T05:44:21.499825Z"
    },
    "papermill": {
     "duration": 0.04417,
     "end_time": "2024-05-06T05:44:21.503657",
     "exception": false,
     "start_time": "2024-05-06T05:44:21.459487",
     "status": "completed"
    },
    "tags": []
   },
   "outputs": [
    {
     "data": {
      "text/html": [
       "<div>\n",
       "<style scoped>\n",
       "    .dataframe tbody tr th:only-of-type {\n",
       "        vertical-align: middle;\n",
       "    }\n",
       "\n",
       "    .dataframe tbody tr th {\n",
       "        vertical-align: top;\n",
       "    }\n",
       "\n",
       "    .dataframe thead th {\n",
       "        text-align: right;\n",
       "    }\n",
       "</style>\n",
       "<table border=\"1\" class=\"dataframe\">\n",
       "  <thead>\n",
       "    <tr style=\"text-align: right;\">\n",
       "      <th></th>\n",
       "      <th>peak-rpm</th>\n",
       "      <th>price</th>\n",
       "    </tr>\n",
       "  </thead>\n",
       "  <tbody>\n",
       "    <tr>\n",
       "      <th>peak-rpm</th>\n",
       "      <td>1.000000</td>\n",
       "      <td>-0.101616</td>\n",
       "    </tr>\n",
       "    <tr>\n",
       "      <th>price</th>\n",
       "      <td>-0.101616</td>\n",
       "      <td>1.000000</td>\n",
       "    </tr>\n",
       "  </tbody>\n",
       "</table>\n",
       "</div>"
      ],
      "text/plain": [
       "          peak-rpm     price\n",
       "peak-rpm  1.000000 -0.101616\n",
       "price    -0.101616  1.000000"
      ]
     },
     "execution_count": 17,
     "metadata": {},
     "output_type": "execute_result"
    }
   ],
   "source": [
    "df[['peak-rpm','price']].corr()"
   ]
  },
  {
   "cell_type": "markdown",
   "id": "39236585",
   "metadata": {
    "papermill": {
     "duration": 0.036253,
     "end_time": "2024-05-06T05:44:21.577983",
     "exception": false,
     "start_time": "2024-05-06T05:44:21.541730",
     "status": "completed"
    },
    "tags": []
   },
   "source": [
    " <div class=\"alert alert-danger alertdanger\" style=\"margin-top: 20px\">\n",
    "<h1> Question  3 a): </h1>\n",
    "\n",
    "<p>Find the correlation  between x=\"stroke\" and y=\"price\".</p>\n",
    "\n"
   ]
  },
  {
   "cell_type": "code",
   "execution_count": 18,
   "id": "9bf625af",
   "metadata": {
    "execution": {
     "iopub.execute_input": "2024-05-06T05:44:21.641069Z",
     "iopub.status.busy": "2024-05-06T05:44:21.640305Z",
     "iopub.status.idle": "2024-05-06T05:44:21.651821Z",
     "shell.execute_reply": "2024-05-06T05:44:21.650720Z"
    },
    "papermill": {
     "duration": 0.042631,
     "end_time": "2024-05-06T05:44:21.654173",
     "exception": false,
     "start_time": "2024-05-06T05:44:21.611542",
     "status": "completed"
    },
    "tags": []
   },
   "outputs": [
    {
     "data": {
      "text/html": [
       "<div>\n",
       "<style scoped>\n",
       "    .dataframe tbody tr th:only-of-type {\n",
       "        vertical-align: middle;\n",
       "    }\n",
       "\n",
       "    .dataframe tbody tr th {\n",
       "        vertical-align: top;\n",
       "    }\n",
       "\n",
       "    .dataframe thead th {\n",
       "        text-align: right;\n",
       "    }\n",
       "</style>\n",
       "<table border=\"1\" class=\"dataframe\">\n",
       "  <thead>\n",
       "    <tr style=\"text-align: right;\">\n",
       "      <th></th>\n",
       "      <th>stroke</th>\n",
       "      <th>price</th>\n",
       "    </tr>\n",
       "  </thead>\n",
       "  <tbody>\n",
       "    <tr>\n",
       "      <th>stroke</th>\n",
       "      <td>1.00000</td>\n",
       "      <td>0.08231</td>\n",
       "    </tr>\n",
       "    <tr>\n",
       "      <th>price</th>\n",
       "      <td>0.08231</td>\n",
       "      <td>1.00000</td>\n",
       "    </tr>\n",
       "  </tbody>\n",
       "</table>\n",
       "</div>"
      ],
      "text/plain": [
       "         stroke    price\n",
       "stroke  1.00000  0.08231\n",
       "price   0.08231  1.00000"
      ]
     },
     "execution_count": 18,
     "metadata": {},
     "output_type": "execute_result"
    }
   ],
   "source": [
    "df[[\"stroke\", \"price\"]].corr()"
   ]
  },
  {
   "cell_type": "markdown",
   "id": "7a5ef103",
   "metadata": {
    "papermill": {
     "duration": 0.027188,
     "end_time": "2024-05-06T05:44:21.711500",
     "exception": false,
     "start_time": "2024-05-06T05:44:21.684312",
     "status": "completed"
    },
    "tags": []
   },
   "source": [
    "<div class=\"alert alert-danger alertdanger\" style=\"margin-top: 20px\">\n",
    "<h1>Question  3 b):</h1>\n",
    "\n",
    "<p>Given the correlation results between \"price\" and \"stroke\", do you expect a linear relationship?</p> \n",
    "<p>Verify your results using the function \"regplot()\".</p>\n",
    "</div>\n"
   ]
  },
  {
   "cell_type": "code",
   "execution_count": 19,
   "id": "122a398b",
   "metadata": {
    "execution": {
     "iopub.execute_input": "2024-05-06T05:44:21.768886Z",
     "iopub.status.busy": "2024-05-06T05:44:21.768154Z",
     "iopub.status.idle": "2024-05-06T05:44:22.132222Z",
     "shell.execute_reply": "2024-05-06T05:44:22.131062Z"
    },
    "papermill": {
     "duration": 0.396031,
     "end_time": "2024-05-06T05:44:22.134615",
     "exception": false,
     "start_time": "2024-05-06T05:44:21.738584",
     "status": "completed"
    },
    "tags": []
   },
   "outputs": [
    {
     "data": {
      "text/plain": [
       "<Axes: xlabel='stroke', ylabel='price'>"
      ]
     },
     "execution_count": 19,
     "metadata": {},
     "output_type": "execute_result"
    },
    {
     "data": {
      "image/png": "[encoded data removed]",
      "text/plain": [
       "<Figure size 640x480 with 1 Axes>"
      ]
     },
     "metadata": {},
     "output_type": "display_data"
    }
   ],
   "source": [
    "# Write your code below and press Shift+Enter to execute \n",
    "sns.regplot(x=\"stroke\", y=\"price\", data=df) # No relationship between these two variables"
   ]
  },
  {
   "cell_type": "markdown",
   "id": "e75fc9b7",
   "metadata": {
    "papermill": {
     "duration": 0.028911,
     "end_time": "2024-05-06T05:44:22.192415",
     "exception": false,
     "start_time": "2024-05-06T05:44:22.163504",
     "status": "completed"
    },
    "tags": []
   },
   "source": [
    "<h3>Categorical Variables</h3>\n",
    "\n",
    "<p>These are variables that describe a 'characteristic' of a data unit, and are selected from a small group of categories. The categorical variables can have the type \"object\" or \"int64\". A good way to visualize categorical variables is by using boxplots.</p>\n"
   ]
  },
  {
   "cell_type": "markdown",
   "id": "fc8719d6",
   "metadata": {
    "papermill": {
     "duration": 0.027883,
     "end_time": "2024-05-06T05:44:22.248512",
     "exception": false,
     "start_time": "2024-05-06T05:44:22.220629",
     "status": "completed"
    },
    "tags": []
   },
   "source": [
    "Let's look at the relationship between \"body-style\" and \"price\".\n"
   ]
  },
  {
   "cell_type": "code",
   "execution_count": 20,
   "id": "8d65bf6a",
   "metadata": {
    "execution": {
     "iopub.execute_input": "2024-05-06T05:44:22.307542Z",
     "iopub.status.busy": "2024-05-06T05:44:22.307163Z",
     "iopub.status.idle": "2024-05-06T05:44:22.599854Z",
     "shell.execute_reply": "2024-05-06T05:44:22.598864Z"
    },
    "papermill": {
     "duration": 0.325941,
     "end_time": "2024-05-06T05:44:22.602642",
     "exception": false,
     "start_time": "2024-05-06T05:44:22.276701",
     "status": "completed"
    },
    "tags": []
   },
   "outputs": [
    {
     "data": {
      "text/plain": [
       "<Axes: xlabel='body-style', ylabel='price'>"
      ]
     },
     "execution_count": 20,
     "metadata": {},
     "output_type": "execute_result"
    },
    {
     "data": {
      "image/png": "[encoded data removed]",
      "text/plain": [
       "<Figure size 640x480 with 1 Axes>"
      ]
     },
     "metadata": {},
     "output_type": "display_data"
    }
   ],
   "source": [
    "sns.boxplot(x=\"body-style\", y=\"price\", data=df)"
   ]
  },
  {
   "cell_type": "markdown",
   "id": "83233e04",
   "metadata": {
    "papermill": {
     "duration": 0.028701,
     "end_time": "2024-05-06T05:44:22.660343",
     "exception": false,
     "start_time": "2024-05-06T05:44:22.631642",
     "status": "completed"
    },
    "tags": []
   },
   "source": [
    "<p>We see that the distributions of price between the different body-style categories have a significant overlap, so body-style would not be a good predictor of price. Let's examine engine \"engine-location\" and \"price\":</p>\n"
   ]
  },
  {
   "cell_type": "code",
   "execution_count": 21,
   "id": "d92ae425",
   "metadata": {
    "execution": {
     "iopub.execute_input": "2024-05-06T05:44:22.721520Z",
     "iopub.status.busy": "2024-05-06T05:44:22.721120Z",
     "iopub.status.idle": "2024-05-06T05:44:22.953977Z",
     "shell.execute_reply": "2024-05-06T05:44:22.952778Z"
    },
    "papermill": {
     "duration": 0.266768,
     "end_time": "2024-05-06T05:44:22.956496",
     "exception": false,
     "start_time": "2024-05-06T05:44:22.689728",
     "status": "completed"
    },
    "tags": []
   },
   "outputs": [
    {
     "data": {
      "text/plain": [
       "<Axes: xlabel='engine-location', ylabel='price'>"
      ]
     },
     "execution_count": 21,
     "metadata": {},
     "output_type": "execute_result"
    },
    {
     "data": {
      "image/png": "[encoded data removed]",
      "text/plain": [
       "<Figure size 640x480 with 1 Axes>"
      ]
     },
     "metadata": {},
     "output_type": "display_data"
    }
   ],
   "source": [
    "sns.boxplot(x=\"engine-location\", y=\"price\", data=df)"
   ]
  },
  {
   "cell_type": "markdown",
   "id": "5cd48de5",
   "metadata": {
    "papermill": {
     "duration": 0.028867,
     "end_time": "2024-05-06T05:44:23.014520",
     "exception": false,
     "start_time": "2024-05-06T05:44:22.985653",
     "status": "completed"
    },
    "tags": []
   },
   "source": [
    "<p>Here we see that the distribution of price between these two engine-location categories, front and rear, are distinct enough to take engine-location as a potential good predictor of price.</p>\n"
   ]
  },
  {
   "cell_type": "markdown",
   "id": "022ede79",
   "metadata": {
    "papermill": {
     "duration": 0.029923,
     "end_time": "2024-05-06T05:44:23.074075",
     "exception": false,
     "start_time": "2024-05-06T05:44:23.044152",
     "status": "completed"
    },
    "tags": []
   },
   "source": [
    " Let's examine \"drive-wheels\" and \"price\".\n"
   ]
  },
  {
   "cell_type": "code",
   "execution_count": 22,
   "id": "545853f7",
   "metadata": {
    "execution": {
     "iopub.execute_input": "2024-05-06T05:44:23.136378Z",
     "iopub.status.busy": "2024-05-06T05:44:23.135749Z",
     "iopub.status.idle": "2024-05-06T05:44:23.387693Z",
     "shell.execute_reply": "2024-05-06T05:44:23.386560Z"
    },
    "papermill": {
     "duration": 0.286207,
     "end_time": "2024-05-06T05:44:23.390374",
     "exception": false,
     "start_time": "2024-05-06T05:44:23.104167",
     "status": "completed"
    },
    "tags": []
   },
   "outputs": [
    {
     "data": {
      "text/plain": [
       "<Axes: xlabel='drive-wheels', ylabel='price'>"
      ]
     },
     "execution_count": 22,
     "metadata": {},
     "output_type": "execute_result"
    },
    {
     "data": {
      "image/png": "[encoded data removed]",
      "text/plain": [
       "<Figure size 640x480 with 1 Axes>"
      ]
     },
     "metadata": {},
     "output_type": "display_data"
    }
   ],
   "source": [
    "# drive-wheels\n",
    "sns.boxplot(x=\"drive-wheels\", y=\"price\", data=df)"
   ]
  },
  {
   "cell_type": "markdown",
   "id": "fbfc95bf",
   "metadata": {
    "papermill": {
     "duration": 0.029728,
     "end_time": "2024-05-06T05:44:23.453276",
     "exception": false,
     "start_time": "2024-05-06T05:44:23.423548",
     "status": "completed"
    },
    "tags": []
   },
   "source": [
    "<p>Here we see that the distribution of price between the different drive-wheels categories differs. As such, drive-wheels could potentially be a predictor of price.</p>\n"
   ]
  },
  {
   "cell_type": "markdown",
   "id": "0ec21032",
   "metadata": {
    "papermill": {
     "duration": 0.030297,
     "end_time": "2024-05-06T05:44:23.513574",
     "exception": false,
     "start_time": "2024-05-06T05:44:23.483277",
     "status": "completed"
    },
    "tags": []
   },
   "source": [
    "## Descriptive Statistical Analysis\n"
   ]
  },
  {
   "cell_type": "markdown",
   "id": "e3d16302",
   "metadata": {
    "papermill": {
     "duration": 0.030366,
     "end_time": "2024-05-06T05:44:23.574373",
     "exception": false,
     "start_time": "2024-05-06T05:44:23.544007",
     "status": "completed"
    },
    "tags": []
   },
   "source": [
    "<p>Let's first take a look at the variables by utilizing a description method.</p>\n",
    "\n",
    "<p>The <b>describe</b> function automatically computes basic statistics for all continuous variables. Any NaN values are automatically skipped in these statistics.</p>\n",
    "\n",
    "This will show:\n",
    "<ul>\n",
    "    <li>the count of that variable</li>\n",
    "    <li>the mean</li>\n",
    "    <li>the standard deviation (std)</li> \n",
    "    <li>the minimum value</li>\n",
    "    <li>the IQR (Interquartile Range: 25%, 50% and 75%)</li>\n",
    "    <li>the maximum value</li>\n",
    "<ul>\n"
   ]
  },
  {
   "cell_type": "markdown",
   "id": "dfc846bb",
   "metadata": {
    "papermill": {
     "duration": 0.029693,
     "end_time": "2024-05-06T05:44:23.634020",
     "exception": false,
     "start_time": "2024-05-06T05:44:23.604327",
     "status": "completed"
    },
    "tags": []
   },
   "source": [
    " We can apply the method \"describe\" as follows:\n"
   ]
  },
  {
   "cell_type": "code",
   "execution_count": 23,
   "id": "04b664a3",
   "metadata": {
    "execution": {
     "iopub.execute_input": "2024-05-06T05:44:23.694936Z",
     "iopub.status.busy": "2024-05-06T05:44:23.694299Z",
     "iopub.status.idle": "2024-05-06T05:44:23.745393Z",
     "shell.execute_reply": "2024-05-06T05:44:23.744386Z"
    },
    "papermill": {
     "duration": 0.084162,
     "end_time": "2024-05-06T05:44:23.747716",
     "exception": false,
     "start_time": "2024-05-06T05:44:23.663554",
     "status": "completed"
    },
    "tags": []
   },
   "outputs": [
    {
     "data": {
      "text/html": [
       "<div>\n",
       "<style scoped>\n",
       "    .dataframe tbody tr th:only-of-type {\n",
       "        vertical-align: middle;\n",
       "    }\n",
       "\n",
       "    .dataframe tbody tr th {\n",
       "        vertical-align: top;\n",
       "    }\n",
       "\n",
       "    .dataframe thead th {\n",
       "        text-align: right;\n",
       "    }\n",
       "</style>\n",
       "<table border=\"1\" class=\"dataframe\">\n",
       "  <thead>\n",
       "    <tr style=\"text-align: right;\">\n",
       "      <th></th>\n",
       "      <th>symboling</th>\n",
       "      <th>normalized-losses</th>\n",
       "      <th>wheel-base</th>\n",
       "      <th>length</th>\n",
       "      <th>width</th>\n",
       "      <th>height</th>\n",
       "      <th>curb-weight</th>\n",
       "      <th>engine-size</th>\n",
       "      <th>bore</th>\n",
       "      <th>stroke</th>\n",
       "      <th>compression-ratio</th>\n",
       "      <th>horsepower</th>\n",
       "      <th>peak-rpm</th>\n",
       "      <th>city-mpg</th>\n",
       "      <th>highway-mpg</th>\n",
       "      <th>price</th>\n",
       "      <th>city-L/100km</th>\n",
       "      <th>diesel</th>\n",
       "      <th>gas</th>\n",
       "    </tr>\n",
       "  </thead>\n",
       "  <tbody>\n",
       "    <tr>\n",
       "      <th>count</th>\n",
       "      <td>201.000000</td>\n",
       "      <td>201.00000</td>\n",
       "      <td>201.000000</td>\n",
       "      <td>201.000000</td>\n",
       "      <td>201.000000</td>\n",
       "      <td>201.000000</td>\n",
       "      <td>201.000000</td>\n",
       "      <td>201.000000</td>\n",
       "      <td>201.000000</td>\n",
       "      <td>197.000000</td>\n",
       "      <td>201.000000</td>\n",
       "      <td>201.000000</td>\n",
       "      <td>201.000000</td>\n",
       "      <td>201.000000</td>\n",
       "      <td>201.000000</td>\n",
       "      <td>201.000000</td>\n",
       "      <td>201.000000</td>\n",
       "      <td>201.000000</td>\n",
       "      <td>201.000000</td>\n",
       "    </tr>\n",
       "    <tr>\n",
       "      <th>mean</th>\n",
       "      <td>0.840796</td>\n",
       "      <td>122.00000</td>\n",
       "      <td>98.797015</td>\n",
       "      <td>0.837102</td>\n",
       "      <td>0.915126</td>\n",
       "      <td>53.766667</td>\n",
       "      <td>2555.666667</td>\n",
       "      <td>126.875622</td>\n",
       "      <td>3.330692</td>\n",
       "      <td>3.256904</td>\n",
       "      <td>10.164279</td>\n",
       "      <td>103.405534</td>\n",
       "      <td>5117.665368</td>\n",
       "      <td>25.179104</td>\n",
       "      <td>30.686567</td>\n",
       "      <td>13207.129353</td>\n",
       "      <td>9.944145</td>\n",
       "      <td>0.099502</td>\n",
       "      <td>0.900498</td>\n",
       "    </tr>\n",
       "    <tr>\n",
       "      <th>std</th>\n",
       "      <td>1.254802</td>\n",
       "      <td>31.99625</td>\n",
       "      <td>6.066366</td>\n",
       "      <td>0.059213</td>\n",
       "      <td>0.029187</td>\n",
       "      <td>2.447822</td>\n",
       "      <td>517.296727</td>\n",
       "      <td>41.546834</td>\n",
       "      <td>0.268072</td>\n",
       "      <td>0.319256</td>\n",
       "      <td>4.004965</td>\n",
       "      <td>37.365700</td>\n",
       "      <td>478.113805</td>\n",
       "      <td>6.423220</td>\n",
       "      <td>6.815150</td>\n",
       "      <td>7947.066342</td>\n",
       "      <td>2.534599</td>\n",
       "      <td>0.300083</td>\n",
       "      <td>0.300083</td>\n",
       "    </tr>\n",
       "    <tr>\n",
       "      <th>min</th>\n",
       "      <td>-2.000000</td>\n",
       "      <td>65.00000</td>\n",
       "      <td>86.600000</td>\n",
       "      <td>0.678039</td>\n",
       "      <td>0.837500</td>\n",
       "      <td>47.800000</td>\n",
       "      <td>1488.000000</td>\n",
       "      <td>61.000000</td>\n",
       "      <td>2.540000</td>\n",
       "      <td>2.070000</td>\n",
       "      <td>7.000000</td>\n",
       "      <td>48.000000</td>\n",
       "      <td>4150.000000</td>\n",
       "      <td>13.000000</td>\n",
       "      <td>16.000000</td>\n",
       "      <td>5118.000000</td>\n",
       "      <td>4.795918</td>\n",
       "      <td>0.000000</td>\n",
       "      <td>0.000000</td>\n",
       "    </tr>\n",
       "    <tr>\n",
       "      <th>25%</th>\n",
       "      <td>0.000000</td>\n",
       "      <td>101.00000</td>\n",
       "      <td>94.500000</td>\n",
       "      <td>0.801538</td>\n",
       "      <td>0.890278</td>\n",
       "      <td>52.000000</td>\n",
       "      <td>2169.000000</td>\n",
       "      <td>98.000000</td>\n",
       "      <td>3.150000</td>\n",
       "      <td>3.110000</td>\n",
       "      <td>8.600000</td>\n",
       "      <td>70.000000</td>\n",
       "      <td>4800.000000</td>\n",
       "      <td>19.000000</td>\n",
       "      <td>25.000000</td>\n",
       "      <td>7775.000000</td>\n",
       "      <td>7.833333</td>\n",
       "      <td>0.000000</td>\n",
       "      <td>1.000000</td>\n",
       "    </tr>\n",
       "    <tr>\n",
       "      <th>50%</th>\n",
       "      <td>1.000000</td>\n",
       "      <td>122.00000</td>\n",
       "      <td>97.000000</td>\n",
       "      <td>0.832292</td>\n",
       "      <td>0.909722</td>\n",
       "      <td>54.100000</td>\n",
       "      <td>2414.000000</td>\n",
       "      <td>120.000000</td>\n",
       "      <td>3.310000</td>\n",
       "      <td>3.290000</td>\n",
       "      <td>9.000000</td>\n",
       "      <td>95.000000</td>\n",
       "      <td>5125.369458</td>\n",
       "      <td>24.000000</td>\n",
       "      <td>30.000000</td>\n",
       "      <td>10295.000000</td>\n",
       "      <td>9.791667</td>\n",
       "      <td>0.000000</td>\n",
       "      <td>1.000000</td>\n",
       "    </tr>\n",
       "    <tr>\n",
       "      <th>75%</th>\n",
       "      <td>2.000000</td>\n",
       "      <td>137.00000</td>\n",
       "      <td>102.400000</td>\n",
       "      <td>0.881788</td>\n",
       "      <td>0.925000</td>\n",
       "      <td>55.500000</td>\n",
       "      <td>2926.000000</td>\n",
       "      <td>141.000000</td>\n",
       "      <td>3.580000</td>\n",
       "      <td>3.410000</td>\n",
       "      <td>9.400000</td>\n",
       "      <td>116.000000</td>\n",
       "      <td>5500.000000</td>\n",
       "      <td>30.000000</td>\n",
       "      <td>34.000000</td>\n",
       "      <td>16500.000000</td>\n",
       "      <td>12.368421</td>\n",
       "      <td>0.000000</td>\n",
       "      <td>1.000000</td>\n",
       "    </tr>\n",
       "    <tr>\n",
       "      <th>max</th>\n",
       "      <td>3.000000</td>\n",
       "      <td>256.00000</td>\n",
       "      <td>120.900000</td>\n",
       "      <td>1.000000</td>\n",
       "      <td>1.000000</td>\n",
       "      <td>59.800000</td>\n",
       "      <td>4066.000000</td>\n",
       "      <td>326.000000</td>\n",
       "      <td>3.940000</td>\n",
       "      <td>4.170000</td>\n",
       "      <td>23.000000</td>\n",
       "      <td>262.000000</td>\n",
       "      <td>6600.000000</td>\n",
       "      <td>49.000000</td>\n",
       "      <td>54.000000</td>\n",
       "      <td>45400.000000</td>\n",
       "      <td>18.076923</td>\n",
       "      <td>1.000000</td>\n",
       "      <td>1.000000</td>\n",
       "    </tr>\n",
       "  </tbody>\n",
       "</table>\n",
       "</div>"
      ],
      "text/plain": [
       "        symboling  normalized-losses  wheel-base      length       width  \\\n",
       "count  201.000000          201.00000  201.000000  201.000000  201.000000   \n",
       "mean     0.840796          122.00000   98.797015    0.837102    0.915126   \n",
       "std      1.254802           31.99625    6.066366    0.059213    0.029187   \n",
       "min     -2.000000           65.00000   86.600000    0.678039    0.837500   \n",
       "25%      0.000000          101.00000   94.500000    0.801538    0.890278   \n",
       "50%      1.000000          122.00000   97.000000    0.832292    0.909722   \n",
       "75%      2.000000          137.00000  102.400000    0.881788    0.925000   \n",
       "max      3.000000          256.00000  120.900000    1.000000    1.000000   \n",
       "\n",
       "           height  curb-weight  engine-size        bore      stroke  \\\n",
       "count  201.000000   201.000000   201.000000  201.000000  197.000000   \n",
       "mean    53.766667  2555.666667   126.875622    3.330692    3.256904   \n",
       "std      2.447822   517.296727    41.546834    0.268072    0.319256   \n",
       "min     47.800000  1488.000000    61.000000    2.540000    2.070000   \n",
       "25%     52.000000  2169.000000    98.000000    3.150000    3.110000   \n",
       "50%     54.100000  2414.000000   120.000000    3.310000    3.290000   \n",
       "75%     55.500000  2926.000000   141.000000    3.580000    3.410000   \n",
       "max     59.800000  4066.000000   326.000000    3.940000    4.170000   \n",
       "\n",
       "       compression-ratio  horsepower     peak-rpm    city-mpg  highway-mpg  \\\n",
       "count         201.000000  201.000000   201.000000  201.000000   201.000000   \n",
       "mean           10.164279  103.405534  5117.665368   25.179104    30.686567   \n",
       "std             4.004965   37.365700   478.113805    6.423220     6.815150   \n",
       "min             7.000000   48.000000  4150.000000   13.000000    16.000000   \n",
       "25%             8.600000   70.000000  4800.000000   19.000000    25.000000   \n",
       "50%             9.000000   95.000000  5125.369458   24.000000    30.000000   \n",
       "75%             9.400000  116.000000  5500.000000   30.000000    34.000000   \n",
       "max            23.000000  262.000000  6600.000000   49.000000    54.000000   \n",
       "\n",
       "              price  city-L/100km      diesel         gas  \n",
       "count    201.000000    201.000000  201.000000  201.000000  \n",
       "mean   13207.129353      9.944145    0.099502    0.900498  \n",
       "std     7947.066342      2.534599    0.300083    0.300083  \n",
       "min     5118.000000      4.795918    0.000000    0.000000  \n",
       "25%     7775.000000      7.833333    0.000000    1.000000  \n",
       "50%    10295.000000      9.791667    0.000000    1.000000  \n",
       "75%    16500.000000     12.368421    0.000000    1.000000  \n",
       "max    45400.000000     18.076923    1.000000    1.000000  "
      ]
     },
     "execution_count": 23,
     "metadata": {},
     "output_type": "execute_result"
    }
   ],
   "source": [
    "df.describe()"
   ]
  },
  {
   "cell_type": "markdown",
   "id": "6c89fd98",
   "metadata": {
    "papermill": {
     "duration": 0.029873,
     "end_time": "2024-05-06T05:44:23.808235",
     "exception": false,
     "start_time": "2024-05-06T05:44:23.778362",
     "status": "completed"
    },
    "tags": []
   },
   "source": [
    " **The default setting of \"describe\" skips variables of type object.** We can apply the method \"describe\" on the variables of type 'object' as follows:\n"
   ]
  },
  {
   "cell_type": "code",
   "execution_count": 24,
   "id": "311cb0cc",
   "metadata": {
    "execution": {
     "iopub.execute_input": "2024-05-06T05:44:23.870214Z",
     "iopub.status.busy": "2024-05-06T05:44:23.869836Z",
     "iopub.status.idle": "2024-05-06T05:44:23.899148Z",
     "shell.execute_reply": "2024-05-06T05:44:23.898340Z"
    },
    "papermill": {
     "duration": 0.06266,
     "end_time": "2024-05-06T05:44:23.901315",
     "exception": false,
     "start_time": "2024-05-06T05:44:23.838655",
     "status": "completed"
    },
    "tags": []
   },
   "outputs": [
    {
     "data": {
      "text/html": [
       "<div>\n",
       "<style scoped>\n",
       "    .dataframe tbody tr th:only-of-type {\n",
       "        vertical-align: middle;\n",
       "    }\n",
       "\n",
       "    .dataframe tbody tr th {\n",
       "        vertical-align: top;\n",
       "    }\n",
       "\n",
       "    .dataframe thead th {\n",
       "        text-align: right;\n",
       "    }\n",
       "</style>\n",
       "<table border=\"1\" class=\"dataframe\">\n",
       "  <thead>\n",
       "    <tr style=\"text-align: right;\">\n",
       "      <th></th>\n",
       "      <th>make</th>\n",
       "      <th>aspiration</th>\n",
       "      <th>num-of-doors</th>\n",
       "      <th>body-style</th>\n",
       "      <th>drive-wheels</th>\n",
       "      <th>engine-location</th>\n",
       "      <th>engine-type</th>\n",
       "      <th>num-of-cylinders</th>\n",
       "      <th>fuel-system</th>\n",
       "      <th>horsepower-binned</th>\n",
       "    </tr>\n",
       "  </thead>\n",
       "  <tbody>\n",
       "    <tr>\n",
       "      <th>count</th>\n",
       "      <td>201</td>\n",
       "      <td>201</td>\n",
       "      <td>201</td>\n",
       "      <td>201</td>\n",
       "      <td>201</td>\n",
       "      <td>201</td>\n",
       "      <td>201</td>\n",
       "      <td>201</td>\n",
       "      <td>201</td>\n",
       "      <td>200</td>\n",
       "    </tr>\n",
       "    <tr>\n",
       "      <th>unique</th>\n",
       "      <td>22</td>\n",
       "      <td>2</td>\n",
       "      <td>2</td>\n",
       "      <td>5</td>\n",
       "      <td>3</td>\n",
       "      <td>2</td>\n",
       "      <td>6</td>\n",
       "      <td>7</td>\n",
       "      <td>8</td>\n",
       "      <td>3</td>\n",
       "    </tr>\n",
       "    <tr>\n",
       "      <th>top</th>\n",
       "      <td>toyota</td>\n",
       "      <td>std</td>\n",
       "      <td>four</td>\n",
       "      <td>sedan</td>\n",
       "      <td>fwd</td>\n",
       "      <td>front</td>\n",
       "      <td>ohc</td>\n",
       "      <td>four</td>\n",
       "      <td>mpfi</td>\n",
       "      <td>Low</td>\n",
       "    </tr>\n",
       "    <tr>\n",
       "      <th>freq</th>\n",
       "      <td>32</td>\n",
       "      <td>165</td>\n",
       "      <td>115</td>\n",
       "      <td>94</td>\n",
       "      <td>118</td>\n",
       "      <td>198</td>\n",
       "      <td>145</td>\n",
       "      <td>157</td>\n",
       "      <td>92</td>\n",
       "      <td>115</td>\n",
       "    </tr>\n",
       "  </tbody>\n",
       "</table>\n",
       "</div>"
      ],
      "text/plain": [
       "          make aspiration num-of-doors body-style drive-wheels  \\\n",
       "count      201        201          201        201          201   \n",
       "unique      22          2            2          5            3   \n",
       "top     toyota        std         four      sedan          fwd   \n",
       "freq        32        165          115         94          118   \n",
       "\n",
       "       engine-location engine-type num-of-cylinders fuel-system  \\\n",
       "count              201         201              201         201   \n",
       "unique               2           6                7           8   \n",
       "top              front         ohc             four        mpfi   \n",
       "freq               198         145              157          92   \n",
       "\n",
       "       horsepower-binned  \n",
       "count                200  \n",
       "unique                 3  \n",
       "top                  Low  \n",
       "freq                 115  "
      ]
     },
     "execution_count": 24,
     "metadata": {},
     "output_type": "execute_result"
    }
   ],
   "source": [
    "df.describe(include=['object'])"
   ]
  },
  {
   "cell_type": "markdown",
   "id": "45032528",
   "metadata": {
    "papermill": {
     "duration": 0.029892,
     "end_time": "2024-05-06T05:44:23.961597",
     "exception": false,
     "start_time": "2024-05-06T05:44:23.931705",
     "status": "completed"
    },
    "tags": []
   },
   "source": [
    "<h3>Value Counts</h3>\n"
   ]
  },
  {
   "cell_type": "markdown",
   "id": "4e2008ab",
   "metadata": {
    "papermill": {
     "duration": 0.030032,
     "end_time": "2024-05-06T05:44:24.022383",
     "exception": false,
     "start_time": "2024-05-06T05:44:23.992351",
     "status": "completed"
    },
    "tags": []
   },
   "source": [
    "<p>Value counts is a good way of understanding how many units of each characteristic/variable we have. We can apply the \"value_counts\" method on the column \"drive-wheels\". **Don’t forget the method \"value_counts\" only works on pandas series, not pandas dataframes**. As a result, we only include one bracket <code>df['drive-wheels']</code>, not two brackets <code>df[['drive-wheels']]</code>.</p>\n"
   ]
  },
  {
   "cell_type": "code",
   "execution_count": 25,
   "id": "9579e592",
   "metadata": {
    "execution": {
     "iopub.execute_input": "2024-05-06T05:44:24.085145Z",
     "iopub.status.busy": "2024-05-06T05:44:24.084204Z",
     "iopub.status.idle": "2024-05-06T05:44:24.091477Z",
     "shell.execute_reply": "2024-05-06T05:44:24.090779Z"
    },
    "papermill": {
     "duration": 0.040632,
     "end_time": "2024-05-06T05:44:24.093389",
     "exception": false,
     "start_time": "2024-05-06T05:44:24.052757",
     "status": "completed"
    },
    "tags": []
   },
   "outputs": [
    {
     "data": {
      "text/plain": [
       "drive-wheels\n",
       "fwd    118\n",
       "rwd     75\n",
       "4wd      8\n",
       "Name: count, dtype: int64"
      ]
     },
     "execution_count": 25,
     "metadata": {},
     "output_type": "execute_result"
    }
   ],
   "source": [
    "df['drive-wheels'].value_counts()"
   ]
  },
  {
   "cell_type": "markdown",
   "id": "26ed9f95",
   "metadata": {
    "papermill": {
     "duration": 0.030032,
     "end_time": "2024-05-06T05:44:24.154262",
     "exception": false,
     "start_time": "2024-05-06T05:44:24.124230",
     "status": "completed"
    },
    "tags": []
   },
   "source": [
    "We can convert the series to a dataframe as follows:\n"
   ]
  },
  {
   "cell_type": "code",
   "execution_count": 26,
   "id": "c87e5a33",
   "metadata": {
    "execution": {
     "iopub.execute_input": "2024-05-06T05:44:24.218643Z",
     "iopub.status.busy": "2024-05-06T05:44:24.218031Z",
     "iopub.status.idle": "2024-05-06T05:44:24.227589Z",
     "shell.execute_reply": "2024-05-06T05:44:24.226857Z"
    },
    "papermill": {
     "duration": 0.044682,
     "end_time": "2024-05-06T05:44:24.229676",
     "exception": false,
     "start_time": "2024-05-06T05:44:24.184994",
     "status": "completed"
    },
    "tags": []
   },
   "outputs": [
    {
     "data": {
      "text/html": [
       "<div>\n",
       "<style scoped>\n",
       "    .dataframe tbody tr th:only-of-type {\n",
       "        vertical-align: middle;\n",
       "    }\n",
       "\n",
       "    .dataframe tbody tr th {\n",
       "        vertical-align: top;\n",
       "    }\n",
       "\n",
       "    .dataframe thead th {\n",
       "        text-align: right;\n",
       "    }\n",
       "</style>\n",
       "<table border=\"1\" class=\"dataframe\">\n",
       "  <thead>\n",
       "    <tr style=\"text-align: right;\">\n",
       "      <th></th>\n",
       "      <th>count</th>\n",
       "    </tr>\n",
       "    <tr>\n",
       "      <th>drive-wheels</th>\n",
       "      <th></th>\n",
       "    </tr>\n",
       "  </thead>\n",
       "  <tbody>\n",
       "    <tr>\n",
       "      <th>fwd</th>\n",
       "      <td>118</td>\n",
       "    </tr>\n",
       "    <tr>\n",
       "      <th>rwd</th>\n",
       "      <td>75</td>\n",
       "    </tr>\n",
       "    <tr>\n",
       "      <th>4wd</th>\n",
       "      <td>8</td>\n",
       "    </tr>\n",
       "  </tbody>\n",
       "</table>\n",
       "</div>"
      ],
      "text/plain": [
       "              count\n",
       "drive-wheels       \n",
       "fwd             118\n",
       "rwd              75\n",
       "4wd               8"
      ]
     },
     "execution_count": 26,
     "metadata": {},
     "output_type": "execute_result"
    }
   ],
   "source": [
    "df['drive-wheels'].value_counts().to_frame()"
   ]
  },
  {
   "cell_type": "markdown",
   "id": "105e39bc",
   "metadata": {
    "papermill": {
     "duration": 0.032261,
     "end_time": "2024-05-06T05:44:24.294378",
     "exception": false,
     "start_time": "2024-05-06T05:44:24.262117",
     "status": "completed"
    },
    "tags": []
   },
   "source": [
    "Let's repeat the above steps but save the results to the dataframe \"drive_wheels_counts\" and rename the column  'drive-wheels' to 'value_counts'.\n"
   ]
  },
  {
   "cell_type": "code",
   "execution_count": 27,
   "id": "5a280db2",
   "metadata": {
    "execution": {
     "iopub.execute_input": "2024-05-06T05:44:24.358755Z",
     "iopub.status.busy": "2024-05-06T05:44:24.358094Z",
     "iopub.status.idle": "2024-05-06T05:44:24.367838Z",
     "shell.execute_reply": "2024-05-06T05:44:24.366994Z"
    },
    "papermill": {
     "duration": 0.044457,
     "end_time": "2024-05-06T05:44:24.370042",
     "exception": false,
     "start_time": "2024-05-06T05:44:24.325585",
     "status": "completed"
    },
    "tags": []
   },
   "outputs": [
    {
     "data": {
      "text/html": [
       "<div>\n",
       "<style scoped>\n",
       "    .dataframe tbody tr th:only-of-type {\n",
       "        vertical-align: middle;\n",
       "    }\n",
       "\n",
       "    .dataframe tbody tr th {\n",
       "        vertical-align: top;\n",
       "    }\n",
       "\n",
       "    .dataframe thead th {\n",
       "        text-align: right;\n",
       "    }\n",
       "</style>\n",
       "<table border=\"1\" class=\"dataframe\">\n",
       "  <thead>\n",
       "    <tr style=\"text-align: right;\">\n",
       "      <th></th>\n",
       "      <th>count</th>\n",
       "    </tr>\n",
       "    <tr>\n",
       "      <th>drive-wheels</th>\n",
       "      <th></th>\n",
       "    </tr>\n",
       "  </thead>\n",
       "  <tbody>\n",
       "    <tr>\n",
       "      <th>fwd</th>\n",
       "      <td>118</td>\n",
       "    </tr>\n",
       "    <tr>\n",
       "      <th>rwd</th>\n",
       "      <td>75</td>\n",
       "    </tr>\n",
       "    <tr>\n",
       "      <th>4wd</th>\n",
       "      <td>8</td>\n",
       "    </tr>\n",
       "  </tbody>\n",
       "</table>\n",
       "</div>"
      ],
      "text/plain": [
       "              count\n",
       "drive-wheels       \n",
       "fwd             118\n",
       "rwd              75\n",
       "4wd               8"
      ]
     },
     "execution_count": 27,
     "metadata": {},
     "output_type": "execute_result"
    }
   ],
   "source": [
    "drive_wheels_counts = df['drive-wheels'].value_counts().to_frame()\n",
    "drive_wheels_counts.rename(columns={'drive-wheels': 'value_counts'}, inplace=True)\n",
    "drive_wheels_counts"
   ]
  },
  {
   "cell_type": "markdown",
   "id": "a9d5ed03",
   "metadata": {
    "papermill": {
     "duration": 0.031167,
     "end_time": "2024-05-06T05:44:24.432503",
     "exception": false,
     "start_time": "2024-05-06T05:44:24.401336",
     "status": "completed"
    },
    "tags": []
   },
   "source": [
    " Now let's rename the index to 'drive-wheels':\n"
   ]
  },
  {
   "cell_type": "code",
   "execution_count": 28,
   "id": "00f811f0",
   "metadata": {
    "execution": {
     "iopub.execute_input": "2024-05-06T05:44:24.496506Z",
     "iopub.status.busy": "2024-05-06T05:44:24.495805Z",
     "iopub.status.idle": "2024-05-06T05:44:24.503760Z",
     "shell.execute_reply": "2024-05-06T05:44:24.502978Z"
    },
    "papermill": {
     "duration": 0.042285,
     "end_time": "2024-05-06T05:44:24.505785",
     "exception": false,
     "start_time": "2024-05-06T05:44:24.463500",
     "status": "completed"
    },
    "tags": []
   },
   "outputs": [
    {
     "data": {
      "text/html": [
       "<div>\n",
       "<style scoped>\n",
       "    .dataframe tbody tr th:only-of-type {\n",
       "        vertical-align: middle;\n",
       "    }\n",
       "\n",
       "    .dataframe tbody tr th {\n",
       "        vertical-align: top;\n",
       "    }\n",
       "\n",
       "    .dataframe thead th {\n",
       "        text-align: right;\n",
       "    }\n",
       "</style>\n",
       "<table border=\"1\" class=\"dataframe\">\n",
       "  <thead>\n",
       "    <tr style=\"text-align: right;\">\n",
       "      <th></th>\n",
       "      <th>count</th>\n",
       "    </tr>\n",
       "    <tr>\n",
       "      <th>drive-wheels</th>\n",
       "      <th></th>\n",
       "    </tr>\n",
       "  </thead>\n",
       "  <tbody>\n",
       "    <tr>\n",
       "      <th>fwd</th>\n",
       "      <td>118</td>\n",
       "    </tr>\n",
       "    <tr>\n",
       "      <th>rwd</th>\n",
       "      <td>75</td>\n",
       "    </tr>\n",
       "    <tr>\n",
       "      <th>4wd</th>\n",
       "      <td>8</td>\n",
       "    </tr>\n",
       "  </tbody>\n",
       "</table>\n",
       "</div>"
      ],
      "text/plain": [
       "              count\n",
       "drive-wheels       \n",
       "fwd             118\n",
       "rwd              75\n",
       "4wd               8"
      ]
     },
     "execution_count": 28,
     "metadata": {},
     "output_type": "execute_result"
    }
   ],
   "source": [
    "drive_wheels_counts.index.name = 'drive-wheels'\n",
    "drive_wheels_counts"
   ]
  },
  {
   "cell_type": "markdown",
   "id": "8aea6595",
   "metadata": {
    "papermill": {
     "duration": 0.03067,
     "end_time": "2024-05-06T05:44:24.567747",
     "exception": false,
     "start_time": "2024-05-06T05:44:24.537077",
     "status": "completed"
    },
    "tags": []
   },
   "source": [
    "We can repeat the above process for the variable 'engine-location'.\n"
   ]
  },
  {
   "cell_type": "code",
   "execution_count": 29,
   "id": "76b21a6f",
   "metadata": {
    "execution": {
     "iopub.execute_input": "2024-05-06T05:44:24.631072Z",
     "iopub.status.busy": "2024-05-06T05:44:24.630492Z",
     "iopub.status.idle": "2024-05-06T05:44:24.641007Z",
     "shell.execute_reply": "2024-05-06T05:44:24.639975Z"
    },
    "papermill": {
     "duration": 0.044534,
     "end_time": "2024-05-06T05:44:24.643126",
     "exception": false,
     "start_time": "2024-05-06T05:44:24.598592",
     "status": "completed"
    },
    "tags": []
   },
   "outputs": [
    {
     "data": {
      "text/html": [
       "<div>\n",
       "<style scoped>\n",
       "    .dataframe tbody tr th:only-of-type {\n",
       "        vertical-align: middle;\n",
       "    }\n",
       "\n",
       "    .dataframe tbody tr th {\n",
       "        vertical-align: top;\n",
       "    }\n",
       "\n",
       "    .dataframe thead th {\n",
       "        text-align: right;\n",
       "    }\n",
       "</style>\n",
       "<table border=\"1\" class=\"dataframe\">\n",
       "  <thead>\n",
       "    <tr style=\"text-align: right;\">\n",
       "      <th></th>\n",
       "      <th>count</th>\n",
       "    </tr>\n",
       "    <tr>\n",
       "      <th>engine-location</th>\n",
       "      <th></th>\n",
       "    </tr>\n",
       "  </thead>\n",
       "  <tbody>\n",
       "    <tr>\n",
       "      <th>front</th>\n",
       "      <td>198</td>\n",
       "    </tr>\n",
       "    <tr>\n",
       "      <th>rear</th>\n",
       "      <td>3</td>\n",
       "    </tr>\n",
       "  </tbody>\n",
       "</table>\n",
       "</div>"
      ],
      "text/plain": [
       "                 count\n",
       "engine-location       \n",
       "front              198\n",
       "rear                 3"
      ]
     },
     "execution_count": 29,
     "metadata": {},
     "output_type": "execute_result"
    }
   ],
   "source": [
    "# engine-location as variable\n",
    "engine_loc_counts = df['engine-location'].value_counts().to_frame()\n",
    "engine_loc_counts.rename(columns={'engine-location': 'value_counts'}, inplace=True)\n",
    "engine_loc_counts.index.name = 'engine-location'\n",
    "engine_loc_counts.head(10)"
   ]
  },
  {
   "cell_type": "markdown",
   "id": "85665987",
   "metadata": {
    "papermill": {
     "duration": 0.030449,
     "end_time": "2024-05-06T05:44:24.704953",
     "exception": false,
     "start_time": "2024-05-06T05:44:24.674504",
     "status": "completed"
    },
    "tags": []
   },
   "source": [
    "<p>After examining the value counts of the engine location, we see that engine location would not be a good predictor variable for the price. This is because we only have three cars with a rear engine and 198 with an engine in the front, so this result is skewed. Thus, we are not able to draw any conclusions about the engine location.</p>\n"
   ]
  },
  {
   "cell_type": "markdown",
   "id": "0cb92bab",
   "metadata": {
    "papermill": {
     "duration": 0.031199,
     "end_time": "2024-05-06T05:44:24.767161",
     "exception": false,
     "start_time": "2024-05-06T05:44:24.735962",
     "status": "completed"
    },
    "tags": []
   },
   "source": [
    "## Basics of Grouping\n"
   ]
  },
  {
   "cell_type": "markdown",
   "id": "ca8d92e2",
   "metadata": {
    "papermill": {
     "duration": 0.031852,
     "end_time": "2024-05-06T05:44:24.831474",
     "exception": false,
     "start_time": "2024-05-06T05:44:24.799622",
     "status": "completed"
    },
    "tags": []
   },
   "source": [
    "<p>The \"groupby\" method groups data by different categories. The data is grouped based on one or several variables, and analysis is performed on the individual groups.</p>\n",
    "\n",
    "<p>For example, let's group by the variable \"drive-wheels\". We see that there are 3 different categories of drive wheels.</p>\n"
   ]
  },
  {
   "cell_type": "code",
   "execution_count": 30,
   "id": "5584acc2",
   "metadata": {
    "execution": {
     "iopub.execute_input": "2024-05-06T05:44:24.897750Z",
     "iopub.status.busy": "2024-05-06T05:44:24.896684Z",
     "iopub.status.idle": "2024-05-06T05:44:24.903074Z",
     "shell.execute_reply": "2024-05-06T05:44:24.902161Z"
    },
    "papermill": {
     "duration": 0.042351,
     "end_time": "2024-05-06T05:44:24.905135",
     "exception": false,
     "start_time": "2024-05-06T05:44:24.862784",
     "status": "completed"
    },
    "tags": []
   },
   "outputs": [
    {
     "data": {
      "text/plain": [
       "array(['rwd', 'fwd', '4wd'], dtype=object)"
      ]
     },
     "execution_count": 30,
     "metadata": {},
     "output_type": "execute_result"
    }
   ],
   "source": [
    "df['drive-wheels'].unique()"
   ]
  },
  {
   "cell_type": "markdown",
   "id": "c716ff82",
   "metadata": {
    "papermill": {
     "duration": 0.031028,
     "end_time": "2024-05-06T05:44:24.968106",
     "exception": false,
     "start_time": "2024-05-06T05:44:24.937078",
     "status": "completed"
    },
    "tags": []
   },
   "source": [
    "<p>If we want to know, on average, which type of drive wheel is most valuable, we can group \"drive-wheels\" and then average them.</p>\n",
    "\n",
    "<p>We can select the columns 'drive-wheels', 'body-style' and 'price', then assign it to the variable \"df_group_one\".</p>\n"
   ]
  },
  {
   "cell_type": "code",
   "execution_count": 31,
   "id": "7a66542b",
   "metadata": {
    "execution": {
     "iopub.execute_input": "2024-05-06T05:44:25.031965Z",
     "iopub.status.busy": "2024-05-06T05:44:25.031222Z",
     "iopub.status.idle": "2024-05-06T05:44:25.036376Z",
     "shell.execute_reply": "2024-05-06T05:44:25.035687Z"
    },
    "papermill": {
     "duration": 0.039158,
     "end_time": "2024-05-06T05:44:25.038249",
     "exception": false,
     "start_time": "2024-05-06T05:44:24.999091",
     "status": "completed"
    },
    "tags": []
   },
   "outputs": [],
   "source": [
    "df_group_one = df[['drive-wheels','body-style','price']]"
   ]
  },
  {
   "cell_type": "markdown",
   "id": "445656e2",
   "metadata": {
    "papermill": {
     "duration": 0.030681,
     "end_time": "2024-05-06T05:44:25.100046",
     "exception": false,
     "start_time": "2024-05-06T05:44:25.069365",
     "status": "completed"
    },
    "tags": []
   },
   "source": [
    "We can then calculate the average price for each of the different categories of data.\n"
   ]
  },
  {
   "cell_type": "code",
   "execution_count": 32,
   "id": "ea962f01",
   "metadata": {
    "execution": {
     "iopub.execute_input": "2024-05-06T05:44:25.164086Z",
     "iopub.status.busy": "2024-05-06T05:44:25.163683Z",
     "iopub.status.idle": "2024-05-06T05:44:25.177032Z",
     "shell.execute_reply": "2024-05-06T05:44:25.176324Z"
    },
    "papermill": {
     "duration": 0.048194,
     "end_time": "2024-05-06T05:44:25.179369",
     "exception": false,
     "start_time": "2024-05-06T05:44:25.131175",
     "status": "completed"
    },
    "tags": []
   },
   "outputs": [
    {
     "data": {
      "text/html": [
       "<div>\n",
       "<style scoped>\n",
       "    .dataframe tbody tr th:only-of-type {\n",
       "        vertical-align: middle;\n",
       "    }\n",
       "\n",
       "    .dataframe tbody tr th {\n",
       "        vertical-align: top;\n",
       "    }\n",
       "\n",
       "    .dataframe thead th {\n",
       "        text-align: right;\n",
       "    }\n",
       "</style>\n",
       "<table border=\"1\" class=\"dataframe\">\n",
       "  <thead>\n",
       "    <tr style=\"text-align: right;\">\n",
       "      <th></th>\n",
       "      <th>drive-wheels</th>\n",
       "      <th>price</th>\n",
       "    </tr>\n",
       "  </thead>\n",
       "  <tbody>\n",
       "    <tr>\n",
       "      <th>0</th>\n",
       "      <td>4wd</td>\n",
       "      <td>10241.000000</td>\n",
       "    </tr>\n",
       "    <tr>\n",
       "      <th>1</th>\n",
       "      <td>fwd</td>\n",
       "      <td>9244.779661</td>\n",
       "    </tr>\n",
       "    <tr>\n",
       "      <th>2</th>\n",
       "      <td>rwd</td>\n",
       "      <td>19757.613333</td>\n",
       "    </tr>\n",
       "  </tbody>\n",
       "</table>\n",
       "</div>"
      ],
      "text/plain": [
       "  drive-wheels         price\n",
       "0          4wd  10241.000000\n",
       "1          fwd   9244.779661\n",
       "2          rwd  19757.613333"
      ]
     },
     "execution_count": 32,
     "metadata": {},
     "output_type": "execute_result"
    }
   ],
   "source": [
    "# grouping results\n",
    "df_group_one_mean = df_group_one.groupby(['drive-wheels'],as_index=False)\n",
    "df_group_one_mean['price'].mean()"
   ]
  },
  {
   "cell_type": "markdown",
   "id": "1a2c6240",
   "metadata": {
    "papermill": {
     "duration": 0.031309,
     "end_time": "2024-05-06T05:44:25.242256",
     "exception": false,
     "start_time": "2024-05-06T05:44:25.210947",
     "status": "completed"
    },
    "tags": []
   },
   "source": [
    "<p>From our data, it seems rear-wheel drive vehicles are, on average, the most expensive, while 4-wheel and front-wheel are approximately the same in price.</p>\n",
    "\n",
    "<p>You can also group by multiple variables. For example, let's group by both 'drive-wheels' and 'body-style'. This groups the dataframe by the unique combination of 'drive-wheels' and 'body-style'. We can store the results in the variable 'grouped_test1'.</p>\n"
   ]
  },
  {
   "cell_type": "code",
   "execution_count": 33,
   "id": "ace1bbca",
   "metadata": {
    "execution": {
     "iopub.execute_input": "2024-05-06T05:44:25.308376Z",
     "iopub.status.busy": "2024-05-06T05:44:25.307656Z",
     "iopub.status.idle": "2024-05-06T05:44:25.322160Z",
     "shell.execute_reply": "2024-05-06T05:44:25.321371Z"
    },
    "papermill": {
     "duration": 0.049895,
     "end_time": "2024-05-06T05:44:25.324463",
     "exception": false,
     "start_time": "2024-05-06T05:44:25.274568",
     "status": "completed"
    },
    "tags": []
   },
   "outputs": [
    {
     "data": {
      "text/html": [
       "<div>\n",
       "<style scoped>\n",
       "    .dataframe tbody tr th:only-of-type {\n",
       "        vertical-align: middle;\n",
       "    }\n",
       "\n",
       "    .dataframe tbody tr th {\n",
       "        vertical-align: top;\n",
       "    }\n",
       "\n",
       "    .dataframe thead th {\n",
       "        text-align: right;\n",
       "    }\n",
       "</style>\n",
       "<table border=\"1\" class=\"dataframe\">\n",
       "  <thead>\n",
       "    <tr style=\"text-align: right;\">\n",
       "      <th></th>\n",
       "      <th>drive-wheels</th>\n",
       "      <th>body-style</th>\n",
       "      <th>price</th>\n",
       "    </tr>\n",
       "  </thead>\n",
       "  <tbody>\n",
       "    <tr>\n",
       "      <th>0</th>\n",
       "      <td>4wd</td>\n",
       "      <td>hatchback</td>\n",
       "      <td>7603.000000</td>\n",
       "    </tr>\n",
       "    <tr>\n",
       "      <th>1</th>\n",
       "      <td>4wd</td>\n",
       "      <td>sedan</td>\n",
       "      <td>12647.333333</td>\n",
       "    </tr>\n",
       "    <tr>\n",
       "      <th>2</th>\n",
       "      <td>4wd</td>\n",
       "      <td>wagon</td>\n",
       "      <td>9095.750000</td>\n",
       "    </tr>\n",
       "    <tr>\n",
       "      <th>3</th>\n",
       "      <td>fwd</td>\n",
       "      <td>convertible</td>\n",
       "      <td>11595.000000</td>\n",
       "    </tr>\n",
       "    <tr>\n",
       "      <th>4</th>\n",
       "      <td>fwd</td>\n",
       "      <td>hardtop</td>\n",
       "      <td>8249.000000</td>\n",
       "    </tr>\n",
       "    <tr>\n",
       "      <th>5</th>\n",
       "      <td>fwd</td>\n",
       "      <td>hatchback</td>\n",
       "      <td>8396.387755</td>\n",
       "    </tr>\n",
       "    <tr>\n",
       "      <th>6</th>\n",
       "      <td>fwd</td>\n",
       "      <td>sedan</td>\n",
       "      <td>9811.800000</td>\n",
       "    </tr>\n",
       "    <tr>\n",
       "      <th>7</th>\n",
       "      <td>fwd</td>\n",
       "      <td>wagon</td>\n",
       "      <td>9997.333333</td>\n",
       "    </tr>\n",
       "    <tr>\n",
       "      <th>8</th>\n",
       "      <td>rwd</td>\n",
       "      <td>convertible</td>\n",
       "      <td>23949.600000</td>\n",
       "    </tr>\n",
       "    <tr>\n",
       "      <th>9</th>\n",
       "      <td>rwd</td>\n",
       "      <td>hardtop</td>\n",
       "      <td>24202.714286</td>\n",
       "    </tr>\n",
       "    <tr>\n",
       "      <th>10</th>\n",
       "      <td>rwd</td>\n",
       "      <td>hatchback</td>\n",
       "      <td>14337.777778</td>\n",
       "    </tr>\n",
       "    <tr>\n",
       "      <th>11</th>\n",
       "      <td>rwd</td>\n",
       "      <td>sedan</td>\n",
       "      <td>21711.833333</td>\n",
       "    </tr>\n",
       "    <tr>\n",
       "      <th>12</th>\n",
       "      <td>rwd</td>\n",
       "      <td>wagon</td>\n",
       "      <td>16994.222222</td>\n",
       "    </tr>\n",
       "  </tbody>\n",
       "</table>\n",
       "</div>"
      ],
      "text/plain": [
       "   drive-wheels   body-style         price\n",
       "0           4wd    hatchback   7603.000000\n",
       "1           4wd        sedan  12647.333333\n",
       "2           4wd        wagon   9095.750000\n",
       "3           fwd  convertible  11595.000000\n",
       "4           fwd      hardtop   8249.000000\n",
       "5           fwd    hatchback   8396.387755\n",
       "6           fwd        sedan   9811.800000\n",
       "7           fwd        wagon   9997.333333\n",
       "8           rwd  convertible  23949.600000\n",
       "9           rwd      hardtop  24202.714286\n",
       "10          rwd    hatchback  14337.777778\n",
       "11          rwd        sedan  21711.833333\n",
       "12          rwd        wagon  16994.222222"
      ]
     },
     "execution_count": 33,
     "metadata": {},
     "output_type": "execute_result"
    }
   ],
   "source": [
    "# grouping results\n",
    "df_gptest = df[['drive-wheels','body-style','price']]\n",
    "grouped_test1 = df_gptest.groupby(['drive-wheels','body-style'],as_index=False).mean()\n",
    "grouped_test1"
   ]
  },
  {
   "cell_type": "markdown",
   "id": "83fa05e0",
   "metadata": {
    "papermill": {
     "duration": 0.03133,
     "end_time": "2024-05-06T05:44:25.387397",
     "exception": false,
     "start_time": "2024-05-06T05:44:25.356067",
     "status": "completed"
    },
    "tags": []
   },
   "source": [
    "<p>This grouped data is much easier to visualize when it is made into a pivot table. A pivot table is like an Excel spreadsheet, with one variable along the column and another along the row. We can convert the dataframe to a pivot table using the method \"pivot\" to create a pivot table from the groups.</p>\n",
    "\n",
    "<p>In this case, we will leave the drive-wheels variable as the rows of the table, and pivot body-style to become the columns of the table:</p>\n"
   ]
  },
  {
   "cell_type": "code",
   "execution_count": 34,
   "id": "ed619f93",
   "metadata": {
    "execution": {
     "iopub.execute_input": "2024-05-06T05:44:25.452969Z",
     "iopub.status.busy": "2024-05-06T05:44:25.452314Z",
     "iopub.status.idle": "2024-05-06T05:44:25.471963Z",
     "shell.execute_reply": "2024-05-06T05:44:25.470905Z"
    },
    "papermill": {
     "duration": 0.054921,
     "end_time": "2024-05-06T05:44:25.474212",
     "exception": false,
     "start_time": "2024-05-06T05:44:25.419291",
     "status": "completed"
    },
    "tags": []
   },
   "outputs": [
    {
     "data": {
      "text/html": [
       "<div>\n",
       "<style scoped>\n",
       "    .dataframe tbody tr th:only-of-type {\n",
       "        vertical-align: middle;\n",
       "    }\n",
       "\n",
       "    .dataframe tbody tr th {\n",
       "        vertical-align: top;\n",
       "    }\n",
       "\n",
       "    .dataframe thead tr th {\n",
       "        text-align: left;\n",
       "    }\n",
       "\n",
       "    .dataframe thead tr:last-of-type th {\n",
       "        text-align: right;\n",
       "    }\n",
       "</style>\n",
       "<table border=\"1\" class=\"dataframe\">\n",
       "  <thead>\n",
       "    <tr>\n",
       "      <th></th>\n",
       "      <th colspan=\"5\" halign=\"left\">price</th>\n",
       "    </tr>\n",
       "    <tr>\n",
       "      <th>body-style</th>\n",
       "      <th>convertible</th>\n",
       "      <th>hardtop</th>\n",
       "      <th>hatchback</th>\n",
       "      <th>sedan</th>\n",
       "      <th>wagon</th>\n",
       "    </tr>\n",
       "    <tr>\n",
       "      <th>drive-wheels</th>\n",
       "      <th></th>\n",
       "      <th></th>\n",
       "      <th></th>\n",
       "      <th></th>\n",
       "      <th></th>\n",
       "    </tr>\n",
       "  </thead>\n",
       "  <tbody>\n",
       "    <tr>\n",
       "      <th>4wd</th>\n",
       "      <td>NaN</td>\n",
       "      <td>NaN</td>\n",
       "      <td>7603.000000</td>\n",
       "      <td>12647.333333</td>\n",
       "      <td>9095.750000</td>\n",
       "    </tr>\n",
       "    <tr>\n",
       "      <th>fwd</th>\n",
       "      <td>11595.0</td>\n",
       "      <td>8249.000000</td>\n",
       "      <td>8396.387755</td>\n",
       "      <td>9811.800000</td>\n",
       "      <td>9997.333333</td>\n",
       "    </tr>\n",
       "    <tr>\n",
       "      <th>rwd</th>\n",
       "      <td>23949.6</td>\n",
       "      <td>24202.714286</td>\n",
       "      <td>14337.777778</td>\n",
       "      <td>21711.833333</td>\n",
       "      <td>16994.222222</td>\n",
       "    </tr>\n",
       "  </tbody>\n",
       "</table>\n",
       "</div>"
      ],
      "text/plain": [
       "                   price                                            \\\n",
       "body-style   convertible       hardtop     hatchback         sedan   \n",
       "drive-wheels                                                         \n",
       "4wd                  NaN           NaN   7603.000000  12647.333333   \n",
       "fwd              11595.0   8249.000000   8396.387755   9811.800000   \n",
       "rwd              23949.6  24202.714286  14337.777778  21711.833333   \n",
       "\n",
       "                            \n",
       "body-style           wagon  \n",
       "drive-wheels                \n",
       "4wd            9095.750000  \n",
       "fwd            9997.333333  \n",
       "rwd           16994.222222  "
      ]
     },
     "execution_count": 34,
     "metadata": {},
     "output_type": "execute_result"
    }
   ],
   "source": [
    "grouped_pivot = grouped_test1.pivot(index='drive-wheels',columns='body-style')\n",
    "grouped_pivot"
   ]
  },
  {
   "cell_type": "markdown",
   "id": "580a9467",
   "metadata": {
    "papermill": {
     "duration": 0.031855,
     "end_time": "2024-05-06T05:44:25.539292",
     "exception": false,
     "start_time": "2024-05-06T05:44:25.507437",
     "status": "completed"
    },
    "tags": []
   },
   "source": [
    "<p>Often, we won't have data for some of the pivot cells. We can fill these missing cells with the value 0, but any other value could potentially be used as well. It should be mentioned that missing data is quite a complex subject and is an entire course on its own.</p>\n"
   ]
  },
  {
   "cell_type": "code",
   "execution_count": 35,
   "id": "c64f44dd",
   "metadata": {
    "execution": {
     "iopub.execute_input": "2024-05-06T05:44:25.604811Z",
     "iopub.status.busy": "2024-05-06T05:44:25.603990Z",
     "iopub.status.idle": "2024-05-06T05:44:25.618166Z",
     "shell.execute_reply": "2024-05-06T05:44:25.617104Z"
    },
    "papermill": {
     "duration": 0.049409,
     "end_time": "2024-05-06T05:44:25.620353",
     "exception": false,
     "start_time": "2024-05-06T05:44:25.570944",
     "status": "completed"
    },
    "tags": []
   },
   "outputs": [
    {
     "data": {
      "text/html": [
       "<div>\n",
       "<style scoped>\n",
       "    .dataframe tbody tr th:only-of-type {\n",
       "        vertical-align: middle;\n",
       "    }\n",
       "\n",
       "    .dataframe tbody tr th {\n",
       "        vertical-align: top;\n",
       "    }\n",
       "\n",
       "    .dataframe thead tr th {\n",
       "        text-align: left;\n",
       "    }\n",
       "\n",
       "    .dataframe thead tr:last-of-type th {\n",
       "        text-align: right;\n",
       "    }\n",
       "</style>\n",
       "<table border=\"1\" class=\"dataframe\">\n",
       "  <thead>\n",
       "    <tr>\n",
       "      <th></th>\n",
       "      <th colspan=\"5\" halign=\"left\">price</th>\n",
       "    </tr>\n",
       "    <tr>\n",
       "      <th>body-style</th>\n",
       "      <th>convertible</th>\n",
       "      <th>hardtop</th>\n",
       "      <th>hatchback</th>\n",
       "      <th>sedan</th>\n",
       "      <th>wagon</th>\n",
       "    </tr>\n",
       "    <tr>\n",
       "      <th>drive-wheels</th>\n",
       "      <th></th>\n",
       "      <th></th>\n",
       "      <th></th>\n",
       "      <th></th>\n",
       "      <th></th>\n",
       "    </tr>\n",
       "  </thead>\n",
       "  <tbody>\n",
       "    <tr>\n",
       "      <th>4wd</th>\n",
       "      <td>0.0</td>\n",
       "      <td>0.000000</td>\n",
       "      <td>7603.000000</td>\n",
       "      <td>12647.333333</td>\n",
       "      <td>9095.750000</td>\n",
       "    </tr>\n",
       "    <tr>\n",
       "      <th>fwd</th>\n",
       "      <td>11595.0</td>\n",
       "      <td>8249.000000</td>\n",
       "      <td>8396.387755</td>\n",
       "      <td>9811.800000</td>\n",
       "      <td>9997.333333</td>\n",
       "    </tr>\n",
       "    <tr>\n",
       "      <th>rwd</th>\n",
       "      <td>23949.6</td>\n",
       "      <td>24202.714286</td>\n",
       "      <td>14337.777778</td>\n",
       "      <td>21711.833333</td>\n",
       "      <td>16994.222222</td>\n",
       "    </tr>\n",
       "  </tbody>\n",
       "</table>\n",
       "</div>"
      ],
      "text/plain": [
       "                   price                                            \\\n",
       "body-style   convertible       hardtop     hatchback         sedan   \n",
       "drive-wheels                                                         \n",
       "4wd                  0.0      0.000000   7603.000000  12647.333333   \n",
       "fwd              11595.0   8249.000000   8396.387755   9811.800000   \n",
       "rwd              23949.6  24202.714286  14337.777778  21711.833333   \n",
       "\n",
       "                            \n",
       "body-style           wagon  \n",
       "drive-wheels                \n",
       "4wd            9095.750000  \n",
       "fwd            9997.333333  \n",
       "rwd           16994.222222  "
      ]
     },
     "execution_count": 35,
     "metadata": {},
     "output_type": "execute_result"
    }
   ],
   "source": [
    "grouped_pivot = grouped_pivot.fillna(0) #fill missing values with 0\n",
    "grouped_pivot"
   ]
  },
  {
   "cell_type": "markdown",
   "id": "ed8cb3ad",
   "metadata": {
    "papermill": {
     "duration": 0.032368,
     "end_time": "2024-05-06T05:44:25.686564",
     "exception": false,
     "start_time": "2024-05-06T05:44:25.654196",
     "status": "completed"
    },
    "tags": []
   },
   "source": [
    "<div class=\"alert alert-danger alertdanger\" style=\"margin-top: 20px\">\n",
    "<h1>Question 4:</h1>\n",
    "\n",
    "<p>Use the \"groupby\" function to find the average \"price\" of each car based on \"body-style\".</p>\n",
    "</div>\n"
   ]
  },
  {
   "cell_type": "code",
   "execution_count": 36,
   "id": "5f92f340",
   "metadata": {
    "execution": {
     "iopub.execute_input": "2024-05-06T05:44:25.752165Z",
     "iopub.status.busy": "2024-05-06T05:44:25.751785Z",
     "iopub.status.idle": "2024-05-06T05:44:25.765314Z",
     "shell.execute_reply": "2024-05-06T05:44:25.764110Z"
    },
    "papermill": {
     "duration": 0.049008,
     "end_time": "2024-05-06T05:44:25.767582",
     "exception": false,
     "start_time": "2024-05-06T05:44:25.718574",
     "status": "completed"
    },
    "tags": []
   },
   "outputs": [
    {
     "data": {
      "text/html": [
       "<div>\n",
       "<style scoped>\n",
       "    .dataframe tbody tr th:only-of-type {\n",
       "        vertical-align: middle;\n",
       "    }\n",
       "\n",
       "    .dataframe tbody tr th {\n",
       "        vertical-align: top;\n",
       "    }\n",
       "\n",
       "    .dataframe thead th {\n",
       "        text-align: right;\n",
       "    }\n",
       "</style>\n",
       "<table border=\"1\" class=\"dataframe\">\n",
       "  <thead>\n",
       "    <tr style=\"text-align: right;\">\n",
       "      <th></th>\n",
       "      <th>body-style</th>\n",
       "      <th>price</th>\n",
       "    </tr>\n",
       "  </thead>\n",
       "  <tbody>\n",
       "    <tr>\n",
       "      <th>0</th>\n",
       "      <td>convertible</td>\n",
       "      <td>21890.500000</td>\n",
       "    </tr>\n",
       "    <tr>\n",
       "      <th>1</th>\n",
       "      <td>hardtop</td>\n",
       "      <td>22208.500000</td>\n",
       "    </tr>\n",
       "    <tr>\n",
       "      <th>2</th>\n",
       "      <td>hatchback</td>\n",
       "      <td>9957.441176</td>\n",
       "    </tr>\n",
       "    <tr>\n",
       "      <th>3</th>\n",
       "      <td>sedan</td>\n",
       "      <td>14459.755319</td>\n",
       "    </tr>\n",
       "    <tr>\n",
       "      <th>4</th>\n",
       "      <td>wagon</td>\n",
       "      <td>12371.960000</td>\n",
       "    </tr>\n",
       "  </tbody>\n",
       "</table>\n",
       "</div>"
      ],
      "text/plain": [
       "    body-style         price\n",
       "0  convertible  21890.500000\n",
       "1      hardtop  22208.500000\n",
       "2    hatchback   9957.441176\n",
       "3        sedan  14459.755319\n",
       "4        wagon  12371.960000"
      ]
     },
     "execution_count": 36,
     "metadata": {},
     "output_type": "execute_result"
    }
   ],
   "source": [
    "# Write your code below and press Shift+Enter to execute \n",
    "df_gptest = df[['drive-wheels','body-style','price']]\n",
    "grouped_test1 = df_gptest.groupby(['body-style'],as_index=False)\n",
    "grouped_test1['price'].mean()"
   ]
  },
  {
   "cell_type": "markdown",
   "id": "d2509f94",
   "metadata": {
    "papermill": {
     "duration": 0.033085,
     "end_time": "2024-05-06T05:44:25.833362",
     "exception": false,
     "start_time": "2024-05-06T05:44:25.800277",
     "status": "completed"
    },
    "tags": []
   },
   "source": [
    "<h4>Variables: Drive Wheels and Body Style vs. Price</h4>\n"
   ]
  },
  {
   "cell_type": "markdown",
   "id": "c4179a98",
   "metadata": {
    "papermill": {
     "duration": 0.032858,
     "end_time": "2024-05-06T05:44:25.899429",
     "exception": false,
     "start_time": "2024-05-06T05:44:25.866571",
     "status": "completed"
    },
    "tags": []
   },
   "source": [
    "Let's use a heat map to visualize the relationship between Body Style vs Price.\n"
   ]
  },
  {
   "cell_type": "code",
   "execution_count": 37,
   "id": "d7497d28",
   "metadata": {
    "execution": {
     "iopub.execute_input": "2024-05-06T05:44:25.966144Z",
     "iopub.status.busy": "2024-05-06T05:44:25.965027Z",
     "iopub.status.idle": "2024-05-06T05:44:26.241280Z",
     "shell.execute_reply": "2024-05-06T05:44:26.240145Z"
    },
    "papermill": {
     "duration": 0.311919,
     "end_time": "2024-05-06T05:44:26.243585",
     "exception": false,
     "start_time": "2024-05-06T05:44:25.931666",
     "status": "completed"
    },
    "tags": []
   },
   "outputs": [
    {
     "data": {
      "image/png": "[encoded data removed]",
      "text/plain": [
       "<Figure size 640x480 with 2 Axes>"
      ]
     },
     "metadata": {},
     "output_type": "display_data"
    }
   ],
   "source": [
    "#use the grouped results\n",
    "plt.pcolor(grouped_pivot, cmap='RdBu')\n",
    "plt.colorbar()\n",
    "plt.show()"
   ]
  },
  {
   "cell_type": "markdown",
   "id": "34c536ca",
   "metadata": {
    "papermill": {
     "duration": 0.033076,
     "end_time": "2024-05-06T05:44:26.309827",
     "exception": false,
     "start_time": "2024-05-06T05:44:26.276751",
     "status": "completed"
    },
    "tags": []
   },
   "source": [
    "<p>The heatmap plots the target variable (price) proportional to colour with respect to the variables 'drive-wheel' and 'body-style' on the vertical and horizontal axis, respectively. This allows us to visualize how the price is related to 'drive-wheel' and 'body-style'.</p>\n",
    "\n",
    "<p>The default labels convey no useful information to us. Let's change that:</p>\n"
   ]
  },
  {
   "cell_type": "code",
   "execution_count": 38,
   "id": "a39e0e1b",
   "metadata": {
    "execution": {
     "iopub.execute_input": "2024-05-06T05:44:26.378939Z",
     "iopub.status.busy": "2024-05-06T05:44:26.378161Z",
     "iopub.status.idle": "2024-05-06T05:44:26.609904Z",
     "shell.execute_reply": "2024-05-06T05:44:26.608763Z"
    },
    "papermill": {
     "duration": 0.269173,
     "end_time": "2024-05-06T05:44:26.612190",
     "exception": false,
     "start_time": "2024-05-06T05:44:26.343017",
     "status": "completed"
    },
    "tags": []
   },
   "outputs": [
    {
     "data": {
      "image/png": "[encoded data removed]",
      "text/plain": [
       "<Figure size 640x480 with 2 Axes>"
      ]
     },
     "metadata": {},
     "output_type": "display_data"
    }
   ],
   "source": [
    "fig, ax = plt.subplots()\n",
    "im = ax.pcolor(grouped_pivot, cmap='RdBu')\n",
    "\n",
    "#label names\n",
    "row_labels = grouped_pivot.columns.levels[1]\n",
    "col_labels = grouped_pivot.index\n",
    "\n",
    "#move ticks and labels to the center\n",
    "ax.set_xticks(np.arange(grouped_pivot.shape[1]) + 0.5, minor=False)\n",
    "ax.set_yticks(np.arange(grouped_pivot.shape[0]) + 0.5, minor=False)\n",
    "\n",
    "#insert labels\n",
    "ax.set_xticklabels(row_labels, minor=False)\n",
    "ax.set_yticklabels(col_labels, minor=False)\n",
    "\n",
    "#rotate label if too long\n",
    "plt.xticks(rotation=90)\n",
    "\n",
    "fig.colorbar(im)\n",
    "plt.show()"
   ]
  },
  {
   "cell_type": "markdown",
   "id": "0dc58174",
   "metadata": {
    "papermill": {
     "duration": 0.032533,
     "end_time": "2024-05-06T05:44:26.677499",
     "exception": false,
     "start_time": "2024-05-06T05:44:26.644966",
     "status": "completed"
    },
    "tags": []
   },
   "source": [
    "<p>Visualization is very important in data science, and Python visualization packages provide great freedom. We will go more in-depth in a separate Python visualizations course.</p>\n",
    "\n",
    "<p>The main question we want to answer in this module is, \"What are the main characteristics which have the most impact on the car price?\".</p>\n",
    "\n",
    "<p>To get a better measure of the important characteristics, we look at the correlation of these variables with the car price. In other words: how is the car price dependent on this variable?</p>\n"
   ]
  },
  {
   "cell_type": "markdown",
   "id": "265d1d52",
   "metadata": {
    "papermill": {
     "duration": 0.032406,
     "end_time": "2024-05-06T05:44:26.742711",
     "exception": false,
     "start_time": "2024-05-06T05:44:26.710305",
     "status": "completed"
    },
    "tags": []
   },
   "source": [
    "## Correlation and Causation\n"
   ]
  },
  {
   "cell_type": "markdown",
   "id": "4707005a",
   "metadata": {
    "papermill": {
     "duration": 0.032475,
     "end_time": "2024-05-06T05:44:26.807618",
     "exception": false,
     "start_time": "2024-05-06T05:44:26.775143",
     "status": "completed"
    },
    "tags": []
   },
   "source": [
    "<p><b>Correlation</b>: a measure of the extent of interdependence between variables.</p>\n",
    "\n",
    "<p><b>Causation</b>: the relationship between cause and effect between two variables.</p>\n",
    "\n",
    "<p>It is important to know the difference between these two. Correlation does not imply causation. Determining correlation is much simpler  the determining causation as causation may require independent experimentation.</p>\n"
   ]
  },
  {
   "cell_type": "markdown",
   "id": "15945f40",
   "metadata": {
    "papermill": {
     "duration": 0.032487,
     "end_time": "2024-05-06T05:44:26.873475",
     "exception": false,
     "start_time": "2024-05-06T05:44:26.840988",
     "status": "completed"
    },
    "tags": []
   },
   "source": [
    "<p><b>Pearson Correlation</b></p>\n",
    "<p>The Pearson Correlation measures the linear dependence between two variables X and Y.</p>\n",
    "<p>The resulting coefficient is a value between -1 and 1 inclusive, where:</p>\n",
    "<ul>\n",
    "    <li><b>1</b>: Perfect positive linear correlation.</li>\n",
    "    <li><b>0</b>: No linear correlation, the two variables most likely do not affect each other.</li>\n",
    "    <li><b>-1</b>: Perfect negative linear correlation.</li>\n",
    "</ul>\n"
   ]
  },
  {
   "cell_type": "markdown",
   "id": "bebbe0d5",
   "metadata": {
    "papermill": {
     "duration": 0.032641,
     "end_time": "2024-05-06T05:44:26.939687",
     "exception": false,
     "start_time": "2024-05-06T05:44:26.907046",
     "status": "completed"
    },
    "tags": []
   },
   "source": [
    "<p>Pearson Correlation is the default method of the function \"corr\". Like before, we can calculate the Pearson Correlation of the of the 'int64' or 'float64'  variables.</p>\n"
   ]
  },
  {
   "cell_type": "markdown",
   "id": "ddb88fbc",
   "metadata": {
    "papermill": {
     "duration": 0.032441,
     "end_time": "2024-05-06T05:44:27.004973",
     "exception": false,
     "start_time": "2024-05-06T05:44:26.972532",
     "status": "completed"
    },
    "tags": []
   },
   "source": [
    "Sometimes we would like to know the significant of the correlation estimate. \n"
   ]
  },
  {
   "cell_type": "markdown",
   "id": "bd274464",
   "metadata": {
    "papermill": {
     "duration": 0.032841,
     "end_time": "2024-05-06T05:44:27.070914",
     "exception": false,
     "start_time": "2024-05-06T05:44:27.038073",
     "status": "completed"
    },
    "tags": []
   },
   "source": [
    "<b>P-value</b>\n",
    "<p>What is this P-value? The P-value is the probability value that the correlation between these two variables is statistically significant. Normally, we choose a significance level of 0.05, which means that we are 95% confident that the correlation between the variables is significant.</p>\n",
    "\n",
    "By convention, when the\n",
    "<ul>\n",
    "    <li>p-value is $<$ 0.001: we say there is strong evidence that the correlation is significant.</li>\n",
    "    <li>the p-value is $<$ 0.05: there is moderate evidence that the correlation is significant.</li>\n",
    "    <li>the p-value is $<$ 0.1: there is weak evidence that the correlation is significant.</li>\n",
    "    <li>the p-value is $>$ 0.1: there is no evidence that the correlation is significant.</li>\n",
    "</ul>\n"
   ]
  },
  {
   "cell_type": "markdown",
   "id": "4f12d294",
   "metadata": {
    "papermill": {
     "duration": 0.032783,
     "end_time": "2024-05-06T05:44:27.136756",
     "exception": false,
     "start_time": "2024-05-06T05:44:27.103973",
     "status": "completed"
    },
    "tags": []
   },
   "source": [
    " We can obtain this information using  \"stats\" module in the \"scipy\"  library.\n"
   ]
  },
  {
   "cell_type": "code",
   "execution_count": 39,
   "id": "3fe3d211",
   "metadata": {
    "execution": {
     "iopub.execute_input": "2024-05-06T05:44:27.206757Z",
     "iopub.status.busy": "2024-05-06T05:44:27.206368Z",
     "iopub.status.idle": "2024-05-06T05:44:27.210657Z",
     "shell.execute_reply": "2024-05-06T05:44:27.209608Z"
    },
    "papermill": {
     "duration": 0.041918,
     "end_time": "2024-05-06T05:44:27.212849",
     "exception": false,
     "start_time": "2024-05-06T05:44:27.170931",
     "status": "completed"
    },
    "tags": []
   },
   "outputs": [],
   "source": [
    "from scipy import stats"
   ]
  },
  {
   "cell_type": "markdown",
   "id": "fca4d8a6",
   "metadata": {
    "papermill": {
     "duration": 0.032561,
     "end_time": "2024-05-06T05:44:27.278272",
     "exception": false,
     "start_time": "2024-05-06T05:44:27.245711",
     "status": "completed"
    },
    "tags": []
   },
   "source": [
    "<h3>Wheel-Base vs. Price</h3>\n"
   ]
  },
  {
   "cell_type": "markdown",
   "id": "e308b337",
   "metadata": {
    "papermill": {
     "duration": 0.032704,
     "end_time": "2024-05-06T05:44:27.344647",
     "exception": false,
     "start_time": "2024-05-06T05:44:27.311943",
     "status": "completed"
    },
    "tags": []
   },
   "source": [
    "Let's calculate the  Pearson Correlation Coefficient and P-value of 'wheel-base' and 'price'. \n"
   ]
  },
  {
   "cell_type": "code",
   "execution_count": 40,
   "id": "ac29fd32",
   "metadata": {
    "execution": {
     "iopub.execute_input": "2024-05-06T05:44:27.414175Z",
     "iopub.status.busy": "2024-05-06T05:44:27.413405Z",
     "iopub.status.idle": "2024-05-06T05:44:27.421883Z",
     "shell.execute_reply": "2024-05-06T05:44:27.420875Z"
    },
    "papermill": {
     "duration": 0.045941,
     "end_time": "2024-05-06T05:44:27.423998",
     "exception": false,
     "start_time": "2024-05-06T05:44:27.378057",
     "status": "completed"
    },
    "tags": []
   },
   "outputs": [
    {
     "name": "stdout",
     "output_type": "stream",
     "text": [
      "The Pearson Correlation Coefficient is 0.584641822265508  with a P-value of P = 8.076488270732885e-20\n"
     ]
    }
   ],
   "source": [
    "pearson_coef, p_value = stats.pearsonr(df['wheel-base'], df['price'])\n",
    "print(\"The Pearson Correlation Coefficient is\", pearson_coef, \" with a P-value of P =\", p_value)  "
   ]
  },
  {
   "cell_type": "markdown",
   "id": "bf498a36",
   "metadata": {
    "papermill": {
     "duration": 0.032569,
     "end_time": "2024-05-06T05:44:27.489487",
     "exception": false,
     "start_time": "2024-05-06T05:44:27.456918",
     "status": "completed"
    },
    "tags": []
   },
   "source": [
    "<h4>Conclusion:</h4>\n",
    "<p>Since the p-value is $<$ 0.001, the correlation between wheel-base and price is statistically significant, although the linear relationship isn't extremely strong (~0.585).</p>\n"
   ]
  },
  {
   "cell_type": "markdown",
   "id": "9b52dd49",
   "metadata": {
    "papermill": {
     "duration": 0.032448,
     "end_time": "2024-05-06T05:44:27.554591",
     "exception": false,
     "start_time": "2024-05-06T05:44:27.522143",
     "status": "completed"
    },
    "tags": []
   },
   "source": [
    "<h3>Horsepower vs. Price</h3>\n"
   ]
  },
  {
   "cell_type": "markdown",
   "id": "96e997f6",
   "metadata": {
    "papermill": {
     "duration": 0.032796,
     "end_time": "2024-05-06T05:44:27.620372",
     "exception": false,
     "start_time": "2024-05-06T05:44:27.587576",
     "status": "completed"
    },
    "tags": []
   },
   "source": [
    " Let's calculate the  Pearson Correlation Coefficient and P-value of 'horsepower' and 'price'.\n"
   ]
  },
  {
   "cell_type": "code",
   "execution_count": 41,
   "id": "c95a4f09",
   "metadata": {
    "execution": {
     "iopub.execute_input": "2024-05-06T05:44:27.688137Z",
     "iopub.status.busy": "2024-05-06T05:44:27.687529Z",
     "iopub.status.idle": "2024-05-06T05:44:27.695064Z",
     "shell.execute_reply": "2024-05-06T05:44:27.693927Z"
    },
    "papermill": {
     "duration": 0.043851,
     "end_time": "2024-05-06T05:44:27.697055",
     "exception": false,
     "start_time": "2024-05-06T05:44:27.653204",
     "status": "completed"
    },
    "tags": []
   },
   "outputs": [
    {
     "name": "stdout",
     "output_type": "stream",
     "text": [
      "The Pearson Correlation Coefficient is 0.8095745670036559  with a P-value of P =  6.369057428259557e-48\n"
     ]
    }
   ],
   "source": [
    "pearson_coef, p_value = stats.pearsonr(df['horsepower'], df['price'])\n",
    "print(\"The Pearson Correlation Coefficient is\", pearson_coef, \" with a P-value of P = \", p_value)  "
   ]
  },
  {
   "cell_type": "markdown",
   "id": "bfee8547",
   "metadata": {
    "papermill": {
     "duration": 0.033031,
     "end_time": "2024-05-06T05:44:27.763357",
     "exception": false,
     "start_time": "2024-05-06T05:44:27.730326",
     "status": "completed"
    },
    "tags": []
   },
   "source": [
    "<h4>Conclusion:</h4>\n",
    "\n",
    "<p>Since the p-value is $<$ 0.001, the correlation between horsepower and price is statistically significant, and the linear relationship is quite strong (~0.809, close to 1).</p>\n"
   ]
  },
  {
   "cell_type": "markdown",
   "id": "e030b496",
   "metadata": {
    "papermill": {
     "duration": 0.034088,
     "end_time": "2024-05-06T05:44:27.830361",
     "exception": false,
     "start_time": "2024-05-06T05:44:27.796273",
     "status": "completed"
    },
    "tags": []
   },
   "source": [
    "<h3>Length vs. Price</h3>\n",
    "\n",
    "Let's calculate the  Pearson Correlation Coefficient and P-value of 'length' and 'price'.\n"
   ]
  },
  {
   "cell_type": "code",
   "execution_count": 42,
   "id": "17a2e56b",
   "metadata": {
    "execution": {
     "iopub.execute_input": "2024-05-06T05:44:27.899358Z",
     "iopub.status.busy": "2024-05-06T05:44:27.898148Z",
     "iopub.status.idle": "2024-05-06T05:44:27.905726Z",
     "shell.execute_reply": "2024-05-06T05:44:27.904508Z"
    },
    "papermill": {
     "duration": 0.043785,
     "end_time": "2024-05-06T05:44:27.907649",
     "exception": false,
     "start_time": "2024-05-06T05:44:27.863864",
     "status": "completed"
    },
    "tags": []
   },
   "outputs": [
    {
     "name": "stdout",
     "output_type": "stream",
     "text": [
      "The Pearson Correlation Coefficient is 0.6906283804483638  with a P-value of P =  8.016477466159723e-30\n"
     ]
    }
   ],
   "source": [
    "pearson_coef, p_value = stats.pearsonr(df['length'], df['price'])\n",
    "print(\"The Pearson Correlation Coefficient is\", pearson_coef, \" with a P-value of P = \", p_value)  "
   ]
  },
  {
   "cell_type": "markdown",
   "id": "9ba82051",
   "metadata": {
    "papermill": {
     "duration": 0.032852,
     "end_time": "2024-05-06T05:44:27.973685",
     "exception": false,
     "start_time": "2024-05-06T05:44:27.940833",
     "status": "completed"
    },
    "tags": []
   },
   "source": [
    "<h4>Conclusion:</h4>\n",
    "<p>Since the p-value is $<$ 0.001, the correlation between length and price is statistically significant, and the linear relationship is moderately strong (~0.691).</p>\n"
   ]
  },
  {
   "cell_type": "markdown",
   "id": "8e2e39e5",
   "metadata": {
    "papermill": {
     "duration": 0.033042,
     "end_time": "2024-05-06T05:44:28.040473",
     "exception": false,
     "start_time": "2024-05-06T05:44:28.007431",
     "status": "completed"
    },
    "tags": []
   },
   "source": [
    "<h3>Width vs. Price</h3>\n"
   ]
  },
  {
   "cell_type": "markdown",
   "id": "ad6a5c6c",
   "metadata": {
    "papermill": {
     "duration": 0.032771,
     "end_time": "2024-05-06T05:44:28.106676",
     "exception": false,
     "start_time": "2024-05-06T05:44:28.073905",
     "status": "completed"
    },
    "tags": []
   },
   "source": [
    " Let's calculate the Pearson Correlation Coefficient and P-value of 'width' and 'price':\n"
   ]
  },
  {
   "cell_type": "code",
   "execution_count": 43,
   "id": "5ae073b7",
   "metadata": {
    "execution": {
     "iopub.execute_input": "2024-05-06T05:44:28.175553Z",
     "iopub.status.busy": "2024-05-06T05:44:28.174856Z",
     "iopub.status.idle": "2024-05-06T05:44:28.182215Z",
     "shell.execute_reply": "2024-05-06T05:44:28.180862Z"
    },
    "papermill": {
     "duration": 0.044188,
     "end_time": "2024-05-06T05:44:28.184289",
     "exception": false,
     "start_time": "2024-05-06T05:44:28.140101",
     "status": "completed"
    },
    "tags": []
   },
   "outputs": [
    {
     "name": "stdout",
     "output_type": "stream",
     "text": [
      "The Pearson Correlation Coefficient is 0.7512653440522673  with a P-value of P = 9.20033551048206e-38\n"
     ]
    }
   ],
   "source": [
    "pearson_coef, p_value = stats.pearsonr(df['width'], df['price'])\n",
    "print(\"The Pearson Correlation Coefficient is\", pearson_coef, \" with a P-value of P =\", p_value ) "
   ]
  },
  {
   "cell_type": "markdown",
   "id": "bd7c527a",
   "metadata": {
    "papermill": {
     "duration": 0.033227,
     "end_time": "2024-05-06T05:44:28.308954",
     "exception": false,
     "start_time": "2024-05-06T05:44:28.275727",
     "status": "completed"
    },
    "tags": []
   },
   "source": [
    "#### Conclusion:\n",
    "\n",
    "Since the p-value is < 0.001, the correlation between width and price is statistically significant, and the linear relationship is quite strong (~0.751).\n"
   ]
  },
  {
   "cell_type": "markdown",
   "id": "bcacbe0e",
   "metadata": {
    "papermill": {
     "duration": 0.033144,
     "end_time": "2024-05-06T05:44:28.376615",
     "exception": false,
     "start_time": "2024-05-06T05:44:28.343471",
     "status": "completed"
    },
    "tags": []
   },
   "source": [
    "### Curb-Weight vs. Price\n"
   ]
  },
  {
   "cell_type": "markdown",
   "id": "4ff75846",
   "metadata": {
    "papermill": {
     "duration": 0.033295,
     "end_time": "2024-05-06T05:44:28.444592",
     "exception": false,
     "start_time": "2024-05-06T05:44:28.411297",
     "status": "completed"
    },
    "tags": []
   },
   "source": [
    " Let's calculate the Pearson Correlation Coefficient and P-value of 'curb-weight' and 'price':\n"
   ]
  },
  {
   "cell_type": "code",
   "execution_count": 44,
   "id": "f2587ac0",
   "metadata": {
    "execution": {
     "iopub.execute_input": "2024-05-06T05:44:28.513854Z",
     "iopub.status.busy": "2024-05-06T05:44:28.513110Z",
     "iopub.status.idle": "2024-05-06T05:44:28.520548Z",
     "shell.execute_reply": "2024-05-06T05:44:28.519302Z"
    },
    "papermill": {
     "duration": 0.044798,
     "end_time": "2024-05-06T05:44:28.522993",
     "exception": false,
     "start_time": "2024-05-06T05:44:28.478195",
     "status": "completed"
    },
    "tags": []
   },
   "outputs": [
    {
     "name": "stdout",
     "output_type": "stream",
     "text": [
      "The Pearson Correlation Coefficient is 0.8344145257702843  with a P-value of P =  2.189577238893965e-53\n"
     ]
    }
   ],
   "source": [
    "pearson_coef, p_value = stats.pearsonr(df['curb-weight'], df['price'])\n",
    "print( \"The Pearson Correlation Coefficient is\", pearson_coef, \" with a P-value of P = \", p_value)  "
   ]
  },
  {
   "cell_type": "markdown",
   "id": "8a94b1ce",
   "metadata": {
    "papermill": {
     "duration": 0.03387,
     "end_time": "2024-05-06T05:44:28.592049",
     "exception": false,
     "start_time": "2024-05-06T05:44:28.558179",
     "status": "completed"
    },
    "tags": []
   },
   "source": [
    "<h4>Conclusion:</h4>\n",
    "<p>Since the p-value is $<$ 0.001, the correlation between curb-weight and price is statistically significant, and the linear relationship is quite strong (~0.834).</p>\n"
   ]
  },
  {
   "cell_type": "markdown",
   "id": "1b1cb65f",
   "metadata": {
    "papermill": {
     "duration": 0.032684,
     "end_time": "2024-05-06T05:44:28.657740",
     "exception": false,
     "start_time": "2024-05-06T05:44:28.625056",
     "status": "completed"
    },
    "tags": []
   },
   "source": [
    "<h3>Engine-Size vs. Price</h3>\n",
    "\n",
    "Let's calculate the Pearson Correlation Coefficient and P-value of 'engine-size' and 'price':\n"
   ]
  },
  {
   "cell_type": "code",
   "execution_count": 45,
   "id": "0232af9f",
   "metadata": {
    "execution": {
     "iopub.execute_input": "2024-05-06T05:44:28.725657Z",
     "iopub.status.busy": "2024-05-06T05:44:28.725289Z",
     "iopub.status.idle": "2024-05-06T05:44:28.732165Z",
     "shell.execute_reply": "2024-05-06T05:44:28.731120Z"
    },
    "papermill": {
     "duration": 0.043155,
     "end_time": "2024-05-06T05:44:28.734126",
     "exception": false,
     "start_time": "2024-05-06T05:44:28.690971",
     "status": "completed"
    },
    "tags": []
   },
   "outputs": [
    {
     "name": "stdout",
     "output_type": "stream",
     "text": [
      "The Pearson Correlation Coefficient is 0.8723351674455185  with a P-value of P = 9.265491622198793e-64\n"
     ]
    }
   ],
   "source": [
    "pearson_coef, p_value = stats.pearsonr(df['engine-size'], df['price'])\n",
    "print(\"The Pearson Correlation Coefficient is\", pearson_coef, \" with a P-value of P =\", p_value) "
   ]
  },
  {
   "cell_type": "markdown",
   "id": "762a5fee",
   "metadata": {
    "papermill": {
     "duration": 0.033382,
     "end_time": "2024-05-06T05:44:28.801262",
     "exception": false,
     "start_time": "2024-05-06T05:44:28.767880",
     "status": "completed"
    },
    "tags": []
   },
   "source": [
    "<h4>Conclusion:</h4>\n",
    "\n",
    "<p>Since the p-value is $<$ 0.001, the correlation between engine-size and price is statistically significant, and the linear relationship is very strong (~0.872).</p>\n"
   ]
  },
  {
   "cell_type": "markdown",
   "id": "388e5733",
   "metadata": {
    "papermill": {
     "duration": 0.033158,
     "end_time": "2024-05-06T05:44:28.867686",
     "exception": false,
     "start_time": "2024-05-06T05:44:28.834528",
     "status": "completed"
    },
    "tags": []
   },
   "source": [
    "<h3>Bore vs. Price</h3>\n"
   ]
  },
  {
   "cell_type": "markdown",
   "id": "d48208ea",
   "metadata": {
    "papermill": {
     "duration": 0.033147,
     "end_time": "2024-05-06T05:44:28.934434",
     "exception": false,
     "start_time": "2024-05-06T05:44:28.901287",
     "status": "completed"
    },
    "tags": []
   },
   "source": [
    " Let's calculate the  Pearson Correlation Coefficient and P-value of 'bore' and 'price':\n"
   ]
  },
  {
   "cell_type": "code",
   "execution_count": 46,
   "id": "a5c66c07",
   "metadata": {
    "execution": {
     "iopub.execute_input": "2024-05-06T05:44:29.003180Z",
     "iopub.status.busy": "2024-05-06T05:44:29.002154Z",
     "iopub.status.idle": "2024-05-06T05:44:29.010035Z",
     "shell.execute_reply": "2024-05-06T05:44:29.008742Z"
    },
    "papermill": {
     "duration": 0.04445,
     "end_time": "2024-05-06T05:44:29.012170",
     "exception": false,
     "start_time": "2024-05-06T05:44:28.967720",
     "status": "completed"
    },
    "tags": []
   },
   "outputs": [
    {
     "name": "stdout",
     "output_type": "stream",
     "text": [
      "The Pearson Correlation Coefficient is 0.5431553832626602  with a P-value of P =   8.049189483935315e-17\n"
     ]
    }
   ],
   "source": [
    "pearson_coef, p_value = stats.pearsonr(df['bore'], df['price'])\n",
    "print(\"The Pearson Correlation Coefficient is\", pearson_coef, \" with a P-value of P =  \", p_value ) "
   ]
  },
  {
   "cell_type": "markdown",
   "id": "fa57d922",
   "metadata": {
    "papermill": {
     "duration": 0.033048,
     "end_time": "2024-05-06T05:44:29.079307",
     "exception": false,
     "start_time": "2024-05-06T05:44:29.046259",
     "status": "completed"
    },
    "tags": []
   },
   "source": [
    "<h4>Conclusion:</h4>\n",
    "<p>Since the p-value is $<$ 0.001, the correlation between bore and price is statistically significant, but the linear relationship is only moderate (~0.521).</p>\n"
   ]
  },
  {
   "cell_type": "markdown",
   "id": "f2861652",
   "metadata": {
    "papermill": {
     "duration": 0.03332,
     "end_time": "2024-05-06T05:44:29.146020",
     "exception": false,
     "start_time": "2024-05-06T05:44:29.112700",
     "status": "completed"
    },
    "tags": []
   },
   "source": [
    " We can relate the process for each 'city-mpg'  and 'highway-mpg':\n"
   ]
  },
  {
   "cell_type": "markdown",
   "id": "68e1e86c",
   "metadata": {
    "papermill": {
     "duration": 0.033599,
     "end_time": "2024-05-06T05:44:29.214115",
     "exception": false,
     "start_time": "2024-05-06T05:44:29.180516",
     "status": "completed"
    },
    "tags": []
   },
   "source": [
    "<h3>City-mpg vs. Price</h3>\n"
   ]
  },
  {
   "cell_type": "code",
   "execution_count": 47,
   "id": "b6fb79cd",
   "metadata": {
    "execution": {
     "iopub.execute_input": "2024-05-06T05:44:29.283867Z",
     "iopub.status.busy": "2024-05-06T05:44:29.283452Z",
     "iopub.status.idle": "2024-05-06T05:44:29.290705Z",
     "shell.execute_reply": "2024-05-06T05:44:29.289884Z"
    },
    "papermill": {
     "duration": 0.045716,
     "end_time": "2024-05-06T05:44:29.293913",
     "exception": false,
     "start_time": "2024-05-06T05:44:29.248197",
     "status": "completed"
    },
    "tags": []
   },
   "outputs": [
    {
     "name": "stdout",
     "output_type": "stream",
     "text": [
      "The Pearson Correlation Coefficient is -0.6865710067844678  with a P-value of P =  2.3211320655675098e-29\n"
     ]
    }
   ],
   "source": [
    "pearson_coef, p_value = stats.pearsonr(df['city-mpg'], df['price'])\n",
    "print(\"The Pearson Correlation Coefficient is\", pearson_coef, \" with a P-value of P = \", p_value)  "
   ]
  },
  {
   "cell_type": "markdown",
   "id": "5431225b",
   "metadata": {
    "papermill": {
     "duration": 0.035129,
     "end_time": "2024-05-06T05:44:29.363948",
     "exception": false,
     "start_time": "2024-05-06T05:44:29.328819",
     "status": "completed"
    },
    "tags": []
   },
   "source": [
    "<h4>Conclusion:</h4>\n",
    "<p>Since the p-value is $<$ 0.001, the correlation between city-mpg and price is statistically significant, and the coefficient of about -0.687 shows that the relationship is negative and moderately strong.</p>\n"
   ]
  },
  {
   "cell_type": "markdown",
   "id": "86d9957e",
   "metadata": {
    "papermill": {
     "duration": 0.035106,
     "end_time": "2024-05-06T05:44:29.433019",
     "exception": false,
     "start_time": "2024-05-06T05:44:29.397913",
     "status": "completed"
    },
    "tags": []
   },
   "source": [
    "<h3>Highway-mpg vs. Price</h3>\n"
   ]
  },
  {
   "cell_type": "code",
   "execution_count": 48,
   "id": "f216074c",
   "metadata": {
    "execution": {
     "iopub.execute_input": "2024-05-06T05:44:29.501603Z",
     "iopub.status.busy": "2024-05-06T05:44:29.500922Z",
     "iopub.status.idle": "2024-05-06T05:44:29.507904Z",
     "shell.execute_reply": "2024-05-06T05:44:29.506680Z"
    },
    "papermill": {
     "duration": 0.043696,
     "end_time": "2024-05-06T05:44:29.509838",
     "exception": false,
     "start_time": "2024-05-06T05:44:29.466142",
     "status": "completed"
    },
    "tags": []
   },
   "outputs": [
    {
     "name": "stdout",
     "output_type": "stream",
     "text": [
      "The Pearson Correlation Coefficient is -0.704692265058953  with a P-value of P =  1.749547114447557e-31\n"
     ]
    }
   ],
   "source": [
    "pearson_coef, p_value = stats.pearsonr(df['highway-mpg'], df['price'])\n",
    "print( \"The Pearson Correlation Coefficient is\", pearson_coef, \" with a P-value of P = \", p_value ) "
   ]
  },
  {
   "cell_type": "markdown",
   "id": "1aaa1ab1",
   "metadata": {
    "papermill": {
     "duration": 0.033822,
     "end_time": "2024-05-06T05:44:29.578021",
     "exception": false,
     "start_time": "2024-05-06T05:44:29.544199",
     "status": "completed"
    },
    "tags": []
   },
   "source": [
    "#### Conclusion:\n",
    "Since the p-value is < 0.001, the correlation between highway-mpg and price is statistically significant, and the coefficient of about -0.705 shows that the relationship is negative and moderately strong.\n"
   ]
  },
  {
   "cell_type": "markdown",
   "id": "c9dd0ab1",
   "metadata": {
    "papermill": {
     "duration": 0.033949,
     "end_time": "2024-05-06T05:44:29.645947",
     "exception": false,
     "start_time": "2024-05-06T05:44:29.611998",
     "status": "completed"
    },
    "tags": []
   },
   "source": [
    "<h3>Conclusion: Important Variables</h3>\n"
   ]
  },
  {
   "cell_type": "markdown",
   "id": "f39aeb58",
   "metadata": {
    "papermill": {
     "duration": 0.033451,
     "end_time": "2024-05-06T05:44:29.713592",
     "exception": false,
     "start_time": "2024-05-06T05:44:29.680141",
     "status": "completed"
    },
    "tags": []
   },
   "source": [
    "<p>We now have a better idea of what our data looks like and which variables are important to take into account when predicting the car price. We have narrowed it down to the following variables:</p>\n",
    "\n",
    "Continuous numerical variables:\n",
    "<ul>\n",
    "    <li>Length</li>\n",
    "    <li>Width</li>\n",
    "    <li>Curb-weight</li>\n",
    "    <li>Engine-size</li>\n",
    "    <li>Horsepower</li>\n",
    "    <li>City-mpg</li>\n",
    "    <li>Highway-mpg</li>\n",
    "    <li>Wheel-base</li>\n",
    "    <li>Bore</li>\n",
    "</ul>\n",
    "    \n",
    "Categorical variables:\n",
    "<ul>\n",
    "    <li>Drive-wheels</li>\n",
    "</ul>\n",
    "\n",
    "<p>As we now move into building machine learning models to automate our analysis, feeding the model with variables that meaningfully affect our target variable will improve our model's prediction performance.</p>\n"
   ]
  },
  {
   "cell_type": "markdown",
   "id": "7515c86e",
   "metadata": {
    "papermill": {
     "duration": 0.033141,
     "end_time": "2024-05-06T05:44:29.780600",
     "exception": false,
     "start_time": "2024-05-06T05:44:29.747459",
     "status": "completed"
    },
    "tags": []
   },
   "source": [
    "### Thank you for completing this lab!\n",
    "\n",
    "\n",
    "## Author\n",
    "\n",
    "<a href=\"https://www.linkedin.com/in/joseph-s-50398b136/\" target=\"_blank\">Joseph Santarcangelo</a>\n",
    "\n",
    "\n",
    "### Other Contributors\n",
    "\n",
    "<a href=\"https://www.linkedin.com/in/mahdi-noorian-58219234/\" target=\"_blank\">Mahdi Noorian PhD</a>\n",
    "\n",
    "Bahare Talayian\n",
    "\n",
    "Eric Xiao\n",
    "\n",
    "Steven Dong\n",
    "\n",
    "Parizad\n",
    "\n",
    "Hima Vasudevan\n",
    "\n",
    "<a href=\"https://www.linkedin.com/in/fiorellawever/\" target=\"_blank\">Fiorella Wenver</a>\n",
    "\n",
    "<a href=\" https://www.linkedin.com/in/yi-leng-yao-84451275/ \" target=\"_blank\" >Yi Yao</a>.\n",
    "\n",
    "<a href=\"https://www.coursera.org/instructor/~129186572/\" target=\"_blank\" >Abhishek Gagneja </a>\n",
    "\n",
    "## Change Log\n",
    "\n",
    "\n",
    "|  Date (YYYY-MM-DD) |  Version | Changed By  |  Change Description |\n",
    "|---|---|---|---|\n",
    "| 2023-09-28 | 2.2 | Abhishek Gagneja | Updated instructions |\n",
    "| 2020-10-30  | 2.1  | Lakshmi |  changed URL of csv  |\n",
    "| 2020-08-27  | 2.0  | Lavanya  |  Moved lab to course repo in GitLab  |\n",
    "\n",
    "\n",
    "\n",
    "<hr>\n",
    "\n",
    "## <h3 align=\"center\"> © IBM Corporation 2023. All rights reserved. <h3/>\n"
   ]
  }
 ],
 "metadata": {
  "kaggle": {
   "accelerator": "none",
   "dataSources": [
    {
     "datasetId": 4947271,
     "sourceId": 8331537,
     "sourceType": "datasetVersion"
    }
   ],
   "dockerImageVersionId": 30698,
   "isGpuEnabled": false,
   "isInternetEnabled": true,
   "language": "python",
   "sourceType": "notebook"
  },
  "kernelspec": {
   "display_name": "Python 3",
   "language": "python",
   "name": "python3"
  },
  "language_info": {
   "codemirror_mode": {
    "name": "ipython",
    "version": 3
   },
   "file_extension": ".py",
   "mimetype": "text/x-python",
   "name": "python",
   "nbconvert_exporter": "python",
   "pygments_lexer": "ipython3",
   "version": "3.10.13"
  },
  "papermill": {
   "default_parameters": {},
   "duration": 17.762713,
   "end_time": "2024-05-06T05:44:30.434231",
   "environment_variables": {},
   "exception": null,
   "input_path": "__notebook__.ipynb",
   "output_path": "__notebook__.ipynb",
   "parameters": {},
   "start_time": "2024-05-06T05:44:12.671518",
   "version": "2.5.0"
  }
 },
 "nbformat": 4,
 "nbformat_minor": 5
}
