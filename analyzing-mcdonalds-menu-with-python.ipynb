{
 "cells": [
  {
   "cell_type": "code",
   "execution_count": 1,
   "id": "5aeeec25",
   "metadata": {
    "_cell_guid": "b1076dfc-b9ad-4769-8c92-a6c4dae69d19",
    "_uuid": "8f2839f25d086af736a60e9eeb907d3b93b6e0e5",
    "execution": {
     "iopub.execute_input": "2024-04-30T05:39:29.139552Z",
     "iopub.status.busy": "2024-04-30T05:39:29.138667Z",
     "iopub.status.idle": "2024-04-30T05:39:30.265031Z",
     "shell.execute_reply": "2024-04-30T05:39:30.262986Z"
    },
    "papermill": {
     "duration": 1.139223,
     "end_time": "2024-04-30T05:39:30.268251",
     "exception": false,
     "start_time": "2024-04-30T05:39:29.129028",
     "status": "completed"
    },
    "tags": []
   },
   "outputs": [
    {
     "name": "stdout",
     "output_type": "stream",
     "text": [
      "/kaggle/input/mcdonalds-nutrition-dataset/mcdonaldata.csv\n"
     ]
    }
   ],
   "source": [
    "# This Python 3 environment comes with many helpful analytics libraries installed\n",
    "# It is defined by the kaggle/python Docker image: https://github.com/kaggle/docker-python\n",
    "# For example, here's several helpful packages to load\n",
    "\n",
    "import numpy as np # linear algebra\n",
    "import pandas as pd # data processing, CSV file I/O (e.g. pd.read_csv)\n",
    "\n",
    "# Input data files are available in the read-only \"../input/\" directory\n",
    "# For example, running this (by clicking run or pressing Shift+Enter) will list all files under the input directory\n",
    "\n",
    "import os\n",
    "for dirname, _, filenames in os.walk('/kaggle/input'):\n",
    "    for filename in filenames:\n",
    "        print(os.path.join(dirname, filename))\n",
    "\n",
    "# You can write up to 20GB to the current directory (/kaggle/working/) that gets preserved as output when you create a version using \"Save & Run All\" \n",
    "# You can also write temporary files to /kaggle/temp/, but they won't be saved outside of the current session"
   ]
  },
  {
   "cell_type": "markdown",
   "id": "9d2384b6",
   "metadata": {
    "papermill": {
     "duration": 0.007015,
     "end_time": "2024-04-30T05:39:30.282587",
     "exception": false,
     "start_time": "2024-04-30T05:39:30.275572",
     "status": "completed"
    },
    "tags": []
   },
   "source": [
    "## This exercise is to learn Python and SQL operations for writing/reading csv data into/from DB table and working on the data"
   ]
  },
  {
   "cell_type": "markdown",
   "id": "7369c64d",
   "metadata": {
    "papermill": {
     "duration": 0.006604,
     "end_time": "2024-04-30T05:39:30.296603",
     "exception": false,
     "start_time": "2024-04-30T05:39:30.289999",
     "status": "completed"
    },
    "tags": []
   },
   "source": [
    "Load CSV to SQLite3 with Pandas.\n",
    "\n",
    "The data is stored in .csv file"
   ]
  },
  {
   "cell_type": "code",
   "execution_count": 2,
   "id": "5a040f7e",
   "metadata": {
    "execution": {
     "iopub.execute_input": "2024-04-30T05:39:30.313006Z",
     "iopub.status.busy": "2024-04-30T05:39:30.312356Z",
     "iopub.status.idle": "2024-04-30T05:39:30.336311Z",
     "shell.execute_reply": "2024-04-30T05:39:30.334640Z"
    },
    "papermill": {
     "duration": 0.035875,
     "end_time": "2024-04-30T05:39:30.339400",
     "exception": false,
     "start_time": "2024-04-30T05:39:30.303525",
     "status": "completed"
    },
    "tags": []
   },
   "outputs": [],
   "source": [
    "import sqlite3\n",
    "\n",
    "data = pd.read_csv('/kaggle/input/mcdonalds-nutrition-dataset/mcdonaldata.csv') # uploaded from Kaggle datasets"
   ]
  },
  {
   "cell_type": "code",
   "execution_count": 3,
   "id": "f28789cb",
   "metadata": {
    "execution": {
     "iopub.execute_input": "2024-04-30T05:39:30.356135Z",
     "iopub.status.busy": "2024-04-30T05:39:30.355620Z",
     "iopub.status.idle": "2024-04-30T05:39:30.406444Z",
     "shell.execute_reply": "2024-04-30T05:39:30.405067Z"
    },
    "papermill": {
     "duration": 0.062964,
     "end_time": "2024-04-30T05:39:30.409526",
     "exception": false,
     "start_time": "2024-04-30T05:39:30.346562",
     "status": "completed"
    },
    "tags": []
   },
   "outputs": [
    {
     "data": {
      "text/html": [
       "<div>\n",
       "<style scoped>\n",
       "    .dataframe tbody tr th:only-of-type {\n",
       "        vertical-align: middle;\n",
       "    }\n",
       "\n",
       "    .dataframe tbody tr th {\n",
       "        vertical-align: top;\n",
       "    }\n",
       "\n",
       "    .dataframe thead th {\n",
       "        text-align: right;\n",
       "    }\n",
       "</style>\n",
       "<table border=\"1\" class=\"dataframe\">\n",
       "  <thead>\n",
       "    <tr style=\"text-align: right;\">\n",
       "      <th></th>\n",
       "      <th>Unnamed: 0</th>\n",
       "      <th>item</th>\n",
       "      <th>servesize</th>\n",
       "      <th>calories</th>\n",
       "      <th>protien</th>\n",
       "      <th>totalfat</th>\n",
       "      <th>satfat</th>\n",
       "      <th>transfat</th>\n",
       "      <th>cholestrol</th>\n",
       "      <th>carbs</th>\n",
       "      <th>sugar</th>\n",
       "      <th>addedsugar</th>\n",
       "      <th>sodium</th>\n",
       "      <th>menu</th>\n",
       "    </tr>\n",
       "  </thead>\n",
       "  <tbody>\n",
       "    <tr>\n",
       "      <th>0</th>\n",
       "      <td>0</td>\n",
       "      <td>McVeggie Burger</td>\n",
       "      <td>168</td>\n",
       "      <td>402</td>\n",
       "      <td>10.24</td>\n",
       "      <td>13.83</td>\n",
       "      <td>5.34</td>\n",
       "      <td>0.16</td>\n",
       "      <td>2.49</td>\n",
       "      <td>56.54</td>\n",
       "      <td>7.90</td>\n",
       "      <td>4.49</td>\n",
       "      <td>706.13</td>\n",
       "      <td>regular</td>\n",
       "    </tr>\n",
       "    <tr>\n",
       "      <th>1</th>\n",
       "      <td>1</td>\n",
       "      <td>McAloo Tikki Burger</td>\n",
       "      <td>146</td>\n",
       "      <td>339</td>\n",
       "      <td>8.50</td>\n",
       "      <td>11.31</td>\n",
       "      <td>4.27</td>\n",
       "      <td>0.20</td>\n",
       "      <td>1.47</td>\n",
       "      <td>5.27</td>\n",
       "      <td>7.05</td>\n",
       "      <td>4.07</td>\n",
       "      <td>545.34</td>\n",
       "      <td>regular</td>\n",
       "    </tr>\n",
       "    <tr>\n",
       "      <th>2</th>\n",
       "      <td>2</td>\n",
       "      <td>McSpicy Paneer Burger</td>\n",
       "      <td>199</td>\n",
       "      <td>652</td>\n",
       "      <td>20.29</td>\n",
       "      <td>39.45</td>\n",
       "      <td>17.12</td>\n",
       "      <td>0.18</td>\n",
       "      <td>21.85</td>\n",
       "      <td>52.33</td>\n",
       "      <td>8.35</td>\n",
       "      <td>5.27</td>\n",
       "      <td>1074.58</td>\n",
       "      <td>regular</td>\n",
       "    </tr>\n",
       "    <tr>\n",
       "      <th>3</th>\n",
       "      <td>3</td>\n",
       "      <td>Spicy Paneer Wrap</td>\n",
       "      <td>250</td>\n",
       "      <td>674</td>\n",
       "      <td>20.96</td>\n",
       "      <td>39.10</td>\n",
       "      <td>19.73</td>\n",
       "      <td>0.26</td>\n",
       "      <td>40.93</td>\n",
       "      <td>59.27</td>\n",
       "      <td>3.50</td>\n",
       "      <td>1.08</td>\n",
       "      <td>1087.46</td>\n",
       "      <td>regular</td>\n",
       "    </tr>\n",
       "    <tr>\n",
       "      <th>4</th>\n",
       "      <td>4</td>\n",
       "      <td>American Veg Burger</td>\n",
       "      <td>177</td>\n",
       "      <td>512</td>\n",
       "      <td>15.30</td>\n",
       "      <td>23.45</td>\n",
       "      <td>10.51</td>\n",
       "      <td>0.17</td>\n",
       "      <td>25.24</td>\n",
       "      <td>56.96</td>\n",
       "      <td>7.85</td>\n",
       "      <td>4.76</td>\n",
       "      <td>1051.24</td>\n",
       "      <td>regular</td>\n",
       "    </tr>\n",
       "    <tr>\n",
       "      <th>...</th>\n",
       "      <td>...</td>\n",
       "      <td>...</td>\n",
       "      <td>...</td>\n",
       "      <td>...</td>\n",
       "      <td>...</td>\n",
       "      <td>...</td>\n",
       "      <td>...</td>\n",
       "      <td>...</td>\n",
       "      <td>...</td>\n",
       "      <td>...</td>\n",
       "      <td>...</td>\n",
       "      <td>...</td>\n",
       "      <td>...</td>\n",
       "      <td>...</td>\n",
       "    </tr>\n",
       "    <tr>\n",
       "      <th>136</th>\n",
       "      <td>136</td>\n",
       "      <td>Tomato Ketchup Sachets</td>\n",
       "      <td>8</td>\n",
       "      <td>11.23</td>\n",
       "      <td>0.08</td>\n",
       "      <td>23.45</td>\n",
       "      <td>0.38</td>\n",
       "      <td>0.25</td>\n",
       "      <td>0.08</td>\n",
       "      <td>2.63</td>\n",
       "      <td>2.33</td>\n",
       "      <td>1.64</td>\n",
       "      <td>414.71</td>\n",
       "      <td>condiments</td>\n",
       "    </tr>\n",
       "    <tr>\n",
       "      <th>137</th>\n",
       "      <td>137</td>\n",
       "      <td>Maple Syrup</td>\n",
       "      <td>3</td>\n",
       "      <td>86.4</td>\n",
       "      <td>0.00</td>\n",
       "      <td>0.00</td>\n",
       "      <td>0.00</td>\n",
       "      <td>0.40</td>\n",
       "      <td>0.30</td>\n",
       "      <td>21.60</td>\n",
       "      <td>16.20</td>\n",
       "      <td>5.34</td>\n",
       "      <td>71.05</td>\n",
       "      <td>condiments</td>\n",
       "    </tr>\n",
       "    <tr>\n",
       "      <th>138</th>\n",
       "      <td>138</td>\n",
       "      <td>Cheese Slice</td>\n",
       "      <td>14</td>\n",
       "      <td>51.03</td>\n",
       "      <td>3.06</td>\n",
       "      <td>3.99</td>\n",
       "      <td>0.00</td>\n",
       "      <td>0.00</td>\n",
       "      <td>13.43</td>\n",
       "      <td>0.72</td>\n",
       "      <td>0.54</td>\n",
       "      <td>0.00</td>\n",
       "      <td>15.00</td>\n",
       "      <td>condiments</td>\n",
       "    </tr>\n",
       "    <tr>\n",
       "      <th>139</th>\n",
       "      <td>139</td>\n",
       "      <td>Sweet Corn</td>\n",
       "      <td>40</td>\n",
       "      <td>45.08</td>\n",
       "      <td>1.47</td>\n",
       "      <td>1.00</td>\n",
       "      <td>2.89</td>\n",
       "      <td>0.01</td>\n",
       "      <td>2.00</td>\n",
       "      <td>7.55</td>\n",
       "      <td>2.54</td>\n",
       "      <td>0.00</td>\n",
       "      <td>178.95</td>\n",
       "      <td>condiments</td>\n",
       "    </tr>\n",
       "    <tr>\n",
       "      <th>140</th>\n",
       "      <td>140</td>\n",
       "      <td>Mixed Fruit Beverage</td>\n",
       "      <td>180</td>\n",
       "      <td>72.25</td>\n",
       "      <td>0.65</td>\n",
       "      <td>0.02</td>\n",
       "      <td>0.22</td>\n",
       "      <td>0.04</td>\n",
       "      <td>0.01</td>\n",
       "      <td>18.00</td>\n",
       "      <td>16.83</td>\n",
       "      <td>0.00</td>\n",
       "      <td>0.04</td>\n",
       "      <td>condiments</td>\n",
       "    </tr>\n",
       "  </tbody>\n",
       "</table>\n",
       "<p>141 rows × 14 columns</p>\n",
       "</div>"
      ],
      "text/plain": [
       "     Unnamed: 0                    item servesize calories  protien  totalfat  \\\n",
       "0             0         McVeggie Burger      168       402    10.24     13.83   \n",
       "1             1     McAloo Tikki Burger      146       339     8.50     11.31   \n",
       "2             2  McSpicy Paneer Burger      199       652    20.29     39.45   \n",
       "3             3       Spicy Paneer Wrap      250       674    20.96     39.10   \n",
       "4             4     American Veg Burger      177       512    15.30     23.45   \n",
       "..          ...                     ...       ...      ...      ...       ...   \n",
       "136         136  Tomato Ketchup Sachets         8    11.23     0.08     23.45   \n",
       "137         137             Maple Syrup         3     86.4     0.00      0.00   \n",
       "138         138            Cheese Slice        14    51.03     3.06      3.99   \n",
       "139         139              Sweet Corn        40    45.08     1.47      1.00   \n",
       "140         140    Mixed Fruit Beverage       180    72.25     0.65      0.02   \n",
       "\n",
       "     satfat  transfat  cholestrol  carbs  sugar  addedsugar   sodium  \\\n",
       "0      5.34      0.16        2.49  56.54   7.90        4.49   706.13   \n",
       "1      4.27      0.20        1.47   5.27   7.05        4.07   545.34   \n",
       "2     17.12      0.18       21.85  52.33   8.35        5.27  1074.58   \n",
       "3     19.73      0.26       40.93  59.27   3.50        1.08  1087.46   \n",
       "4     10.51      0.17       25.24  56.96   7.85        4.76  1051.24   \n",
       "..      ...       ...         ...    ...    ...         ...      ...   \n",
       "136    0.38      0.25        0.08   2.63   2.33        1.64   414.71   \n",
       "137    0.00      0.40        0.30  21.60  16.20        5.34    71.05   \n",
       "138    0.00      0.00       13.43   0.72   0.54        0.00    15.00   \n",
       "139    2.89      0.01        2.00   7.55   2.54        0.00   178.95   \n",
       "140    0.22      0.04        0.01  18.00  16.83        0.00     0.04   \n",
       "\n",
       "           menu  \n",
       "0       regular  \n",
       "1       regular  \n",
       "2       regular  \n",
       "3       regular  \n",
       "4       regular  \n",
       "..          ...  \n",
       "136  condiments  \n",
       "137  condiments  \n",
       "138  condiments  \n",
       "139  condiments  \n",
       "140  condiments  \n",
       "\n",
       "[141 rows x 14 columns]"
      ]
     },
     "execution_count": 3,
     "metadata": {},
     "output_type": "execute_result"
    }
   ],
   "source": [
    "data"
   ]
  },
  {
   "cell_type": "code",
   "execution_count": 4,
   "id": "747e6203",
   "metadata": {
    "execution": {
     "iopub.execute_input": "2024-04-30T05:39:30.427943Z",
     "iopub.status.busy": "2024-04-30T05:39:30.427398Z",
     "iopub.status.idle": "2024-04-30T05:39:30.483482Z",
     "shell.execute_reply": "2024-04-30T05:39:30.481913Z"
    },
    "papermill": {
     "duration": 0.069181,
     "end_time": "2024-04-30T05:39:30.486704",
     "exception": false,
     "start_time": "2024-04-30T05:39:30.417523",
     "status": "completed"
    },
    "tags": []
   },
   "outputs": [
    {
     "data": {
      "text/plain": [
       "141"
      ]
     },
     "execution_count": 4,
     "metadata": {},
     "output_type": "execute_result"
    }
   ],
   "source": [
    "# connection to the db\n",
    "conn = sqlite3.connect('McDonalds.db')\n",
    "# save contents of the menu to DB\n",
    "data.to_sql('MCDONALDS_NUTRITION', conn)"
   ]
  },
  {
   "cell_type": "code",
   "execution_count": 5,
   "id": "80bdf0e0",
   "metadata": {
    "execution": {
     "iopub.execute_input": "2024-04-30T05:39:30.504914Z",
     "iopub.status.busy": "2024-04-30T05:39:30.504346Z",
     "iopub.status.idle": "2024-04-30T05:39:30.540952Z",
     "shell.execute_reply": "2024-04-30T05:39:30.539426Z"
    },
    "papermill": {
     "duration": 0.049461,
     "end_time": "2024-04-30T05:39:30.544056",
     "exception": false,
     "start_time": "2024-04-30T05:39:30.494595",
     "status": "completed"
    },
    "tags": []
   },
   "outputs": [
    {
     "data": {
      "text/html": [
       "<div>\n",
       "<style scoped>\n",
       "    .dataframe tbody tr th:only-of-type {\n",
       "        vertical-align: middle;\n",
       "    }\n",
       "\n",
       "    .dataframe tbody tr th {\n",
       "        vertical-align: top;\n",
       "    }\n",
       "\n",
       "    .dataframe thead th {\n",
       "        text-align: right;\n",
       "    }\n",
       "</style>\n",
       "<table border=\"1\" class=\"dataframe\">\n",
       "  <thead>\n",
       "    <tr style=\"text-align: right;\">\n",
       "      <th></th>\n",
       "      <th>index</th>\n",
       "      <th>Unnamed: 0</th>\n",
       "      <th>item</th>\n",
       "      <th>servesize</th>\n",
       "      <th>calories</th>\n",
       "      <th>protien</th>\n",
       "      <th>totalfat</th>\n",
       "      <th>satfat</th>\n",
       "      <th>transfat</th>\n",
       "      <th>cholestrol</th>\n",
       "      <th>carbs</th>\n",
       "      <th>sugar</th>\n",
       "      <th>addedsugar</th>\n",
       "      <th>sodium</th>\n",
       "      <th>menu</th>\n",
       "    </tr>\n",
       "  </thead>\n",
       "  <tbody>\n",
       "    <tr>\n",
       "      <th>0</th>\n",
       "      <td>0</td>\n",
       "      <td>0</td>\n",
       "      <td>McVeggie Burger</td>\n",
       "      <td>168</td>\n",
       "      <td>402</td>\n",
       "      <td>10.24</td>\n",
       "      <td>13.83</td>\n",
       "      <td>5.34</td>\n",
       "      <td>0.16</td>\n",
       "      <td>2.49</td>\n",
       "      <td>56.54</td>\n",
       "      <td>7.90</td>\n",
       "      <td>4.49</td>\n",
       "      <td>706.13</td>\n",
       "      <td>regular</td>\n",
       "    </tr>\n",
       "    <tr>\n",
       "      <th>1</th>\n",
       "      <td>1</td>\n",
       "      <td>1</td>\n",
       "      <td>McAloo Tikki Burger</td>\n",
       "      <td>146</td>\n",
       "      <td>339</td>\n",
       "      <td>8.50</td>\n",
       "      <td>11.31</td>\n",
       "      <td>4.27</td>\n",
       "      <td>0.20</td>\n",
       "      <td>1.47</td>\n",
       "      <td>5.27</td>\n",
       "      <td>7.05</td>\n",
       "      <td>4.07</td>\n",
       "      <td>545.34</td>\n",
       "      <td>regular</td>\n",
       "    </tr>\n",
       "    <tr>\n",
       "      <th>2</th>\n",
       "      <td>2</td>\n",
       "      <td>2</td>\n",
       "      <td>McSpicy Paneer Burger</td>\n",
       "      <td>199</td>\n",
       "      <td>652</td>\n",
       "      <td>20.29</td>\n",
       "      <td>39.45</td>\n",
       "      <td>17.12</td>\n",
       "      <td>0.18</td>\n",
       "      <td>21.85</td>\n",
       "      <td>52.33</td>\n",
       "      <td>8.35</td>\n",
       "      <td>5.27</td>\n",
       "      <td>1074.58</td>\n",
       "      <td>regular</td>\n",
       "    </tr>\n",
       "    <tr>\n",
       "      <th>3</th>\n",
       "      <td>3</td>\n",
       "      <td>3</td>\n",
       "      <td>Spicy Paneer Wrap</td>\n",
       "      <td>250</td>\n",
       "      <td>674</td>\n",
       "      <td>20.96</td>\n",
       "      <td>39.10</td>\n",
       "      <td>19.73</td>\n",
       "      <td>0.26</td>\n",
       "      <td>40.93</td>\n",
       "      <td>59.27</td>\n",
       "      <td>3.50</td>\n",
       "      <td>1.08</td>\n",
       "      <td>1087.46</td>\n",
       "      <td>regular</td>\n",
       "    </tr>\n",
       "    <tr>\n",
       "      <th>4</th>\n",
       "      <td>4</td>\n",
       "      <td>4</td>\n",
       "      <td>American Veg Burger</td>\n",
       "      <td>177</td>\n",
       "      <td>512</td>\n",
       "      <td>15.30</td>\n",
       "      <td>23.45</td>\n",
       "      <td>10.51</td>\n",
       "      <td>0.17</td>\n",
       "      <td>25.24</td>\n",
       "      <td>56.96</td>\n",
       "      <td>7.85</td>\n",
       "      <td>4.76</td>\n",
       "      <td>1051.24</td>\n",
       "      <td>regular</td>\n",
       "    </tr>\n",
       "    <tr>\n",
       "      <th>...</th>\n",
       "      <td>...</td>\n",
       "      <td>...</td>\n",
       "      <td>...</td>\n",
       "      <td>...</td>\n",
       "      <td>...</td>\n",
       "      <td>...</td>\n",
       "      <td>...</td>\n",
       "      <td>...</td>\n",
       "      <td>...</td>\n",
       "      <td>...</td>\n",
       "      <td>...</td>\n",
       "      <td>...</td>\n",
       "      <td>...</td>\n",
       "      <td>...</td>\n",
       "      <td>...</td>\n",
       "    </tr>\n",
       "    <tr>\n",
       "      <th>136</th>\n",
       "      <td>136</td>\n",
       "      <td>136</td>\n",
       "      <td>Tomato Ketchup Sachets</td>\n",
       "      <td>8</td>\n",
       "      <td>11.23</td>\n",
       "      <td>0.08</td>\n",
       "      <td>23.45</td>\n",
       "      <td>0.38</td>\n",
       "      <td>0.25</td>\n",
       "      <td>0.08</td>\n",
       "      <td>2.63</td>\n",
       "      <td>2.33</td>\n",
       "      <td>1.64</td>\n",
       "      <td>414.71</td>\n",
       "      <td>condiments</td>\n",
       "    </tr>\n",
       "    <tr>\n",
       "      <th>137</th>\n",
       "      <td>137</td>\n",
       "      <td>137</td>\n",
       "      <td>Maple Syrup</td>\n",
       "      <td>3</td>\n",
       "      <td>86.4</td>\n",
       "      <td>0.00</td>\n",
       "      <td>0.00</td>\n",
       "      <td>0.00</td>\n",
       "      <td>0.40</td>\n",
       "      <td>0.30</td>\n",
       "      <td>21.60</td>\n",
       "      <td>16.20</td>\n",
       "      <td>5.34</td>\n",
       "      <td>71.05</td>\n",
       "      <td>condiments</td>\n",
       "    </tr>\n",
       "    <tr>\n",
       "      <th>138</th>\n",
       "      <td>138</td>\n",
       "      <td>138</td>\n",
       "      <td>Cheese Slice</td>\n",
       "      <td>14</td>\n",
       "      <td>51.03</td>\n",
       "      <td>3.06</td>\n",
       "      <td>3.99</td>\n",
       "      <td>0.00</td>\n",
       "      <td>0.00</td>\n",
       "      <td>13.43</td>\n",
       "      <td>0.72</td>\n",
       "      <td>0.54</td>\n",
       "      <td>0.00</td>\n",
       "      <td>15.00</td>\n",
       "      <td>condiments</td>\n",
       "    </tr>\n",
       "    <tr>\n",
       "      <th>139</th>\n",
       "      <td>139</td>\n",
       "      <td>139</td>\n",
       "      <td>Sweet Corn</td>\n",
       "      <td>40</td>\n",
       "      <td>45.08</td>\n",
       "      <td>1.47</td>\n",
       "      <td>1.00</td>\n",
       "      <td>2.89</td>\n",
       "      <td>0.01</td>\n",
       "      <td>2.00</td>\n",
       "      <td>7.55</td>\n",
       "      <td>2.54</td>\n",
       "      <td>0.00</td>\n",
       "      <td>178.95</td>\n",
       "      <td>condiments</td>\n",
       "    </tr>\n",
       "    <tr>\n",
       "      <th>140</th>\n",
       "      <td>140</td>\n",
       "      <td>140</td>\n",
       "      <td>Mixed Fruit Beverage</td>\n",
       "      <td>180</td>\n",
       "      <td>72.25</td>\n",
       "      <td>0.65</td>\n",
       "      <td>0.02</td>\n",
       "      <td>0.22</td>\n",
       "      <td>0.04</td>\n",
       "      <td>0.01</td>\n",
       "      <td>18.00</td>\n",
       "      <td>16.83</td>\n",
       "      <td>0.00</td>\n",
       "      <td>0.04</td>\n",
       "      <td>condiments</td>\n",
       "    </tr>\n",
       "  </tbody>\n",
       "</table>\n",
       "<p>141 rows × 15 columns</p>\n",
       "</div>"
      ],
      "text/plain": [
       "     index  Unnamed: 0                    item servesize calories  protien  \\\n",
       "0        0           0         McVeggie Burger      168       402    10.24   \n",
       "1        1           1     McAloo Tikki Burger      146       339     8.50   \n",
       "2        2           2  McSpicy Paneer Burger      199       652    20.29   \n",
       "3        3           3       Spicy Paneer Wrap      250       674    20.96   \n",
       "4        4           4     American Veg Burger      177       512    15.30   \n",
       "..     ...         ...                     ...       ...      ...      ...   \n",
       "136    136         136  Tomato Ketchup Sachets         8    11.23     0.08   \n",
       "137    137         137             Maple Syrup         3     86.4     0.00   \n",
       "138    138         138            Cheese Slice        14    51.03     3.06   \n",
       "139    139         139              Sweet Corn        40    45.08     1.47   \n",
       "140    140         140    Mixed Fruit Beverage       180    72.25     0.65   \n",
       "\n",
       "     totalfat  satfat  transfat  cholestrol  carbs  sugar  addedsugar  \\\n",
       "0       13.83    5.34      0.16        2.49  56.54   7.90        4.49   \n",
       "1       11.31    4.27      0.20        1.47   5.27   7.05        4.07   \n",
       "2       39.45   17.12      0.18       21.85  52.33   8.35        5.27   \n",
       "3       39.10   19.73      0.26       40.93  59.27   3.50        1.08   \n",
       "4       23.45   10.51      0.17       25.24  56.96   7.85        4.76   \n",
       "..        ...     ...       ...         ...    ...    ...         ...   \n",
       "136     23.45    0.38      0.25        0.08   2.63   2.33        1.64   \n",
       "137      0.00    0.00      0.40        0.30  21.60  16.20        5.34   \n",
       "138      3.99    0.00      0.00       13.43   0.72   0.54        0.00   \n",
       "139      1.00    2.89      0.01        2.00   7.55   2.54        0.00   \n",
       "140      0.02    0.22      0.04        0.01  18.00  16.83        0.00   \n",
       "\n",
       "      sodium        menu  \n",
       "0     706.13     regular  \n",
       "1     545.34     regular  \n",
       "2    1074.58     regular  \n",
       "3    1087.46     regular  \n",
       "4    1051.24     regular  \n",
       "..       ...         ...  \n",
       "136   414.71  condiments  \n",
       "137    71.05  condiments  \n",
       "138    15.00  condiments  \n",
       "139   178.95  condiments  \n",
       "140     0.04  condiments  \n",
       "\n",
       "[141 rows x 15 columns]"
      ]
     },
     "execution_count": 5,
     "metadata": {},
     "output_type": "execute_result"
    }
   ],
   "source": [
    "# test whether we can insert rows to the tabla of MCDONALDS_NUTRITION\n",
    "df = pd.read_sql(\"SELECT * FROM MCDONALDS_NUTRITION\", conn)\n",
    "df"
   ]
  },
  {
   "cell_type": "markdown",
   "id": "373647bb",
   "metadata": {
    "papermill": {
     "duration": 0.008084,
     "end_time": "2024-04-30T05:39:30.561254",
     "exception": false,
     "start_time": "2024-04-30T05:39:30.553170",
     "status": "completed"
    },
    "tags": []
   },
   "source": [
    "View the summary statistics of the data"
   ]
  },
  {
   "cell_type": "code",
   "execution_count": 6,
   "id": "f9889ccd",
   "metadata": {
    "execution": {
     "iopub.execute_input": "2024-04-30T05:39:30.580588Z",
     "iopub.status.busy": "2024-04-30T05:39:30.580141Z",
     "iopub.status.idle": "2024-04-30T05:39:30.654834Z",
     "shell.execute_reply": "2024-04-30T05:39:30.653454Z"
    },
    "papermill": {
     "duration": 0.087991,
     "end_time": "2024-04-30T05:39:30.657654",
     "exception": false,
     "start_time": "2024-04-30T05:39:30.569663",
     "status": "completed"
    },
    "tags": []
   },
   "outputs": [
    {
     "data": {
      "text/html": [
       "<div>\n",
       "<style scoped>\n",
       "    .dataframe tbody tr th:only-of-type {\n",
       "        vertical-align: middle;\n",
       "    }\n",
       "\n",
       "    .dataframe tbody tr th {\n",
       "        vertical-align: top;\n",
       "    }\n",
       "\n",
       "    .dataframe thead th {\n",
       "        text-align: right;\n",
       "    }\n",
       "</style>\n",
       "<table border=\"1\" class=\"dataframe\">\n",
       "  <thead>\n",
       "    <tr style=\"text-align: right;\">\n",
       "      <th></th>\n",
       "      <th>index</th>\n",
       "      <th>Unnamed: 0</th>\n",
       "      <th>item</th>\n",
       "      <th>servesize</th>\n",
       "      <th>calories</th>\n",
       "      <th>protien</th>\n",
       "      <th>totalfat</th>\n",
       "      <th>satfat</th>\n",
       "      <th>transfat</th>\n",
       "      <th>cholestrol</th>\n",
       "      <th>carbs</th>\n",
       "      <th>sugar</th>\n",
       "      <th>addedsugar</th>\n",
       "      <th>sodium</th>\n",
       "      <th>menu</th>\n",
       "    </tr>\n",
       "  </thead>\n",
       "  <tbody>\n",
       "    <tr>\n",
       "      <th>count</th>\n",
       "      <td>141.000000</td>\n",
       "      <td>141.000000</td>\n",
       "      <td>141</td>\n",
       "      <td>141</td>\n",
       "      <td>141</td>\n",
       "      <td>141.000000</td>\n",
       "      <td>141.000000</td>\n",
       "      <td>141.000000</td>\n",
       "      <td>141.000000</td>\n",
       "      <td>141.000000</td>\n",
       "      <td>141.000000</td>\n",
       "      <td>141.000000</td>\n",
       "      <td>141.000000</td>\n",
       "      <td>141.000000</td>\n",
       "      <td>141</td>\n",
       "    </tr>\n",
       "    <tr>\n",
       "      <th>unique</th>\n",
       "      <td>NaN</td>\n",
       "      <td>NaN</td>\n",
       "      <td>141</td>\n",
       "      <td>120</td>\n",
       "      <td>140</td>\n",
       "      <td>NaN</td>\n",
       "      <td>NaN</td>\n",
       "      <td>NaN</td>\n",
       "      <td>NaN</td>\n",
       "      <td>NaN</td>\n",
       "      <td>NaN</td>\n",
       "      <td>NaN</td>\n",
       "      <td>NaN</td>\n",
       "      <td>NaN</td>\n",
       "      <td>7</td>\n",
       "    </tr>\n",
       "    <tr>\n",
       "      <th>top</th>\n",
       "      <td>NaN</td>\n",
       "      <td>NaN</td>\n",
       "      <td>McVeggie Burger</td>\n",
       "      <td>299</td>\n",
       "      <td>12.87</td>\n",
       "      <td>NaN</td>\n",
       "      <td>NaN</td>\n",
       "      <td>NaN</td>\n",
       "      <td>NaN</td>\n",
       "      <td>NaN</td>\n",
       "      <td>NaN</td>\n",
       "      <td>NaN</td>\n",
       "      <td>NaN</td>\n",
       "      <td>NaN</td>\n",
       "      <td>mccafe</td>\n",
       "    </tr>\n",
       "    <tr>\n",
       "      <th>freq</th>\n",
       "      <td>NaN</td>\n",
       "      <td>NaN</td>\n",
       "      <td>1</td>\n",
       "      <td>3</td>\n",
       "      <td>2</td>\n",
       "      <td>NaN</td>\n",
       "      <td>NaN</td>\n",
       "      <td>NaN</td>\n",
       "      <td>NaN</td>\n",
       "      <td>NaN</td>\n",
       "      <td>NaN</td>\n",
       "      <td>NaN</td>\n",
       "      <td>NaN</td>\n",
       "      <td>NaN</td>\n",
       "      <td>48</td>\n",
       "    </tr>\n",
       "    <tr>\n",
       "      <th>mean</th>\n",
       "      <td>70.000000</td>\n",
       "      <td>70.000000</td>\n",
       "      <td>NaN</td>\n",
       "      <td>NaN</td>\n",
       "      <td>NaN</td>\n",
       "      <td>7.493333</td>\n",
       "      <td>10.060355</td>\n",
       "      <td>5.000099</td>\n",
       "      <td>1.108865</td>\n",
       "      <td>26.321128</td>\n",
       "      <td>30.770851</td>\n",
       "      <td>15.409504</td>\n",
       "      <td>10.336950</td>\n",
       "      <td>362.918809</td>\n",
       "      <td>NaN</td>\n",
       "    </tr>\n",
       "    <tr>\n",
       "      <th>std</th>\n",
       "      <td>40.847277</td>\n",
       "      <td>40.847277</td>\n",
       "      <td>NaN</td>\n",
       "      <td>NaN</td>\n",
       "      <td>NaN</td>\n",
       "      <td>8.336949</td>\n",
       "      <td>10.435455</td>\n",
       "      <td>4.898097</td>\n",
       "      <td>7.319814</td>\n",
       "      <td>50.348006</td>\n",
       "      <td>20.664969</td>\n",
       "      <td>15.674007</td>\n",
       "      <td>14.283388</td>\n",
       "      <td>477.792553</td>\n",
       "      <td>NaN</td>\n",
       "    </tr>\n",
       "    <tr>\n",
       "      <th>min</th>\n",
       "      <td>0.000000</td>\n",
       "      <td>0.000000</td>\n",
       "      <td>NaN</td>\n",
       "      <td>NaN</td>\n",
       "      <td>NaN</td>\n",
       "      <td>0.000000</td>\n",
       "      <td>0.000000</td>\n",
       "      <td>0.000000</td>\n",
       "      <td>0.000000</td>\n",
       "      <td>0.000000</td>\n",
       "      <td>0.000000</td>\n",
       "      <td>0.000000</td>\n",
       "      <td>0.000000</td>\n",
       "      <td>0.000000</td>\n",
       "      <td>NaN</td>\n",
       "    </tr>\n",
       "    <tr>\n",
       "      <th>25%</th>\n",
       "      <td>35.000000</td>\n",
       "      <td>35.000000</td>\n",
       "      <td>NaN</td>\n",
       "      <td>NaN</td>\n",
       "      <td>NaN</td>\n",
       "      <td>0.650000</td>\n",
       "      <td>0.460000</td>\n",
       "      <td>0.330000</td>\n",
       "      <td>0.070000</td>\n",
       "      <td>1.470000</td>\n",
       "      <td>15.630000</td>\n",
       "      <td>2.280000</td>\n",
       "      <td>0.000000</td>\n",
       "      <td>41.990000</td>\n",
       "      <td>NaN</td>\n",
       "    </tr>\n",
       "    <tr>\n",
       "      <th>50%</th>\n",
       "      <td>70.000000</td>\n",
       "      <td>70.000000</td>\n",
       "      <td>NaN</td>\n",
       "      <td>NaN</td>\n",
       "      <td>NaN</td>\n",
       "      <td>4.790000</td>\n",
       "      <td>7.770000</td>\n",
       "      <td>4.270000</td>\n",
       "      <td>0.150000</td>\n",
       "      <td>8.390000</td>\n",
       "      <td>29.880000</td>\n",
       "      <td>9.160000</td>\n",
       "      <td>3.640000</td>\n",
       "      <td>150.900000</td>\n",
       "      <td>NaN</td>\n",
       "    </tr>\n",
       "    <tr>\n",
       "      <th>75%</th>\n",
       "      <td>105.000000</td>\n",
       "      <td>105.000000</td>\n",
       "      <td>NaN</td>\n",
       "      <td>NaN</td>\n",
       "      <td>NaN</td>\n",
       "      <td>10.880000</td>\n",
       "      <td>14.160000</td>\n",
       "      <td>7.280000</td>\n",
       "      <td>0.250000</td>\n",
       "      <td>31.110000</td>\n",
       "      <td>45.390000</td>\n",
       "      <td>26.950000</td>\n",
       "      <td>19.230000</td>\n",
       "      <td>530.540000</td>\n",
       "      <td>NaN</td>\n",
       "    </tr>\n",
       "    <tr>\n",
       "      <th>max</th>\n",
       "      <td>140.000000</td>\n",
       "      <td>140.000000</td>\n",
       "      <td>NaN</td>\n",
       "      <td>NaN</td>\n",
       "      <td>NaN</td>\n",
       "      <td>39.470000</td>\n",
       "      <td>45.180000</td>\n",
       "      <td>20.460000</td>\n",
       "      <td>75.260000</td>\n",
       "      <td>302.610000</td>\n",
       "      <td>93.840000</td>\n",
       "      <td>64.220000</td>\n",
       "      <td>64.220000</td>\n",
       "      <td>2399.490000</td>\n",
       "      <td>NaN</td>\n",
       "    </tr>\n",
       "  </tbody>\n",
       "</table>\n",
       "</div>"
      ],
      "text/plain": [
       "             index  Unnamed: 0             item servesize calories  \\\n",
       "count   141.000000  141.000000              141       141      141   \n",
       "unique         NaN         NaN              141       120      140   \n",
       "top            NaN         NaN  McVeggie Burger      299     12.87   \n",
       "freq           NaN         NaN                1         3        2   \n",
       "mean     70.000000   70.000000              NaN       NaN      NaN   \n",
       "std      40.847277   40.847277              NaN       NaN      NaN   \n",
       "min       0.000000    0.000000              NaN       NaN      NaN   \n",
       "25%      35.000000   35.000000              NaN       NaN      NaN   \n",
       "50%      70.000000   70.000000              NaN       NaN      NaN   \n",
       "75%     105.000000  105.000000              NaN       NaN      NaN   \n",
       "max     140.000000  140.000000              NaN       NaN      NaN   \n",
       "\n",
       "           protien    totalfat      satfat    transfat  cholestrol  \\\n",
       "count   141.000000  141.000000  141.000000  141.000000  141.000000   \n",
       "unique         NaN         NaN         NaN         NaN         NaN   \n",
       "top            NaN         NaN         NaN         NaN         NaN   \n",
       "freq           NaN         NaN         NaN         NaN         NaN   \n",
       "mean      7.493333   10.060355    5.000099    1.108865   26.321128   \n",
       "std       8.336949   10.435455    4.898097    7.319814   50.348006   \n",
       "min       0.000000    0.000000    0.000000    0.000000    0.000000   \n",
       "25%       0.650000    0.460000    0.330000    0.070000    1.470000   \n",
       "50%       4.790000    7.770000    4.270000    0.150000    8.390000   \n",
       "75%      10.880000   14.160000    7.280000    0.250000   31.110000   \n",
       "max      39.470000   45.180000   20.460000   75.260000  302.610000   \n",
       "\n",
       "             carbs       sugar  addedsugar       sodium    menu  \n",
       "count   141.000000  141.000000  141.000000   141.000000     141  \n",
       "unique         NaN         NaN         NaN          NaN       7  \n",
       "top            NaN         NaN         NaN          NaN  mccafe  \n",
       "freq           NaN         NaN         NaN          NaN      48  \n",
       "mean     30.770851   15.409504   10.336950   362.918809     NaN  \n",
       "std      20.664969   15.674007   14.283388   477.792553     NaN  \n",
       "min       0.000000    0.000000    0.000000     0.000000     NaN  \n",
       "25%      15.630000    2.280000    0.000000    41.990000     NaN  \n",
       "50%      29.880000    9.160000    3.640000   150.900000     NaN  \n",
       "75%      45.390000   26.950000   19.230000   530.540000     NaN  \n",
       "max      93.840000   64.220000   64.220000  2399.490000     NaN  "
      ]
     },
     "execution_count": 6,
     "metadata": {},
     "output_type": "execute_result"
    }
   ],
   "source": [
    "df.describe(include = 'all')"
   ]
  },
  {
   "cell_type": "markdown",
   "id": "24f052d9",
   "metadata": {
    "papermill": {
     "duration": 0.008517,
     "end_time": "2024-04-30T05:39:30.675178",
     "exception": false,
     "start_time": "2024-04-30T05:39:30.666661",
     "status": "completed"
    },
    "tags": []
   },
   "source": [
    "**Which food item has maximum sodium content?**"
   ]
  },
  {
   "cell_type": "code",
   "execution_count": 7,
   "id": "44a2e51c",
   "metadata": {
    "execution": {
     "iopub.execute_input": "2024-04-30T05:39:30.695609Z",
     "iopub.status.busy": "2024-04-30T05:39:30.694658Z",
     "iopub.status.idle": "2024-04-30T05:39:32.287130Z",
     "shell.execute_reply": "2024-04-30T05:39:32.285292Z"
    },
    "papermill": {
     "duration": 1.606725,
     "end_time": "2024-04-30T05:39:32.290853",
     "exception": false,
     "start_time": "2024-04-30T05:39:30.684128",
     "status": "completed"
    },
    "tags": []
   },
   "outputs": [],
   "source": [
    "import matplotlib.pyplot as plt\n",
    "%matplotlib inline\n",
    "import seaborn as sns"
   ]
  },
  {
   "cell_type": "code",
   "execution_count": 8,
   "id": "9d5cb692",
   "metadata": {
    "execution": {
     "iopub.execute_input": "2024-04-30T05:39:32.312033Z",
     "iopub.status.busy": "2024-04-30T05:39:32.311580Z",
     "iopub.status.idle": "2024-04-30T05:39:33.306665Z",
     "shell.execute_reply": "2024-04-30T05:39:33.305240Z"
    },
    "papermill": {
     "duration": 1.010405,
     "end_time": "2024-04-30T05:39:33.309904",
     "exception": false,
     "start_time": "2024-04-30T05:39:32.299499",
     "status": "completed"
    },
    "tags": []
   },
   "outputs": [
    {
     "name": "stderr",
     "output_type": "stream",
     "text": [
      "/opt/conda/lib/python3.10/site-packages/seaborn/_oldcore.py:1119: FutureWarning: use_inf_as_na option is deprecated and will be removed in a future version. Convert inf values to NaN before operating instead.\n",
      "  with pd.option_context('mode.use_inf_as_na', True):\n",
      "/opt/conda/lib/python3.10/site-packages/seaborn/_oldcore.py:1119: FutureWarning: use_inf_as_na option is deprecated and will be removed in a future version. Convert inf values to NaN before operating instead.\n",
      "  with pd.option_context('mode.use_inf_as_na', True):\n",
      "/opt/conda/lib/python3.10/site-packages/seaborn/_oldcore.py:1075: FutureWarning: When grouping with a length-1 list-like, you will need to pass a length-1 tuple to get_group in a future version of pandas. Pass `(name,)` instead of `name` to silence this warning.\n",
      "  data_subset = grouped_data.get_group(pd_key)\n",
      "/opt/conda/lib/python3.10/site-packages/seaborn/categorical.py:3544: UserWarning: 25.0% of the points cannot be placed; you may want to decrease the size of the markers or use stripplot.\n",
      "  warnings.warn(msg, UserWarning)\n",
      "/opt/conda/lib/python3.10/site-packages/seaborn/categorical.py:3544: UserWarning: 5.9% of the points cannot be placed; you may want to decrease the size of the markers or use stripplot.\n",
      "  warnings.warn(msg, UserWarning)\n",
      "/opt/conda/lib/python3.10/site-packages/seaborn/categorical.py:3544: UserWarning: 33.3% of the points cannot be placed; you may want to decrease the size of the markers or use stripplot.\n",
      "  warnings.warn(msg, UserWarning)\n",
      "/opt/conda/lib/python3.10/site-packages/seaborn/categorical.py:3544: UserWarning: 11.8% of the points cannot be placed; you may want to decrease the size of the markers or use stripplot.\n",
      "  warnings.warn(msg, UserWarning)\n"
     ]
    },
    {
     "data": {
      "image/png": "[encoded data removed]",
      "text/plain": [
       "<Figure size 640x480 with 1 Axes>"
      ]
     },
     "metadata": {},
     "output_type": "display_data"
    }
   ],
   "source": [
    "plot = sns.swarmplot(x=\"menu\", y=\"sodium\", data=df)\n",
    "plt.setp(plot.get_xticklabels(), rotation=70)\n",
    "plt.title('Sodium Content')\n",
    "plt.show()"
   ]
  },
  {
   "cell_type": "code",
   "execution_count": 9,
   "id": "707c1d62",
   "metadata": {
    "execution": {
     "iopub.execute_input": "2024-04-30T05:39:33.332316Z",
     "iopub.status.busy": "2024-04-30T05:39:33.331838Z",
     "iopub.status.idle": "2024-04-30T05:39:33.349356Z",
     "shell.execute_reply": "2024-04-30T05:39:33.347624Z"
    },
    "papermill": {
     "duration": 0.032533,
     "end_time": "2024-04-30T05:39:33.352346",
     "exception": false,
     "start_time": "2024-04-30T05:39:33.319813",
     "status": "completed"
    },
    "tags": []
   },
   "outputs": [
    {
     "data": {
      "text/plain": [
       "count     141.000000\n",
       "mean      362.918809\n",
       "std       477.792553\n",
       "min         0.000000\n",
       "25%        41.990000\n",
       "50%       150.900000\n",
       "75%       530.540000\n",
       "max      2399.490000\n",
       "Name: sodium, dtype: float64"
      ]
     },
     "execution_count": 9,
     "metadata": {},
     "output_type": "execute_result"
    }
   ],
   "source": [
    "df['sodium'].describe()"
   ]
  },
  {
   "cell_type": "code",
   "execution_count": 10,
   "id": "5f496827",
   "metadata": {
    "execution": {
     "iopub.execute_input": "2024-04-30T05:39:33.374328Z",
     "iopub.status.busy": "2024-04-30T05:39:33.373902Z",
     "iopub.status.idle": "2024-04-30T05:39:33.383503Z",
     "shell.execute_reply": "2024-04-30T05:39:33.381915Z"
    },
    "papermill": {
     "duration": 0.024068,
     "end_time": "2024-04-30T05:39:33.386536",
     "exception": false,
     "start_time": "2024-04-30T05:39:33.362468",
     "status": "completed"
    },
    "tags": []
   },
   "outputs": [
    {
     "data": {
      "text/plain": [
       "18"
      ]
     },
     "execution_count": 10,
     "metadata": {},
     "output_type": "execute_result"
    }
   ],
   "source": [
    "df['sodium'].idxmax()"
   ]
  },
  {
   "cell_type": "code",
   "execution_count": 11,
   "id": "ef19afc5",
   "metadata": {
    "execution": {
     "iopub.execute_input": "2024-04-30T05:39:33.409556Z",
     "iopub.status.busy": "2024-04-30T05:39:33.409114Z",
     "iopub.status.idle": "2024-04-30T05:39:33.417726Z",
     "shell.execute_reply": "2024-04-30T05:39:33.416310Z"
    },
    "papermill": {
     "duration": 0.023535,
     "end_time": "2024-04-30T05:39:33.420465",
     "exception": false,
     "start_time": "2024-04-30T05:39:33.396930",
     "status": "completed"
    },
    "tags": []
   },
   "outputs": [
    {
     "data": {
      "text/plain": [
       "'Ghee Rice with Mc Spicy Fried Chicken 1 pc'"
      ]
     },
     "execution_count": 11,
     "metadata": {},
     "output_type": "execute_result"
    }
   ],
   "source": [
    "df.at[18, 'item']"
   ]
  },
  {
   "cell_type": "markdown",
   "id": "b2d31d86",
   "metadata": {
    "papermill": {
     "duration": 0.009707,
     "end_time": "2024-04-30T05:39:33.441141",
     "exception": false,
     "start_time": "2024-04-30T05:39:33.431434",
     "status": "completed"
    },
    "tags": []
   },
   "source": [
    "**Further Data Exploration using Scatter Plots**"
   ]
  },
  {
   "cell_type": "code",
   "execution_count": 12,
   "id": "89527ec5",
   "metadata": {
    "execution": {
     "iopub.execute_input": "2024-04-30T05:39:33.464630Z",
     "iopub.status.busy": "2024-04-30T05:39:33.464133Z",
     "iopub.status.idle": "2024-04-30T05:39:34.417773Z",
     "shell.execute_reply": "2024-04-30T05:39:34.416447Z"
    },
    "papermill": {
     "duration": 0.968439,
     "end_time": "2024-04-30T05:39:34.420320",
     "exception": false,
     "start_time": "2024-04-30T05:39:33.451881",
     "status": "completed"
    },
    "tags": []
   },
   "outputs": [
    {
     "name": "stderr",
     "output_type": "stream",
     "text": [
      "/opt/conda/lib/python3.10/site-packages/seaborn/_oldcore.py:1119: FutureWarning: use_inf_as_na option is deprecated and will be removed in a future version. Convert inf values to NaN before operating instead.\n",
      "  with pd.option_context('mode.use_inf_as_na', True):\n",
      "/opt/conda/lib/python3.10/site-packages/seaborn/_oldcore.py:1119: FutureWarning: use_inf_as_na option is deprecated and will be removed in a future version. Convert inf values to NaN before operating instead.\n",
      "  with pd.option_context('mode.use_inf_as_na', True):\n"
     ]
    },
    {
     "data": {
      "image/png": "[encoded data removed]",
      "text/plain": [
       "<Figure size 600x600 with 3 Axes>"
      ]
     },
     "metadata": {},
     "output_type": "display_data"
    }
   ],
   "source": [
    "plot = sns.jointplot(x = \"protien\", y = \"totalfat\", data = df)"
   ]
  },
  {
   "cell_type": "markdown",
   "id": "0148c805",
   "metadata": {
    "papermill": {
     "duration": 0.010301,
     "end_time": "2024-04-30T05:39:34.441075",
     "exception": false,
     "start_time": "2024-04-30T05:39:34.430774",
     "status": "completed"
    },
    "tags": []
   },
   "source": [
    "**Further Data Exploration using Box Plots**"
   ]
  },
  {
   "cell_type": "code",
   "execution_count": 13,
   "id": "b62456cf",
   "metadata": {
    "execution": {
     "iopub.execute_input": "2024-04-30T05:39:34.465339Z",
     "iopub.status.busy": "2024-04-30T05:39:34.464819Z",
     "iopub.status.idle": "2024-04-30T05:39:34.788695Z",
     "shell.execute_reply": "2024-04-30T05:39:34.787418Z"
    },
    "papermill": {
     "duration": 0.340024,
     "end_time": "2024-04-30T05:39:34.791853",
     "exception": false,
     "start_time": "2024-04-30T05:39:34.451829",
     "status": "completed"
    },
    "tags": []
   },
   "outputs": [
    {
     "data": {
      "image/png": "[encoded data removed]",
      "text/plain": [
       "<Figure size 640x480 with 1 Axes>"
      ]
     },
     "metadata": {},
     "output_type": "display_data"
    }
   ],
   "source": [
    "plot = sns.set_style(\"whitegrid\")\n",
    "ax = sns.boxplot(x=df[\"sugar\"])"
   ]
  }
 ],
 "metadata": {
  "kaggle": {
   "accelerator": "none",
   "dataSources": [
    {
     "datasetId": 3288856,
     "sourceId": 5719843,
     "sourceType": "datasetVersion"
    }
   ],
   "dockerImageVersionId": 30698,
   "isGpuEnabled": false,
   "isInternetEnabled": true,
   "language": "python",
   "sourceType": "notebook"
  },
  "kernelspec": {
   "display_name": "Python 3",
   "language": "python",
   "name": "python3"
  },
  "language_info": {
   "codemirror_mode": {
    "name": "ipython",
    "version": 3
   },
   "file_extension": ".py",
   "mimetype": "text/x-python",
   "name": "python",
   "nbconvert_exporter": "python",
   "pygments_lexer": "ipython3",
   "version": "3.10.13"
  },
  "papermill": {
   "default_parameters": {},
   "duration": 10.088091,
   "end_time": "2024-04-30T05:39:35.627663",
   "environment_variables": {},
   "exception": null,
   "input_path": "__notebook__.ipynb",
   "output_path": "__notebook__.ipynb",
   "parameters": {},
   "start_time": "2024-04-30T05:39:25.539572",
   "version": "2.5.0"
  }
 },
 "nbformat": 4,
 "nbformat_minor": 5
}
